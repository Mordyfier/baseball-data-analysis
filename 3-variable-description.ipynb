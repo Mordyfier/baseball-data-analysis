{
  "nbformat": 4,
  "nbformat_minor": 0,
  "metadata": {
    "colab": {
      "name": "3-variable-description.ipynb",
      "provenance": [],
      "collapsed_sections": [],
      "toc_visible": true,
      "authorship_tag": "ABX9TyNFuREQ/FbXKK87dj48IzuR",
      "include_colab_link": true
    },
    "kernelspec": {
      "name": "python3",
      "display_name": "Python 3"
    },
    "language_info": {
      "name": "python"
    }
  },
  "cells": [
    {
      "cell_type": "markdown",
      "metadata": {
        "id": "view-in-github",
        "colab_type": "text"
      },
      "source": [
        "<a href=\"https://colab.research.google.com/github/Mordyfier/baseball-data-analysis/blob/master/3-variable-description.ipynb\" target=\"_parent\"><img src=\"https://colab.research.google.com/assets/colab-badge.svg\" alt=\"Open In Colab\"/></a>"
      ]
    },
    {
      "cell_type": "code",
      "metadata": {
        "id": "IPnZWa6dwJMx"
      },
      "source": [
        "import numpy as np\n",
        "import pandas as pd\n",
        "import seaborn as sns\n",
        "import matplotlib.pyplot as plt\n",
        "import scipy as sp"
      ],
      "execution_count": null,
      "outputs": []
    },
    {
      "cell_type": "code",
      "metadata": {
        "id": "rPW7zYILvGZQ"
      },
      "source": [
        "url = 'https://drive.google.com/uc?id=1JAbg8D_2Ui4ittfs7O6YgAo-TwfUfmtJ'\n",
        "baseball = pd.read_csv(url)"
      ],
      "execution_count": null,
      "outputs": []
    },
    {
      "cell_type": "markdown",
      "metadata": {
        "id": "Ibh_8PDXWbQP"
      },
      "source": [
        "## 1. Further improvements on the dataset"
      ]
    },
    {
      "cell_type": "markdown",
      "metadata": {
        "id": "XiROZGFJkhlI"
      },
      "source": [
        "### More intelligent indexing"
      ]
    },
    {
      "cell_type": "markdown",
      "metadata": {
        "id": "Trr6TNKWWjFS"
      },
      "source": [
        "Even though the above dataset is in a decent shape, there are still aspects of it that would benefit from further improvement. For one, an explicit index of 0-1231 is meaningless and not very useful for accessing rows - it would be more convenient to use something else. However, Indexing by year or by team alone would also not be a great idea, given that for each year and for each team there are many fields (all the teams' rows in a given year and each team's seasons through the years for a given team, respectively). We can, however, assign the combination of Year and Team as a multi-index, as follows: "
      ]
    },
    {
      "cell_type": "code",
      "metadata": {
        "id": "F83xi2scwQ1G",
        "colab": {
          "base_uri": "https://localhost:8080/",
          "height": 1000
        },
        "outputId": "2ba419c2-af9f-4180-97c3-e2857fdc416d"
      },
      "source": [
        "baseball = baseball.set_index(['Year', 'Team'])\n",
        "baseball.head(30)"
      ],
      "execution_count": null,
      "outputs": [
        {
          "output_type": "execute_result",
          "data": {
            "text/html": [
              "<div>\n",
              "<style scoped>\n",
              "    .dataframe tbody tr th:only-of-type {\n",
              "        vertical-align: middle;\n",
              "    }\n",
              "\n",
              "    .dataframe tbody tr th {\n",
              "        vertical-align: top;\n",
              "    }\n",
              "\n",
              "    .dataframe thead th {\n",
              "        text-align: right;\n",
              "    }\n",
              "</style>\n",
              "<table border=\"1\" class=\"dataframe\">\n",
              "  <thead>\n",
              "    <tr style=\"text-align: right;\">\n",
              "      <th></th>\n",
              "      <th></th>\n",
              "      <th>League</th>\n",
              "      <th>G</th>\n",
              "      <th>W</th>\n",
              "      <th>L</th>\n",
              "      <th>Playoffs</th>\n",
              "      <th>RankSeason</th>\n",
              "      <th>RankPlayoffs</th>\n",
              "      <th>RS</th>\n",
              "      <th>RA</th>\n",
              "      <th>BA</th>\n",
              "      <th>OBP</th>\n",
              "      <th>SLG</th>\n",
              "      <th>OPS</th>\n",
              "      <th>OOBP</th>\n",
              "      <th>OSLG</th>\n",
              "    </tr>\n",
              "    <tr>\n",
              "      <th>Year</th>\n",
              "      <th>Team</th>\n",
              "      <th></th>\n",
              "      <th></th>\n",
              "      <th></th>\n",
              "      <th></th>\n",
              "      <th></th>\n",
              "      <th></th>\n",
              "      <th></th>\n",
              "      <th></th>\n",
              "      <th></th>\n",
              "      <th></th>\n",
              "      <th></th>\n",
              "      <th></th>\n",
              "      <th></th>\n",
              "      <th></th>\n",
              "      <th></th>\n",
              "    </tr>\n",
              "  </thead>\n",
              "  <tbody>\n",
              "    <tr>\n",
              "      <th rowspan=\"30\" valign=\"top\">2012</th>\n",
              "      <th>ARI</th>\n",
              "      <td>NL</td>\n",
              "      <td>162</td>\n",
              "      <td>81</td>\n",
              "      <td>81</td>\n",
              "      <td>False</td>\n",
              "      <td>NaN</td>\n",
              "      <td>NaN</td>\n",
              "      <td>734</td>\n",
              "      <td>688</td>\n",
              "      <td>0.259</td>\n",
              "      <td>0.328</td>\n",
              "      <td>0.418</td>\n",
              "      <td>0.746</td>\n",
              "      <td>0.317</td>\n",
              "      <td>0.415</td>\n",
              "    </tr>\n",
              "    <tr>\n",
              "      <th>ATL</th>\n",
              "      <td>NL</td>\n",
              "      <td>162</td>\n",
              "      <td>94</td>\n",
              "      <td>68</td>\n",
              "      <td>True</td>\n",
              "      <td>4.0</td>\n",
              "      <td>5.0</td>\n",
              "      <td>700</td>\n",
              "      <td>600</td>\n",
              "      <td>0.247</td>\n",
              "      <td>0.320</td>\n",
              "      <td>0.389</td>\n",
              "      <td>0.709</td>\n",
              "      <td>0.306</td>\n",
              "      <td>0.378</td>\n",
              "    </tr>\n",
              "    <tr>\n",
              "      <th>BAL</th>\n",
              "      <td>AL</td>\n",
              "      <td>162</td>\n",
              "      <td>93</td>\n",
              "      <td>69</td>\n",
              "      <td>True</td>\n",
              "      <td>5.0</td>\n",
              "      <td>4.0</td>\n",
              "      <td>712</td>\n",
              "      <td>705</td>\n",
              "      <td>0.247</td>\n",
              "      <td>0.311</td>\n",
              "      <td>0.417</td>\n",
              "      <td>0.728</td>\n",
              "      <td>0.315</td>\n",
              "      <td>0.403</td>\n",
              "    </tr>\n",
              "    <tr>\n",
              "      <th>BOS</th>\n",
              "      <td>AL</td>\n",
              "      <td>162</td>\n",
              "      <td>69</td>\n",
              "      <td>93</td>\n",
              "      <td>False</td>\n",
              "      <td>NaN</td>\n",
              "      <td>NaN</td>\n",
              "      <td>734</td>\n",
              "      <td>806</td>\n",
              "      <td>0.260</td>\n",
              "      <td>0.315</td>\n",
              "      <td>0.415</td>\n",
              "      <td>0.730</td>\n",
              "      <td>0.331</td>\n",
              "      <td>0.428</td>\n",
              "    </tr>\n",
              "    <tr>\n",
              "      <th>CHC</th>\n",
              "      <td>NL</td>\n",
              "      <td>162</td>\n",
              "      <td>61</td>\n",
              "      <td>101</td>\n",
              "      <td>False</td>\n",
              "      <td>NaN</td>\n",
              "      <td>NaN</td>\n",
              "      <td>613</td>\n",
              "      <td>759</td>\n",
              "      <td>0.240</td>\n",
              "      <td>0.302</td>\n",
              "      <td>0.378</td>\n",
              "      <td>0.680</td>\n",
              "      <td>0.335</td>\n",
              "      <td>0.424</td>\n",
              "    </tr>\n",
              "    <tr>\n",
              "      <th>CHW</th>\n",
              "      <td>AL</td>\n",
              "      <td>162</td>\n",
              "      <td>85</td>\n",
              "      <td>77</td>\n",
              "      <td>False</td>\n",
              "      <td>NaN</td>\n",
              "      <td>NaN</td>\n",
              "      <td>748</td>\n",
              "      <td>676</td>\n",
              "      <td>0.255</td>\n",
              "      <td>0.318</td>\n",
              "      <td>0.422</td>\n",
              "      <td>0.740</td>\n",
              "      <td>0.319</td>\n",
              "      <td>0.405</td>\n",
              "    </tr>\n",
              "    <tr>\n",
              "      <th>CIN</th>\n",
              "      <td>NL</td>\n",
              "      <td>162</td>\n",
              "      <td>97</td>\n",
              "      <td>65</td>\n",
              "      <td>True</td>\n",
              "      <td>2.0</td>\n",
              "      <td>4.0</td>\n",
              "      <td>669</td>\n",
              "      <td>588</td>\n",
              "      <td>0.251</td>\n",
              "      <td>0.315</td>\n",
              "      <td>0.411</td>\n",
              "      <td>0.726</td>\n",
              "      <td>0.305</td>\n",
              "      <td>0.390</td>\n",
              "    </tr>\n",
              "    <tr>\n",
              "      <th>CLE</th>\n",
              "      <td>AL</td>\n",
              "      <td>162</td>\n",
              "      <td>68</td>\n",
              "      <td>94</td>\n",
              "      <td>False</td>\n",
              "      <td>NaN</td>\n",
              "      <td>NaN</td>\n",
              "      <td>667</td>\n",
              "      <td>845</td>\n",
              "      <td>0.251</td>\n",
              "      <td>0.324</td>\n",
              "      <td>0.381</td>\n",
              "      <td>0.705</td>\n",
              "      <td>0.336</td>\n",
              "      <td>0.430</td>\n",
              "    </tr>\n",
              "    <tr>\n",
              "      <th>COL</th>\n",
              "      <td>NL</td>\n",
              "      <td>162</td>\n",
              "      <td>64</td>\n",
              "      <td>98</td>\n",
              "      <td>False</td>\n",
              "      <td>NaN</td>\n",
              "      <td>NaN</td>\n",
              "      <td>758</td>\n",
              "      <td>890</td>\n",
              "      <td>0.274</td>\n",
              "      <td>0.330</td>\n",
              "      <td>0.436</td>\n",
              "      <td>0.766</td>\n",
              "      <td>0.357</td>\n",
              "      <td>0.470</td>\n",
              "    </tr>\n",
              "    <tr>\n",
              "      <th>DET</th>\n",
              "      <td>AL</td>\n",
              "      <td>162</td>\n",
              "      <td>88</td>\n",
              "      <td>74</td>\n",
              "      <td>True</td>\n",
              "      <td>6.0</td>\n",
              "      <td>2.0</td>\n",
              "      <td>726</td>\n",
              "      <td>670</td>\n",
              "      <td>0.268</td>\n",
              "      <td>0.335</td>\n",
              "      <td>0.422</td>\n",
              "      <td>0.757</td>\n",
              "      <td>0.314</td>\n",
              "      <td>0.402</td>\n",
              "    </tr>\n",
              "    <tr>\n",
              "      <th>HOU</th>\n",
              "      <td>NL</td>\n",
              "      <td>162</td>\n",
              "      <td>55</td>\n",
              "      <td>107</td>\n",
              "      <td>False</td>\n",
              "      <td>NaN</td>\n",
              "      <td>NaN</td>\n",
              "      <td>583</td>\n",
              "      <td>794</td>\n",
              "      <td>0.236</td>\n",
              "      <td>0.302</td>\n",
              "      <td>0.371</td>\n",
              "      <td>0.673</td>\n",
              "      <td>0.337</td>\n",
              "      <td>0.427</td>\n",
              "    </tr>\n",
              "    <tr>\n",
              "      <th>KCR</th>\n",
              "      <td>AL</td>\n",
              "      <td>162</td>\n",
              "      <td>72</td>\n",
              "      <td>90</td>\n",
              "      <td>False</td>\n",
              "      <td>NaN</td>\n",
              "      <td>NaN</td>\n",
              "      <td>676</td>\n",
              "      <td>746</td>\n",
              "      <td>0.265</td>\n",
              "      <td>0.317</td>\n",
              "      <td>0.400</td>\n",
              "      <td>0.717</td>\n",
              "      <td>0.339</td>\n",
              "      <td>0.423</td>\n",
              "    </tr>\n",
              "    <tr>\n",
              "      <th>LAA</th>\n",
              "      <td>AL</td>\n",
              "      <td>162</td>\n",
              "      <td>89</td>\n",
              "      <td>73</td>\n",
              "      <td>False</td>\n",
              "      <td>NaN</td>\n",
              "      <td>NaN</td>\n",
              "      <td>767</td>\n",
              "      <td>699</td>\n",
              "      <td>0.274</td>\n",
              "      <td>0.332</td>\n",
              "      <td>0.433</td>\n",
              "      <td>0.765</td>\n",
              "      <td>0.310</td>\n",
              "      <td>0.403</td>\n",
              "    </tr>\n",
              "    <tr>\n",
              "      <th>LAD</th>\n",
              "      <td>NL</td>\n",
              "      <td>162</td>\n",
              "      <td>86</td>\n",
              "      <td>76</td>\n",
              "      <td>False</td>\n",
              "      <td>NaN</td>\n",
              "      <td>NaN</td>\n",
              "      <td>637</td>\n",
              "      <td>597</td>\n",
              "      <td>0.252</td>\n",
              "      <td>0.317</td>\n",
              "      <td>0.374</td>\n",
              "      <td>0.691</td>\n",
              "      <td>0.310</td>\n",
              "      <td>0.364</td>\n",
              "    </tr>\n",
              "    <tr>\n",
              "      <th>MIA</th>\n",
              "      <td>NL</td>\n",
              "      <td>162</td>\n",
              "      <td>69</td>\n",
              "      <td>93</td>\n",
              "      <td>False</td>\n",
              "      <td>NaN</td>\n",
              "      <td>NaN</td>\n",
              "      <td>609</td>\n",
              "      <td>724</td>\n",
              "      <td>0.244</td>\n",
              "      <td>0.308</td>\n",
              "      <td>0.382</td>\n",
              "      <td>0.690</td>\n",
              "      <td>0.327</td>\n",
              "      <td>0.399</td>\n",
              "    </tr>\n",
              "    <tr>\n",
              "      <th>MIL</th>\n",
              "      <td>NL</td>\n",
              "      <td>162</td>\n",
              "      <td>83</td>\n",
              "      <td>79</td>\n",
              "      <td>False</td>\n",
              "      <td>NaN</td>\n",
              "      <td>NaN</td>\n",
              "      <td>776</td>\n",
              "      <td>733</td>\n",
              "      <td>0.259</td>\n",
              "      <td>0.325</td>\n",
              "      <td>0.437</td>\n",
              "      <td>0.762</td>\n",
              "      <td>0.326</td>\n",
              "      <td>0.414</td>\n",
              "    </tr>\n",
              "    <tr>\n",
              "      <th>MIN</th>\n",
              "      <td>AL</td>\n",
              "      <td>162</td>\n",
              "      <td>66</td>\n",
              "      <td>96</td>\n",
              "      <td>False</td>\n",
              "      <td>NaN</td>\n",
              "      <td>NaN</td>\n",
              "      <td>701</td>\n",
              "      <td>832</td>\n",
              "      <td>0.260</td>\n",
              "      <td>0.325</td>\n",
              "      <td>0.390</td>\n",
              "      <td>0.715</td>\n",
              "      <td>0.333</td>\n",
              "      <td>0.442</td>\n",
              "    </tr>\n",
              "    <tr>\n",
              "      <th>NYM</th>\n",
              "      <td>NL</td>\n",
              "      <td>162</td>\n",
              "      <td>74</td>\n",
              "      <td>88</td>\n",
              "      <td>False</td>\n",
              "      <td>NaN</td>\n",
              "      <td>NaN</td>\n",
              "      <td>650</td>\n",
              "      <td>709</td>\n",
              "      <td>0.249</td>\n",
              "      <td>0.316</td>\n",
              "      <td>0.386</td>\n",
              "      <td>0.702</td>\n",
              "      <td>0.315</td>\n",
              "      <td>0.401</td>\n",
              "    </tr>\n",
              "    <tr>\n",
              "      <th>NYY</th>\n",
              "      <td>AL</td>\n",
              "      <td>162</td>\n",
              "      <td>95</td>\n",
              "      <td>67</td>\n",
              "      <td>True</td>\n",
              "      <td>3.0</td>\n",
              "      <td>3.0</td>\n",
              "      <td>804</td>\n",
              "      <td>668</td>\n",
              "      <td>0.265</td>\n",
              "      <td>0.337</td>\n",
              "      <td>0.453</td>\n",
              "      <td>0.790</td>\n",
              "      <td>0.311</td>\n",
              "      <td>0.419</td>\n",
              "    </tr>\n",
              "    <tr>\n",
              "      <th>OAK</th>\n",
              "      <td>AL</td>\n",
              "      <td>162</td>\n",
              "      <td>94</td>\n",
              "      <td>68</td>\n",
              "      <td>True</td>\n",
              "      <td>4.0</td>\n",
              "      <td>4.0</td>\n",
              "      <td>713</td>\n",
              "      <td>614</td>\n",
              "      <td>0.238</td>\n",
              "      <td>0.310</td>\n",
              "      <td>0.404</td>\n",
              "      <td>0.714</td>\n",
              "      <td>0.306</td>\n",
              "      <td>0.378</td>\n",
              "    </tr>\n",
              "    <tr>\n",
              "      <th>PHI</th>\n",
              "      <td>NL</td>\n",
              "      <td>162</td>\n",
              "      <td>81</td>\n",
              "      <td>81</td>\n",
              "      <td>False</td>\n",
              "      <td>NaN</td>\n",
              "      <td>NaN</td>\n",
              "      <td>684</td>\n",
              "      <td>680</td>\n",
              "      <td>0.255</td>\n",
              "      <td>0.317</td>\n",
              "      <td>0.400</td>\n",
              "      <td>0.717</td>\n",
              "      <td>0.306</td>\n",
              "      <td>0.407</td>\n",
              "    </tr>\n",
              "    <tr>\n",
              "      <th>PIT</th>\n",
              "      <td>NL</td>\n",
              "      <td>162</td>\n",
              "      <td>79</td>\n",
              "      <td>83</td>\n",
              "      <td>False</td>\n",
              "      <td>NaN</td>\n",
              "      <td>NaN</td>\n",
              "      <td>651</td>\n",
              "      <td>674</td>\n",
              "      <td>0.243</td>\n",
              "      <td>0.304</td>\n",
              "      <td>0.395</td>\n",
              "      <td>0.699</td>\n",
              "      <td>0.314</td>\n",
              "      <td>0.390</td>\n",
              "    </tr>\n",
              "    <tr>\n",
              "      <th>SDP</th>\n",
              "      <td>NL</td>\n",
              "      <td>162</td>\n",
              "      <td>76</td>\n",
              "      <td>86</td>\n",
              "      <td>False</td>\n",
              "      <td>NaN</td>\n",
              "      <td>NaN</td>\n",
              "      <td>651</td>\n",
              "      <td>710</td>\n",
              "      <td>0.247</td>\n",
              "      <td>0.319</td>\n",
              "      <td>0.380</td>\n",
              "      <td>0.699</td>\n",
              "      <td>0.319</td>\n",
              "      <td>0.398</td>\n",
              "    </tr>\n",
              "    <tr>\n",
              "      <th>SEA</th>\n",
              "      <td>AL</td>\n",
              "      <td>162</td>\n",
              "      <td>75</td>\n",
              "      <td>87</td>\n",
              "      <td>False</td>\n",
              "      <td>NaN</td>\n",
              "      <td>NaN</td>\n",
              "      <td>619</td>\n",
              "      <td>651</td>\n",
              "      <td>0.234</td>\n",
              "      <td>0.296</td>\n",
              "      <td>0.369</td>\n",
              "      <td>0.665</td>\n",
              "      <td>0.308</td>\n",
              "      <td>0.394</td>\n",
              "    </tr>\n",
              "    <tr>\n",
              "      <th>SFG</th>\n",
              "      <td>NL</td>\n",
              "      <td>162</td>\n",
              "      <td>94</td>\n",
              "      <td>68</td>\n",
              "      <td>True</td>\n",
              "      <td>4.0</td>\n",
              "      <td>1.0</td>\n",
              "      <td>718</td>\n",
              "      <td>649</td>\n",
              "      <td>0.269</td>\n",
              "      <td>0.327</td>\n",
              "      <td>0.397</td>\n",
              "      <td>0.724</td>\n",
              "      <td>0.313</td>\n",
              "      <td>0.393</td>\n",
              "    </tr>\n",
              "    <tr>\n",
              "      <th>STL</th>\n",
              "      <td>NL</td>\n",
              "      <td>162</td>\n",
              "      <td>88</td>\n",
              "      <td>74</td>\n",
              "      <td>True</td>\n",
              "      <td>6.0</td>\n",
              "      <td>3.0</td>\n",
              "      <td>765</td>\n",
              "      <td>648</td>\n",
              "      <td>0.271</td>\n",
              "      <td>0.338</td>\n",
              "      <td>0.421</td>\n",
              "      <td>0.759</td>\n",
              "      <td>0.313</td>\n",
              "      <td>0.387</td>\n",
              "    </tr>\n",
              "    <tr>\n",
              "      <th>TBR</th>\n",
              "      <td>AL</td>\n",
              "      <td>162</td>\n",
              "      <td>90</td>\n",
              "      <td>72</td>\n",
              "      <td>False</td>\n",
              "      <td>NaN</td>\n",
              "      <td>NaN</td>\n",
              "      <td>697</td>\n",
              "      <td>577</td>\n",
              "      <td>0.240</td>\n",
              "      <td>0.317</td>\n",
              "      <td>0.394</td>\n",
              "      <td>0.711</td>\n",
              "      <td>0.294</td>\n",
              "      <td>0.352</td>\n",
              "    </tr>\n",
              "    <tr>\n",
              "      <th>TEX</th>\n",
              "      <td>AL</td>\n",
              "      <td>162</td>\n",
              "      <td>93</td>\n",
              "      <td>69</td>\n",
              "      <td>True</td>\n",
              "      <td>5.0</td>\n",
              "      <td>5.0</td>\n",
              "      <td>808</td>\n",
              "      <td>707</td>\n",
              "      <td>0.273</td>\n",
              "      <td>0.334</td>\n",
              "      <td>0.446</td>\n",
              "      <td>0.780</td>\n",
              "      <td>0.309</td>\n",
              "      <td>0.408</td>\n",
              "    </tr>\n",
              "    <tr>\n",
              "      <th>TOR</th>\n",
              "      <td>AL</td>\n",
              "      <td>162</td>\n",
              "      <td>73</td>\n",
              "      <td>89</td>\n",
              "      <td>False</td>\n",
              "      <td>NaN</td>\n",
              "      <td>NaN</td>\n",
              "      <td>716</td>\n",
              "      <td>784</td>\n",
              "      <td>0.245</td>\n",
              "      <td>0.309</td>\n",
              "      <td>0.407</td>\n",
              "      <td>0.716</td>\n",
              "      <td>0.335</td>\n",
              "      <td>0.438</td>\n",
              "    </tr>\n",
              "    <tr>\n",
              "      <th>WSN</th>\n",
              "      <td>NL</td>\n",
              "      <td>162</td>\n",
              "      <td>98</td>\n",
              "      <td>64</td>\n",
              "      <td>True</td>\n",
              "      <td>1.0</td>\n",
              "      <td>4.0</td>\n",
              "      <td>731</td>\n",
              "      <td>594</td>\n",
              "      <td>0.261</td>\n",
              "      <td>0.322</td>\n",
              "      <td>0.428</td>\n",
              "      <td>0.750</td>\n",
              "      <td>0.303</td>\n",
              "      <td>0.373</td>\n",
              "    </tr>\n",
              "  </tbody>\n",
              "</table>\n",
              "</div>"
            ],
            "text/plain": [
              "          League    G   W    L  Playoffs  ...    OBP    SLG    OPS   OOBP   OSLG\n",
              "Year Team                                 ...                                   \n",
              "2012 ARI      NL  162  81   81     False  ...  0.328  0.418  0.746  0.317  0.415\n",
              "     ATL      NL  162  94   68      True  ...  0.320  0.389  0.709  0.306  0.378\n",
              "     BAL      AL  162  93   69      True  ...  0.311  0.417  0.728  0.315  0.403\n",
              "     BOS      AL  162  69   93     False  ...  0.315  0.415  0.730  0.331  0.428\n",
              "     CHC      NL  162  61  101     False  ...  0.302  0.378  0.680  0.335  0.424\n",
              "     CHW      AL  162  85   77     False  ...  0.318  0.422  0.740  0.319  0.405\n",
              "     CIN      NL  162  97   65      True  ...  0.315  0.411  0.726  0.305  0.390\n",
              "     CLE      AL  162  68   94     False  ...  0.324  0.381  0.705  0.336  0.430\n",
              "     COL      NL  162  64   98     False  ...  0.330  0.436  0.766  0.357  0.470\n",
              "     DET      AL  162  88   74      True  ...  0.335  0.422  0.757  0.314  0.402\n",
              "     HOU      NL  162  55  107     False  ...  0.302  0.371  0.673  0.337  0.427\n",
              "     KCR      AL  162  72   90     False  ...  0.317  0.400  0.717  0.339  0.423\n",
              "     LAA      AL  162  89   73     False  ...  0.332  0.433  0.765  0.310  0.403\n",
              "     LAD      NL  162  86   76     False  ...  0.317  0.374  0.691  0.310  0.364\n",
              "     MIA      NL  162  69   93     False  ...  0.308  0.382  0.690  0.327  0.399\n",
              "     MIL      NL  162  83   79     False  ...  0.325  0.437  0.762  0.326  0.414\n",
              "     MIN      AL  162  66   96     False  ...  0.325  0.390  0.715  0.333  0.442\n",
              "     NYM      NL  162  74   88     False  ...  0.316  0.386  0.702  0.315  0.401\n",
              "     NYY      AL  162  95   67      True  ...  0.337  0.453  0.790  0.311  0.419\n",
              "     OAK      AL  162  94   68      True  ...  0.310  0.404  0.714  0.306  0.378\n",
              "     PHI      NL  162  81   81     False  ...  0.317  0.400  0.717  0.306  0.407\n",
              "     PIT      NL  162  79   83     False  ...  0.304  0.395  0.699  0.314  0.390\n",
              "     SDP      NL  162  76   86     False  ...  0.319  0.380  0.699  0.319  0.398\n",
              "     SEA      AL  162  75   87     False  ...  0.296  0.369  0.665  0.308  0.394\n",
              "     SFG      NL  162  94   68      True  ...  0.327  0.397  0.724  0.313  0.393\n",
              "     STL      NL  162  88   74      True  ...  0.338  0.421  0.759  0.313  0.387\n",
              "     TBR      AL  162  90   72     False  ...  0.317  0.394  0.711  0.294  0.352\n",
              "     TEX      AL  162  93   69      True  ...  0.334  0.446  0.780  0.309  0.408\n",
              "     TOR      AL  162  73   89     False  ...  0.309  0.407  0.716  0.335  0.438\n",
              "     WSN      NL  162  98   64      True  ...  0.322  0.428  0.750  0.303  0.373\n",
              "\n",
              "[30 rows x 15 columns]"
            ]
          },
          "metadata": {},
          "execution_count": 170
        }
      ]
    },
    {
      "cell_type": "markdown",
      "metadata": {
        "id": "hVklQRfHXZ1Q"
      },
      "source": [
        "Now, using `.loc[<year>]`, we can more simply access each year's dataset without having to resort to more unwieldy \n",
        "\n",
        "`baseball[baseball.Year == <year>]`"
      ]
    },
    {
      "cell_type": "code",
      "metadata": {
        "colab": {
          "base_uri": "https://localhost:8080/",
          "height": 1000
        },
        "id": "X-EI_NDwXX_i",
        "outputId": "b1c337a4-a56c-41c7-8687-bccbc5aa74f1"
      },
      "source": [
        "baseball.loc[2012]"
      ],
      "execution_count": null,
      "outputs": [
        {
          "output_type": "execute_result",
          "data": {
            "text/html": [
              "<div>\n",
              "<style scoped>\n",
              "    .dataframe tbody tr th:only-of-type {\n",
              "        vertical-align: middle;\n",
              "    }\n",
              "\n",
              "    .dataframe tbody tr th {\n",
              "        vertical-align: top;\n",
              "    }\n",
              "\n",
              "    .dataframe thead th {\n",
              "        text-align: right;\n",
              "    }\n",
              "</style>\n",
              "<table border=\"1\" class=\"dataframe\">\n",
              "  <thead>\n",
              "    <tr style=\"text-align: right;\">\n",
              "      <th></th>\n",
              "      <th>League</th>\n",
              "      <th>G</th>\n",
              "      <th>W</th>\n",
              "      <th>L</th>\n",
              "      <th>Playoffs</th>\n",
              "      <th>RankSeason</th>\n",
              "      <th>RankPlayoffs</th>\n",
              "      <th>RS</th>\n",
              "      <th>RA</th>\n",
              "      <th>BA</th>\n",
              "      <th>OBP</th>\n",
              "      <th>SLG</th>\n",
              "      <th>OPS</th>\n",
              "      <th>OOBP</th>\n",
              "      <th>OSLG</th>\n",
              "    </tr>\n",
              "    <tr>\n",
              "      <th>Team</th>\n",
              "      <th></th>\n",
              "      <th></th>\n",
              "      <th></th>\n",
              "      <th></th>\n",
              "      <th></th>\n",
              "      <th></th>\n",
              "      <th></th>\n",
              "      <th></th>\n",
              "      <th></th>\n",
              "      <th></th>\n",
              "      <th></th>\n",
              "      <th></th>\n",
              "      <th></th>\n",
              "      <th></th>\n",
              "      <th></th>\n",
              "    </tr>\n",
              "  </thead>\n",
              "  <tbody>\n",
              "    <tr>\n",
              "      <th>ARI</th>\n",
              "      <td>NL</td>\n",
              "      <td>162</td>\n",
              "      <td>81</td>\n",
              "      <td>81</td>\n",
              "      <td>False</td>\n",
              "      <td>NaN</td>\n",
              "      <td>NaN</td>\n",
              "      <td>734</td>\n",
              "      <td>688</td>\n",
              "      <td>0.259</td>\n",
              "      <td>0.328</td>\n",
              "      <td>0.418</td>\n",
              "      <td>0.746</td>\n",
              "      <td>0.317</td>\n",
              "      <td>0.415</td>\n",
              "    </tr>\n",
              "    <tr>\n",
              "      <th>ATL</th>\n",
              "      <td>NL</td>\n",
              "      <td>162</td>\n",
              "      <td>94</td>\n",
              "      <td>68</td>\n",
              "      <td>True</td>\n",
              "      <td>4.0</td>\n",
              "      <td>5.0</td>\n",
              "      <td>700</td>\n",
              "      <td>600</td>\n",
              "      <td>0.247</td>\n",
              "      <td>0.320</td>\n",
              "      <td>0.389</td>\n",
              "      <td>0.709</td>\n",
              "      <td>0.306</td>\n",
              "      <td>0.378</td>\n",
              "    </tr>\n",
              "    <tr>\n",
              "      <th>BAL</th>\n",
              "      <td>AL</td>\n",
              "      <td>162</td>\n",
              "      <td>93</td>\n",
              "      <td>69</td>\n",
              "      <td>True</td>\n",
              "      <td>5.0</td>\n",
              "      <td>4.0</td>\n",
              "      <td>712</td>\n",
              "      <td>705</td>\n",
              "      <td>0.247</td>\n",
              "      <td>0.311</td>\n",
              "      <td>0.417</td>\n",
              "      <td>0.728</td>\n",
              "      <td>0.315</td>\n",
              "      <td>0.403</td>\n",
              "    </tr>\n",
              "    <tr>\n",
              "      <th>BOS</th>\n",
              "      <td>AL</td>\n",
              "      <td>162</td>\n",
              "      <td>69</td>\n",
              "      <td>93</td>\n",
              "      <td>False</td>\n",
              "      <td>NaN</td>\n",
              "      <td>NaN</td>\n",
              "      <td>734</td>\n",
              "      <td>806</td>\n",
              "      <td>0.260</td>\n",
              "      <td>0.315</td>\n",
              "      <td>0.415</td>\n",
              "      <td>0.730</td>\n",
              "      <td>0.331</td>\n",
              "      <td>0.428</td>\n",
              "    </tr>\n",
              "    <tr>\n",
              "      <th>CHC</th>\n",
              "      <td>NL</td>\n",
              "      <td>162</td>\n",
              "      <td>61</td>\n",
              "      <td>101</td>\n",
              "      <td>False</td>\n",
              "      <td>NaN</td>\n",
              "      <td>NaN</td>\n",
              "      <td>613</td>\n",
              "      <td>759</td>\n",
              "      <td>0.240</td>\n",
              "      <td>0.302</td>\n",
              "      <td>0.378</td>\n",
              "      <td>0.680</td>\n",
              "      <td>0.335</td>\n",
              "      <td>0.424</td>\n",
              "    </tr>\n",
              "    <tr>\n",
              "      <th>CHW</th>\n",
              "      <td>AL</td>\n",
              "      <td>162</td>\n",
              "      <td>85</td>\n",
              "      <td>77</td>\n",
              "      <td>False</td>\n",
              "      <td>NaN</td>\n",
              "      <td>NaN</td>\n",
              "      <td>748</td>\n",
              "      <td>676</td>\n",
              "      <td>0.255</td>\n",
              "      <td>0.318</td>\n",
              "      <td>0.422</td>\n",
              "      <td>0.740</td>\n",
              "      <td>0.319</td>\n",
              "      <td>0.405</td>\n",
              "    </tr>\n",
              "    <tr>\n",
              "      <th>CIN</th>\n",
              "      <td>NL</td>\n",
              "      <td>162</td>\n",
              "      <td>97</td>\n",
              "      <td>65</td>\n",
              "      <td>True</td>\n",
              "      <td>2.0</td>\n",
              "      <td>4.0</td>\n",
              "      <td>669</td>\n",
              "      <td>588</td>\n",
              "      <td>0.251</td>\n",
              "      <td>0.315</td>\n",
              "      <td>0.411</td>\n",
              "      <td>0.726</td>\n",
              "      <td>0.305</td>\n",
              "      <td>0.390</td>\n",
              "    </tr>\n",
              "    <tr>\n",
              "      <th>CLE</th>\n",
              "      <td>AL</td>\n",
              "      <td>162</td>\n",
              "      <td>68</td>\n",
              "      <td>94</td>\n",
              "      <td>False</td>\n",
              "      <td>NaN</td>\n",
              "      <td>NaN</td>\n",
              "      <td>667</td>\n",
              "      <td>845</td>\n",
              "      <td>0.251</td>\n",
              "      <td>0.324</td>\n",
              "      <td>0.381</td>\n",
              "      <td>0.705</td>\n",
              "      <td>0.336</td>\n",
              "      <td>0.430</td>\n",
              "    </tr>\n",
              "    <tr>\n",
              "      <th>COL</th>\n",
              "      <td>NL</td>\n",
              "      <td>162</td>\n",
              "      <td>64</td>\n",
              "      <td>98</td>\n",
              "      <td>False</td>\n",
              "      <td>NaN</td>\n",
              "      <td>NaN</td>\n",
              "      <td>758</td>\n",
              "      <td>890</td>\n",
              "      <td>0.274</td>\n",
              "      <td>0.330</td>\n",
              "      <td>0.436</td>\n",
              "      <td>0.766</td>\n",
              "      <td>0.357</td>\n",
              "      <td>0.470</td>\n",
              "    </tr>\n",
              "    <tr>\n",
              "      <th>DET</th>\n",
              "      <td>AL</td>\n",
              "      <td>162</td>\n",
              "      <td>88</td>\n",
              "      <td>74</td>\n",
              "      <td>True</td>\n",
              "      <td>6.0</td>\n",
              "      <td>2.0</td>\n",
              "      <td>726</td>\n",
              "      <td>670</td>\n",
              "      <td>0.268</td>\n",
              "      <td>0.335</td>\n",
              "      <td>0.422</td>\n",
              "      <td>0.757</td>\n",
              "      <td>0.314</td>\n",
              "      <td>0.402</td>\n",
              "    </tr>\n",
              "    <tr>\n",
              "      <th>HOU</th>\n",
              "      <td>NL</td>\n",
              "      <td>162</td>\n",
              "      <td>55</td>\n",
              "      <td>107</td>\n",
              "      <td>False</td>\n",
              "      <td>NaN</td>\n",
              "      <td>NaN</td>\n",
              "      <td>583</td>\n",
              "      <td>794</td>\n",
              "      <td>0.236</td>\n",
              "      <td>0.302</td>\n",
              "      <td>0.371</td>\n",
              "      <td>0.673</td>\n",
              "      <td>0.337</td>\n",
              "      <td>0.427</td>\n",
              "    </tr>\n",
              "    <tr>\n",
              "      <th>KCR</th>\n",
              "      <td>AL</td>\n",
              "      <td>162</td>\n",
              "      <td>72</td>\n",
              "      <td>90</td>\n",
              "      <td>False</td>\n",
              "      <td>NaN</td>\n",
              "      <td>NaN</td>\n",
              "      <td>676</td>\n",
              "      <td>746</td>\n",
              "      <td>0.265</td>\n",
              "      <td>0.317</td>\n",
              "      <td>0.400</td>\n",
              "      <td>0.717</td>\n",
              "      <td>0.339</td>\n",
              "      <td>0.423</td>\n",
              "    </tr>\n",
              "    <tr>\n",
              "      <th>LAA</th>\n",
              "      <td>AL</td>\n",
              "      <td>162</td>\n",
              "      <td>89</td>\n",
              "      <td>73</td>\n",
              "      <td>False</td>\n",
              "      <td>NaN</td>\n",
              "      <td>NaN</td>\n",
              "      <td>767</td>\n",
              "      <td>699</td>\n",
              "      <td>0.274</td>\n",
              "      <td>0.332</td>\n",
              "      <td>0.433</td>\n",
              "      <td>0.765</td>\n",
              "      <td>0.310</td>\n",
              "      <td>0.403</td>\n",
              "    </tr>\n",
              "    <tr>\n",
              "      <th>LAD</th>\n",
              "      <td>NL</td>\n",
              "      <td>162</td>\n",
              "      <td>86</td>\n",
              "      <td>76</td>\n",
              "      <td>False</td>\n",
              "      <td>NaN</td>\n",
              "      <td>NaN</td>\n",
              "      <td>637</td>\n",
              "      <td>597</td>\n",
              "      <td>0.252</td>\n",
              "      <td>0.317</td>\n",
              "      <td>0.374</td>\n",
              "      <td>0.691</td>\n",
              "      <td>0.310</td>\n",
              "      <td>0.364</td>\n",
              "    </tr>\n",
              "    <tr>\n",
              "      <th>MIA</th>\n",
              "      <td>NL</td>\n",
              "      <td>162</td>\n",
              "      <td>69</td>\n",
              "      <td>93</td>\n",
              "      <td>False</td>\n",
              "      <td>NaN</td>\n",
              "      <td>NaN</td>\n",
              "      <td>609</td>\n",
              "      <td>724</td>\n",
              "      <td>0.244</td>\n",
              "      <td>0.308</td>\n",
              "      <td>0.382</td>\n",
              "      <td>0.690</td>\n",
              "      <td>0.327</td>\n",
              "      <td>0.399</td>\n",
              "    </tr>\n",
              "    <tr>\n",
              "      <th>MIL</th>\n",
              "      <td>NL</td>\n",
              "      <td>162</td>\n",
              "      <td>83</td>\n",
              "      <td>79</td>\n",
              "      <td>False</td>\n",
              "      <td>NaN</td>\n",
              "      <td>NaN</td>\n",
              "      <td>776</td>\n",
              "      <td>733</td>\n",
              "      <td>0.259</td>\n",
              "      <td>0.325</td>\n",
              "      <td>0.437</td>\n",
              "      <td>0.762</td>\n",
              "      <td>0.326</td>\n",
              "      <td>0.414</td>\n",
              "    </tr>\n",
              "    <tr>\n",
              "      <th>MIN</th>\n",
              "      <td>AL</td>\n",
              "      <td>162</td>\n",
              "      <td>66</td>\n",
              "      <td>96</td>\n",
              "      <td>False</td>\n",
              "      <td>NaN</td>\n",
              "      <td>NaN</td>\n",
              "      <td>701</td>\n",
              "      <td>832</td>\n",
              "      <td>0.260</td>\n",
              "      <td>0.325</td>\n",
              "      <td>0.390</td>\n",
              "      <td>0.715</td>\n",
              "      <td>0.333</td>\n",
              "      <td>0.442</td>\n",
              "    </tr>\n",
              "    <tr>\n",
              "      <th>NYM</th>\n",
              "      <td>NL</td>\n",
              "      <td>162</td>\n",
              "      <td>74</td>\n",
              "      <td>88</td>\n",
              "      <td>False</td>\n",
              "      <td>NaN</td>\n",
              "      <td>NaN</td>\n",
              "      <td>650</td>\n",
              "      <td>709</td>\n",
              "      <td>0.249</td>\n",
              "      <td>0.316</td>\n",
              "      <td>0.386</td>\n",
              "      <td>0.702</td>\n",
              "      <td>0.315</td>\n",
              "      <td>0.401</td>\n",
              "    </tr>\n",
              "    <tr>\n",
              "      <th>NYY</th>\n",
              "      <td>AL</td>\n",
              "      <td>162</td>\n",
              "      <td>95</td>\n",
              "      <td>67</td>\n",
              "      <td>True</td>\n",
              "      <td>3.0</td>\n",
              "      <td>3.0</td>\n",
              "      <td>804</td>\n",
              "      <td>668</td>\n",
              "      <td>0.265</td>\n",
              "      <td>0.337</td>\n",
              "      <td>0.453</td>\n",
              "      <td>0.790</td>\n",
              "      <td>0.311</td>\n",
              "      <td>0.419</td>\n",
              "    </tr>\n",
              "    <tr>\n",
              "      <th>OAK</th>\n",
              "      <td>AL</td>\n",
              "      <td>162</td>\n",
              "      <td>94</td>\n",
              "      <td>68</td>\n",
              "      <td>True</td>\n",
              "      <td>4.0</td>\n",
              "      <td>4.0</td>\n",
              "      <td>713</td>\n",
              "      <td>614</td>\n",
              "      <td>0.238</td>\n",
              "      <td>0.310</td>\n",
              "      <td>0.404</td>\n",
              "      <td>0.714</td>\n",
              "      <td>0.306</td>\n",
              "      <td>0.378</td>\n",
              "    </tr>\n",
              "    <tr>\n",
              "      <th>PHI</th>\n",
              "      <td>NL</td>\n",
              "      <td>162</td>\n",
              "      <td>81</td>\n",
              "      <td>81</td>\n",
              "      <td>False</td>\n",
              "      <td>NaN</td>\n",
              "      <td>NaN</td>\n",
              "      <td>684</td>\n",
              "      <td>680</td>\n",
              "      <td>0.255</td>\n",
              "      <td>0.317</td>\n",
              "      <td>0.400</td>\n",
              "      <td>0.717</td>\n",
              "      <td>0.306</td>\n",
              "      <td>0.407</td>\n",
              "    </tr>\n",
              "    <tr>\n",
              "      <th>PIT</th>\n",
              "      <td>NL</td>\n",
              "      <td>162</td>\n",
              "      <td>79</td>\n",
              "      <td>83</td>\n",
              "      <td>False</td>\n",
              "      <td>NaN</td>\n",
              "      <td>NaN</td>\n",
              "      <td>651</td>\n",
              "      <td>674</td>\n",
              "      <td>0.243</td>\n",
              "      <td>0.304</td>\n",
              "      <td>0.395</td>\n",
              "      <td>0.699</td>\n",
              "      <td>0.314</td>\n",
              "      <td>0.390</td>\n",
              "    </tr>\n",
              "    <tr>\n",
              "      <th>SDP</th>\n",
              "      <td>NL</td>\n",
              "      <td>162</td>\n",
              "      <td>76</td>\n",
              "      <td>86</td>\n",
              "      <td>False</td>\n",
              "      <td>NaN</td>\n",
              "      <td>NaN</td>\n",
              "      <td>651</td>\n",
              "      <td>710</td>\n",
              "      <td>0.247</td>\n",
              "      <td>0.319</td>\n",
              "      <td>0.380</td>\n",
              "      <td>0.699</td>\n",
              "      <td>0.319</td>\n",
              "      <td>0.398</td>\n",
              "    </tr>\n",
              "    <tr>\n",
              "      <th>SEA</th>\n",
              "      <td>AL</td>\n",
              "      <td>162</td>\n",
              "      <td>75</td>\n",
              "      <td>87</td>\n",
              "      <td>False</td>\n",
              "      <td>NaN</td>\n",
              "      <td>NaN</td>\n",
              "      <td>619</td>\n",
              "      <td>651</td>\n",
              "      <td>0.234</td>\n",
              "      <td>0.296</td>\n",
              "      <td>0.369</td>\n",
              "      <td>0.665</td>\n",
              "      <td>0.308</td>\n",
              "      <td>0.394</td>\n",
              "    </tr>\n",
              "    <tr>\n",
              "      <th>SFG</th>\n",
              "      <td>NL</td>\n",
              "      <td>162</td>\n",
              "      <td>94</td>\n",
              "      <td>68</td>\n",
              "      <td>True</td>\n",
              "      <td>4.0</td>\n",
              "      <td>1.0</td>\n",
              "      <td>718</td>\n",
              "      <td>649</td>\n",
              "      <td>0.269</td>\n",
              "      <td>0.327</td>\n",
              "      <td>0.397</td>\n",
              "      <td>0.724</td>\n",
              "      <td>0.313</td>\n",
              "      <td>0.393</td>\n",
              "    </tr>\n",
              "    <tr>\n",
              "      <th>STL</th>\n",
              "      <td>NL</td>\n",
              "      <td>162</td>\n",
              "      <td>88</td>\n",
              "      <td>74</td>\n",
              "      <td>True</td>\n",
              "      <td>6.0</td>\n",
              "      <td>3.0</td>\n",
              "      <td>765</td>\n",
              "      <td>648</td>\n",
              "      <td>0.271</td>\n",
              "      <td>0.338</td>\n",
              "      <td>0.421</td>\n",
              "      <td>0.759</td>\n",
              "      <td>0.313</td>\n",
              "      <td>0.387</td>\n",
              "    </tr>\n",
              "    <tr>\n",
              "      <th>TBR</th>\n",
              "      <td>AL</td>\n",
              "      <td>162</td>\n",
              "      <td>90</td>\n",
              "      <td>72</td>\n",
              "      <td>False</td>\n",
              "      <td>NaN</td>\n",
              "      <td>NaN</td>\n",
              "      <td>697</td>\n",
              "      <td>577</td>\n",
              "      <td>0.240</td>\n",
              "      <td>0.317</td>\n",
              "      <td>0.394</td>\n",
              "      <td>0.711</td>\n",
              "      <td>0.294</td>\n",
              "      <td>0.352</td>\n",
              "    </tr>\n",
              "    <tr>\n",
              "      <th>TEX</th>\n",
              "      <td>AL</td>\n",
              "      <td>162</td>\n",
              "      <td>93</td>\n",
              "      <td>69</td>\n",
              "      <td>True</td>\n",
              "      <td>5.0</td>\n",
              "      <td>5.0</td>\n",
              "      <td>808</td>\n",
              "      <td>707</td>\n",
              "      <td>0.273</td>\n",
              "      <td>0.334</td>\n",
              "      <td>0.446</td>\n",
              "      <td>0.780</td>\n",
              "      <td>0.309</td>\n",
              "      <td>0.408</td>\n",
              "    </tr>\n",
              "    <tr>\n",
              "      <th>TOR</th>\n",
              "      <td>AL</td>\n",
              "      <td>162</td>\n",
              "      <td>73</td>\n",
              "      <td>89</td>\n",
              "      <td>False</td>\n",
              "      <td>NaN</td>\n",
              "      <td>NaN</td>\n",
              "      <td>716</td>\n",
              "      <td>784</td>\n",
              "      <td>0.245</td>\n",
              "      <td>0.309</td>\n",
              "      <td>0.407</td>\n",
              "      <td>0.716</td>\n",
              "      <td>0.335</td>\n",
              "      <td>0.438</td>\n",
              "    </tr>\n",
              "    <tr>\n",
              "      <th>WSN</th>\n",
              "      <td>NL</td>\n",
              "      <td>162</td>\n",
              "      <td>98</td>\n",
              "      <td>64</td>\n",
              "      <td>True</td>\n",
              "      <td>1.0</td>\n",
              "      <td>4.0</td>\n",
              "      <td>731</td>\n",
              "      <td>594</td>\n",
              "      <td>0.261</td>\n",
              "      <td>0.322</td>\n",
              "      <td>0.428</td>\n",
              "      <td>0.750</td>\n",
              "      <td>0.303</td>\n",
              "      <td>0.373</td>\n",
              "    </tr>\n",
              "  </tbody>\n",
              "</table>\n",
              "</div>"
            ],
            "text/plain": [
              "     League    G   W    L  Playoffs  ...    OBP    SLG    OPS   OOBP   OSLG\n",
              "Team                                 ...                                   \n",
              "ARI      NL  162  81   81     False  ...  0.328  0.418  0.746  0.317  0.415\n",
              "ATL      NL  162  94   68      True  ...  0.320  0.389  0.709  0.306  0.378\n",
              "BAL      AL  162  93   69      True  ...  0.311  0.417  0.728  0.315  0.403\n",
              "BOS      AL  162  69   93     False  ...  0.315  0.415  0.730  0.331  0.428\n",
              "CHC      NL  162  61  101     False  ...  0.302  0.378  0.680  0.335  0.424\n",
              "CHW      AL  162  85   77     False  ...  0.318  0.422  0.740  0.319  0.405\n",
              "CIN      NL  162  97   65      True  ...  0.315  0.411  0.726  0.305  0.390\n",
              "CLE      AL  162  68   94     False  ...  0.324  0.381  0.705  0.336  0.430\n",
              "COL      NL  162  64   98     False  ...  0.330  0.436  0.766  0.357  0.470\n",
              "DET      AL  162  88   74      True  ...  0.335  0.422  0.757  0.314  0.402\n",
              "HOU      NL  162  55  107     False  ...  0.302  0.371  0.673  0.337  0.427\n",
              "KCR      AL  162  72   90     False  ...  0.317  0.400  0.717  0.339  0.423\n",
              "LAA      AL  162  89   73     False  ...  0.332  0.433  0.765  0.310  0.403\n",
              "LAD      NL  162  86   76     False  ...  0.317  0.374  0.691  0.310  0.364\n",
              "MIA      NL  162  69   93     False  ...  0.308  0.382  0.690  0.327  0.399\n",
              "MIL      NL  162  83   79     False  ...  0.325  0.437  0.762  0.326  0.414\n",
              "MIN      AL  162  66   96     False  ...  0.325  0.390  0.715  0.333  0.442\n",
              "NYM      NL  162  74   88     False  ...  0.316  0.386  0.702  0.315  0.401\n",
              "NYY      AL  162  95   67      True  ...  0.337  0.453  0.790  0.311  0.419\n",
              "OAK      AL  162  94   68      True  ...  0.310  0.404  0.714  0.306  0.378\n",
              "PHI      NL  162  81   81     False  ...  0.317  0.400  0.717  0.306  0.407\n",
              "PIT      NL  162  79   83     False  ...  0.304  0.395  0.699  0.314  0.390\n",
              "SDP      NL  162  76   86     False  ...  0.319  0.380  0.699  0.319  0.398\n",
              "SEA      AL  162  75   87     False  ...  0.296  0.369  0.665  0.308  0.394\n",
              "SFG      NL  162  94   68      True  ...  0.327  0.397  0.724  0.313  0.393\n",
              "STL      NL  162  88   74      True  ...  0.338  0.421  0.759  0.313  0.387\n",
              "TBR      AL  162  90   72     False  ...  0.317  0.394  0.711  0.294  0.352\n",
              "TEX      AL  162  93   69      True  ...  0.334  0.446  0.780  0.309  0.408\n",
              "TOR      AL  162  73   89     False  ...  0.309  0.407  0.716  0.335  0.438\n",
              "WSN      NL  162  98   64      True  ...  0.322  0.428  0.750  0.303  0.373\n",
              "\n",
              "[30 rows x 15 columns]"
            ]
          },
          "metadata": {},
          "execution_count": 171
        }
      ]
    },
    {
      "cell_type": "markdown",
      "metadata": {
        "id": "Tuvgzuv4d-J3"
      },
      "source": [
        "Using `pd.IndexSlice`, we can now more succinctly get more specific data for each team across a given period, e.g., to obtain the full data for the New York Yankees, we can use:"
      ]
    },
    {
      "cell_type": "code",
      "metadata": {
        "colab": {
          "base_uri": "https://localhost:8080/",
          "height": 1000
        },
        "id": "IOe75RuPX7uE",
        "outputId": "26a09a88-2294-4f3b-a69d-bb5d932a4156"
      },
      "source": [
        "idx = pd.IndexSlice\n",
        "baseball.loc[idx[:, \"NYY\"], idx[:]]"
      ],
      "execution_count": null,
      "outputs": [
        {
          "output_type": "execute_result",
          "data": {
            "text/html": [
              "<div>\n",
              "<style scoped>\n",
              "    .dataframe tbody tr th:only-of-type {\n",
              "        vertical-align: middle;\n",
              "    }\n",
              "\n",
              "    .dataframe tbody tr th {\n",
              "        vertical-align: top;\n",
              "    }\n",
              "\n",
              "    .dataframe thead th {\n",
              "        text-align: right;\n",
              "    }\n",
              "</style>\n",
              "<table border=\"1\" class=\"dataframe\">\n",
              "  <thead>\n",
              "    <tr style=\"text-align: right;\">\n",
              "      <th></th>\n",
              "      <th></th>\n",
              "      <th>League</th>\n",
              "      <th>G</th>\n",
              "      <th>W</th>\n",
              "      <th>L</th>\n",
              "      <th>Playoffs</th>\n",
              "      <th>RankSeason</th>\n",
              "      <th>RankPlayoffs</th>\n",
              "      <th>RS</th>\n",
              "      <th>RA</th>\n",
              "      <th>BA</th>\n",
              "      <th>OBP</th>\n",
              "      <th>SLG</th>\n",
              "      <th>OPS</th>\n",
              "      <th>OOBP</th>\n",
              "      <th>OSLG</th>\n",
              "    </tr>\n",
              "    <tr>\n",
              "      <th>Year</th>\n",
              "      <th>Team</th>\n",
              "      <th></th>\n",
              "      <th></th>\n",
              "      <th></th>\n",
              "      <th></th>\n",
              "      <th></th>\n",
              "      <th></th>\n",
              "      <th></th>\n",
              "      <th></th>\n",
              "      <th></th>\n",
              "      <th></th>\n",
              "      <th></th>\n",
              "      <th></th>\n",
              "      <th></th>\n",
              "      <th></th>\n",
              "      <th></th>\n",
              "    </tr>\n",
              "  </thead>\n",
              "  <tbody>\n",
              "    <tr>\n",
              "      <th>2012</th>\n",
              "      <th>NYY</th>\n",
              "      <td>AL</td>\n",
              "      <td>162</td>\n",
              "      <td>95</td>\n",
              "      <td>67</td>\n",
              "      <td>True</td>\n",
              "      <td>3.0</td>\n",
              "      <td>3.0</td>\n",
              "      <td>804</td>\n",
              "      <td>668</td>\n",
              "      <td>0.265</td>\n",
              "      <td>0.337</td>\n",
              "      <td>0.453</td>\n",
              "      <td>0.790</td>\n",
              "      <td>0.311</td>\n",
              "      <td>0.419</td>\n",
              "    </tr>\n",
              "    <tr>\n",
              "      <th>2011</th>\n",
              "      <th>NYY</th>\n",
              "      <td>AL</td>\n",
              "      <td>162</td>\n",
              "      <td>97</td>\n",
              "      <td>65</td>\n",
              "      <td>True</td>\n",
              "      <td>2.0</td>\n",
              "      <td>4.0</td>\n",
              "      <td>867</td>\n",
              "      <td>657</td>\n",
              "      <td>0.263</td>\n",
              "      <td>0.343</td>\n",
              "      <td>0.444</td>\n",
              "      <td>0.787</td>\n",
              "      <td>0.322</td>\n",
              "      <td>0.399</td>\n",
              "    </tr>\n",
              "    <tr>\n",
              "      <th>2010</th>\n",
              "      <th>NYY</th>\n",
              "      <td>AL</td>\n",
              "      <td>162</td>\n",
              "      <td>95</td>\n",
              "      <td>67</td>\n",
              "      <td>True</td>\n",
              "      <td>3.0</td>\n",
              "      <td>3.0</td>\n",
              "      <td>859</td>\n",
              "      <td>693</td>\n",
              "      <td>0.267</td>\n",
              "      <td>0.350</td>\n",
              "      <td>0.436</td>\n",
              "      <td>0.786</td>\n",
              "      <td>0.322</td>\n",
              "      <td>0.399</td>\n",
              "    </tr>\n",
              "    <tr>\n",
              "      <th>2009</th>\n",
              "      <th>NYY</th>\n",
              "      <td>AL</td>\n",
              "      <td>162</td>\n",
              "      <td>103</td>\n",
              "      <td>59</td>\n",
              "      <td>True</td>\n",
              "      <td>1.0</td>\n",
              "      <td>1.0</td>\n",
              "      <td>915</td>\n",
              "      <td>753</td>\n",
              "      <td>0.283</td>\n",
              "      <td>0.362</td>\n",
              "      <td>0.478</td>\n",
              "      <td>0.840</td>\n",
              "      <td>0.327</td>\n",
              "      <td>0.408</td>\n",
              "    </tr>\n",
              "    <tr>\n",
              "      <th>2008</th>\n",
              "      <th>NYY</th>\n",
              "      <td>AL</td>\n",
              "      <td>162</td>\n",
              "      <td>89</td>\n",
              "      <td>73</td>\n",
              "      <td>False</td>\n",
              "      <td>NaN</td>\n",
              "      <td>NaN</td>\n",
              "      <td>789</td>\n",
              "      <td>727</td>\n",
              "      <td>0.271</td>\n",
              "      <td>0.342</td>\n",
              "      <td>0.427</td>\n",
              "      <td>0.769</td>\n",
              "      <td>0.329</td>\n",
              "      <td>0.405</td>\n",
              "    </tr>\n",
              "    <tr>\n",
              "      <th>2007</th>\n",
              "      <th>NYY</th>\n",
              "      <td>AL</td>\n",
              "      <td>162</td>\n",
              "      <td>94</td>\n",
              "      <td>68</td>\n",
              "      <td>True</td>\n",
              "      <td>2.0</td>\n",
              "      <td>4.0</td>\n",
              "      <td>968</td>\n",
              "      <td>777</td>\n",
              "      <td>0.290</td>\n",
              "      <td>0.366</td>\n",
              "      <td>0.463</td>\n",
              "      <td>0.829</td>\n",
              "      <td>0.340</td>\n",
              "      <td>0.417</td>\n",
              "    </tr>\n",
              "    <tr>\n",
              "      <th>2006</th>\n",
              "      <th>NYY</th>\n",
              "      <td>AL</td>\n",
              "      <td>162</td>\n",
              "      <td>97</td>\n",
              "      <td>65</td>\n",
              "      <td>True</td>\n",
              "      <td>1.0</td>\n",
              "      <td>4.0</td>\n",
              "      <td>930</td>\n",
              "      <td>767</td>\n",
              "      <td>0.285</td>\n",
              "      <td>0.363</td>\n",
              "      <td>0.461</td>\n",
              "      <td>0.824</td>\n",
              "      <td>0.326</td>\n",
              "      <td>0.413</td>\n",
              "    </tr>\n",
              "    <tr>\n",
              "      <th>2005</th>\n",
              "      <th>NYY</th>\n",
              "      <td>AL</td>\n",
              "      <td>162</td>\n",
              "      <td>95</td>\n",
              "      <td>67</td>\n",
              "      <td>True</td>\n",
              "      <td>3.0</td>\n",
              "      <td>4.0</td>\n",
              "      <td>886</td>\n",
              "      <td>789</td>\n",
              "      <td>0.276</td>\n",
              "      <td>0.355</td>\n",
              "      <td>0.450</td>\n",
              "      <td>0.805</td>\n",
              "      <td>0.332</td>\n",
              "      <td>0.422</td>\n",
              "    </tr>\n",
              "    <tr>\n",
              "      <th>2004</th>\n",
              "      <th>NYY</th>\n",
              "      <td>AL</td>\n",
              "      <td>162</td>\n",
              "      <td>101</td>\n",
              "      <td>61</td>\n",
              "      <td>True</td>\n",
              "      <td>2.0</td>\n",
              "      <td>3.0</td>\n",
              "      <td>897</td>\n",
              "      <td>808</td>\n",
              "      <td>0.268</td>\n",
              "      <td>0.353</td>\n",
              "      <td>0.458</td>\n",
              "      <td>0.811</td>\n",
              "      <td>0.328</td>\n",
              "      <td>0.432</td>\n",
              "    </tr>\n",
              "    <tr>\n",
              "      <th>2003</th>\n",
              "      <th>NYY</th>\n",
              "      <td>AL</td>\n",
              "      <td>163</td>\n",
              "      <td>101</td>\n",
              "      <td>62</td>\n",
              "      <td>True</td>\n",
              "      <td>1.0</td>\n",
              "      <td>2.0</td>\n",
              "      <td>877</td>\n",
              "      <td>716</td>\n",
              "      <td>0.271</td>\n",
              "      <td>0.356</td>\n",
              "      <td>0.453</td>\n",
              "      <td>0.809</td>\n",
              "      <td>0.314</td>\n",
              "      <td>0.407</td>\n",
              "    </tr>\n",
              "    <tr>\n",
              "      <th>2002</th>\n",
              "      <th>NYY</th>\n",
              "      <td>AL</td>\n",
              "      <td>161</td>\n",
              "      <td>103</td>\n",
              "      <td>58</td>\n",
              "      <td>True</td>\n",
              "      <td>1.0</td>\n",
              "      <td>4.0</td>\n",
              "      <td>897</td>\n",
              "      <td>697</td>\n",
              "      <td>0.275</td>\n",
              "      <td>0.354</td>\n",
              "      <td>0.455</td>\n",
              "      <td>0.809</td>\n",
              "      <td>0.309</td>\n",
              "      <td>0.395</td>\n",
              "    </tr>\n",
              "    <tr>\n",
              "      <th>2001</th>\n",
              "      <th>NYY</th>\n",
              "      <td>AL</td>\n",
              "      <td>161</td>\n",
              "      <td>95</td>\n",
              "      <td>66</td>\n",
              "      <td>True</td>\n",
              "      <td>3.0</td>\n",
              "      <td>2.0</td>\n",
              "      <td>804</td>\n",
              "      <td>713</td>\n",
              "      <td>0.267</td>\n",
              "      <td>0.334</td>\n",
              "      <td>0.435</td>\n",
              "      <td>0.769</td>\n",
              "      <td>0.318</td>\n",
              "      <td>0.398</td>\n",
              "    </tr>\n",
              "    <tr>\n",
              "      <th>2000</th>\n",
              "      <th>NYY</th>\n",
              "      <td>AL</td>\n",
              "      <td>161</td>\n",
              "      <td>87</td>\n",
              "      <td>74</td>\n",
              "      <td>True</td>\n",
              "      <td>5.0</td>\n",
              "      <td>1.0</td>\n",
              "      <td>871</td>\n",
              "      <td>814</td>\n",
              "      <td>0.277</td>\n",
              "      <td>0.354</td>\n",
              "      <td>0.450</td>\n",
              "      <td>0.804</td>\n",
              "      <td>0.336</td>\n",
              "      <td>0.422</td>\n",
              "    </tr>\n",
              "    <tr>\n",
              "      <th>1999</th>\n",
              "      <th>NYY</th>\n",
              "      <td>AL</td>\n",
              "      <td>162</td>\n",
              "      <td>98</td>\n",
              "      <td>64</td>\n",
              "      <td>True</td>\n",
              "      <td>3.0</td>\n",
              "      <td>1.0</td>\n",
              "      <td>900</td>\n",
              "      <td>731</td>\n",
              "      <td>0.282</td>\n",
              "      <td>0.366</td>\n",
              "      <td>0.453</td>\n",
              "      <td>0.819</td>\n",
              "      <td>0.329</td>\n",
              "      <td>0.400</td>\n",
              "    </tr>\n",
              "    <tr>\n",
              "      <th>1998</th>\n",
              "      <th>NYY</th>\n",
              "      <td>AL</td>\n",
              "      <td>162</td>\n",
              "      <td>114</td>\n",
              "      <td>48</td>\n",
              "      <td>True</td>\n",
              "      <td>1.0</td>\n",
              "      <td>1.0</td>\n",
              "      <td>965</td>\n",
              "      <td>656</td>\n",
              "      <td>0.288</td>\n",
              "      <td>0.364</td>\n",
              "      <td>0.460</td>\n",
              "      <td>0.824</td>\n",
              "      <td>NaN</td>\n",
              "      <td>NaN</td>\n",
              "    </tr>\n",
              "    <tr>\n",
              "      <th>1997</th>\n",
              "      <th>NYY</th>\n",
              "      <td>AL</td>\n",
              "      <td>162</td>\n",
              "      <td>96</td>\n",
              "      <td>66</td>\n",
              "      <td>True</td>\n",
              "      <td>3.0</td>\n",
              "      <td>4.0</td>\n",
              "      <td>891</td>\n",
              "      <td>688</td>\n",
              "      <td>0.287</td>\n",
              "      <td>0.362</td>\n",
              "      <td>0.436</td>\n",
              "      <td>0.798</td>\n",
              "      <td>NaN</td>\n",
              "      <td>NaN</td>\n",
              "    </tr>\n",
              "    <tr>\n",
              "      <th>1996</th>\n",
              "      <th>NYY</th>\n",
              "      <td>AL</td>\n",
              "      <td>162</td>\n",
              "      <td>92</td>\n",
              "      <td>70</td>\n",
              "      <td>True</td>\n",
              "      <td>3.0</td>\n",
              "      <td>1.0</td>\n",
              "      <td>871</td>\n",
              "      <td>787</td>\n",
              "      <td>0.288</td>\n",
              "      <td>0.360</td>\n",
              "      <td>0.436</td>\n",
              "      <td>0.796</td>\n",
              "      <td>NaN</td>\n",
              "      <td>NaN</td>\n",
              "    </tr>\n",
              "    <tr>\n",
              "      <th>1993</th>\n",
              "      <th>NYY</th>\n",
              "      <td>AL</td>\n",
              "      <td>162</td>\n",
              "      <td>88</td>\n",
              "      <td>74</td>\n",
              "      <td>False</td>\n",
              "      <td>NaN</td>\n",
              "      <td>NaN</td>\n",
              "      <td>821</td>\n",
              "      <td>761</td>\n",
              "      <td>0.279</td>\n",
              "      <td>0.353</td>\n",
              "      <td>0.435</td>\n",
              "      <td>0.788</td>\n",
              "      <td>NaN</td>\n",
              "      <td>NaN</td>\n",
              "    </tr>\n",
              "    <tr>\n",
              "      <th>1992</th>\n",
              "      <th>NYY</th>\n",
              "      <td>AL</td>\n",
              "      <td>162</td>\n",
              "      <td>76</td>\n",
              "      <td>86</td>\n",
              "      <td>False</td>\n",
              "      <td>NaN</td>\n",
              "      <td>NaN</td>\n",
              "      <td>733</td>\n",
              "      <td>746</td>\n",
              "      <td>0.261</td>\n",
              "      <td>0.328</td>\n",
              "      <td>0.406</td>\n",
              "      <td>0.734</td>\n",
              "      <td>NaN</td>\n",
              "      <td>NaN</td>\n",
              "    </tr>\n",
              "    <tr>\n",
              "      <th>1991</th>\n",
              "      <th>NYY</th>\n",
              "      <td>AL</td>\n",
              "      <td>162</td>\n",
              "      <td>71</td>\n",
              "      <td>91</td>\n",
              "      <td>False</td>\n",
              "      <td>NaN</td>\n",
              "      <td>NaN</td>\n",
              "      <td>674</td>\n",
              "      <td>777</td>\n",
              "      <td>0.256</td>\n",
              "      <td>0.316</td>\n",
              "      <td>0.387</td>\n",
              "      <td>0.703</td>\n",
              "      <td>NaN</td>\n",
              "      <td>NaN</td>\n",
              "    </tr>\n",
              "    <tr>\n",
              "      <th>1990</th>\n",
              "      <th>NYY</th>\n",
              "      <td>AL</td>\n",
              "      <td>162</td>\n",
              "      <td>67</td>\n",
              "      <td>95</td>\n",
              "      <td>False</td>\n",
              "      <td>NaN</td>\n",
              "      <td>NaN</td>\n",
              "      <td>603</td>\n",
              "      <td>749</td>\n",
              "      <td>0.241</td>\n",
              "      <td>0.300</td>\n",
              "      <td>0.366</td>\n",
              "      <td>0.666</td>\n",
              "      <td>NaN</td>\n",
              "      <td>NaN</td>\n",
              "    </tr>\n",
              "    <tr>\n",
              "      <th>1989</th>\n",
              "      <th>NYY</th>\n",
              "      <td>AL</td>\n",
              "      <td>161</td>\n",
              "      <td>74</td>\n",
              "      <td>87</td>\n",
              "      <td>False</td>\n",
              "      <td>NaN</td>\n",
              "      <td>NaN</td>\n",
              "      <td>698</td>\n",
              "      <td>792</td>\n",
              "      <td>0.269</td>\n",
              "      <td>0.331</td>\n",
              "      <td>0.391</td>\n",
              "      <td>0.722</td>\n",
              "      <td>NaN</td>\n",
              "      <td>NaN</td>\n",
              "    </tr>\n",
              "    <tr>\n",
              "      <th>1988</th>\n",
              "      <th>NYY</th>\n",
              "      <td>AL</td>\n",
              "      <td>161</td>\n",
              "      <td>85</td>\n",
              "      <td>76</td>\n",
              "      <td>False</td>\n",
              "      <td>NaN</td>\n",
              "      <td>NaN</td>\n",
              "      <td>772</td>\n",
              "      <td>748</td>\n",
              "      <td>0.263</td>\n",
              "      <td>0.333</td>\n",
              "      <td>0.395</td>\n",
              "      <td>0.728</td>\n",
              "      <td>NaN</td>\n",
              "      <td>NaN</td>\n",
              "    </tr>\n",
              "    <tr>\n",
              "      <th>1987</th>\n",
              "      <th>NYY</th>\n",
              "      <td>AL</td>\n",
              "      <td>162</td>\n",
              "      <td>89</td>\n",
              "      <td>73</td>\n",
              "      <td>False</td>\n",
              "      <td>NaN</td>\n",
              "      <td>NaN</td>\n",
              "      <td>788</td>\n",
              "      <td>758</td>\n",
              "      <td>0.262</td>\n",
              "      <td>0.336</td>\n",
              "      <td>0.418</td>\n",
              "      <td>0.754</td>\n",
              "      <td>NaN</td>\n",
              "      <td>NaN</td>\n",
              "    </tr>\n",
              "    <tr>\n",
              "      <th>1986</th>\n",
              "      <th>NYY</th>\n",
              "      <td>AL</td>\n",
              "      <td>162</td>\n",
              "      <td>90</td>\n",
              "      <td>72</td>\n",
              "      <td>False</td>\n",
              "      <td>NaN</td>\n",
              "      <td>NaN</td>\n",
              "      <td>797</td>\n",
              "      <td>738</td>\n",
              "      <td>0.271</td>\n",
              "      <td>0.347</td>\n",
              "      <td>0.430</td>\n",
              "      <td>0.777</td>\n",
              "      <td>NaN</td>\n",
              "      <td>NaN</td>\n",
              "    </tr>\n",
              "    <tr>\n",
              "      <th>1985</th>\n",
              "      <th>NYY</th>\n",
              "      <td>AL</td>\n",
              "      <td>161</td>\n",
              "      <td>97</td>\n",
              "      <td>64</td>\n",
              "      <td>False</td>\n",
              "      <td>NaN</td>\n",
              "      <td>NaN</td>\n",
              "      <td>839</td>\n",
              "      <td>660</td>\n",
              "      <td>0.267</td>\n",
              "      <td>0.344</td>\n",
              "      <td>0.425</td>\n",
              "      <td>0.769</td>\n",
              "      <td>NaN</td>\n",
              "      <td>NaN</td>\n",
              "    </tr>\n",
              "    <tr>\n",
              "      <th>1984</th>\n",
              "      <th>NYY</th>\n",
              "      <td>AL</td>\n",
              "      <td>162</td>\n",
              "      <td>87</td>\n",
              "      <td>75</td>\n",
              "      <td>False</td>\n",
              "      <td>NaN</td>\n",
              "      <td>NaN</td>\n",
              "      <td>758</td>\n",
              "      <td>679</td>\n",
              "      <td>0.276</td>\n",
              "      <td>0.339</td>\n",
              "      <td>0.404</td>\n",
              "      <td>0.743</td>\n",
              "      <td>NaN</td>\n",
              "      <td>NaN</td>\n",
              "    </tr>\n",
              "    <tr>\n",
              "      <th>1983</th>\n",
              "      <th>NYY</th>\n",
              "      <td>AL</td>\n",
              "      <td>162</td>\n",
              "      <td>91</td>\n",
              "      <td>71</td>\n",
              "      <td>False</td>\n",
              "      <td>NaN</td>\n",
              "      <td>NaN</td>\n",
              "      <td>770</td>\n",
              "      <td>703</td>\n",
              "      <td>0.273</td>\n",
              "      <td>0.337</td>\n",
              "      <td>0.416</td>\n",
              "      <td>0.753</td>\n",
              "      <td>NaN</td>\n",
              "      <td>NaN</td>\n",
              "    </tr>\n",
              "    <tr>\n",
              "      <th>1982</th>\n",
              "      <th>NYY</th>\n",
              "      <td>AL</td>\n",
              "      <td>162</td>\n",
              "      <td>79</td>\n",
              "      <td>83</td>\n",
              "      <td>False</td>\n",
              "      <td>NaN</td>\n",
              "      <td>NaN</td>\n",
              "      <td>709</td>\n",
              "      <td>716</td>\n",
              "      <td>0.256</td>\n",
              "      <td>0.328</td>\n",
              "      <td>0.398</td>\n",
              "      <td>0.726</td>\n",
              "      <td>NaN</td>\n",
              "      <td>NaN</td>\n",
              "    </tr>\n",
              "    <tr>\n",
              "      <th>1980</th>\n",
              "      <th>NYY</th>\n",
              "      <td>AL</td>\n",
              "      <td>162</td>\n",
              "      <td>103</td>\n",
              "      <td>59</td>\n",
              "      <td>True</td>\n",
              "      <td>1.0</td>\n",
              "      <td>3.0</td>\n",
              "      <td>820</td>\n",
              "      <td>662</td>\n",
              "      <td>0.267</td>\n",
              "      <td>0.343</td>\n",
              "      <td>0.425</td>\n",
              "      <td>0.768</td>\n",
              "      <td>NaN</td>\n",
              "      <td>NaN</td>\n",
              "    </tr>\n",
              "    <tr>\n",
              "      <th>1979</th>\n",
              "      <th>NYY</th>\n",
              "      <td>AL</td>\n",
              "      <td>160</td>\n",
              "      <td>89</td>\n",
              "      <td>71</td>\n",
              "      <td>False</td>\n",
              "      <td>NaN</td>\n",
              "      <td>NaN</td>\n",
              "      <td>734</td>\n",
              "      <td>672</td>\n",
              "      <td>0.266</td>\n",
              "      <td>0.328</td>\n",
              "      <td>0.406</td>\n",
              "      <td>0.734</td>\n",
              "      <td>NaN</td>\n",
              "      <td>NaN</td>\n",
              "    </tr>\n",
              "    <tr>\n",
              "      <th>1978</th>\n",
              "      <th>NYY</th>\n",
              "      <td>AL</td>\n",
              "      <td>163</td>\n",
              "      <td>100</td>\n",
              "      <td>63</td>\n",
              "      <td>True</td>\n",
              "      <td>1.0</td>\n",
              "      <td>1.0</td>\n",
              "      <td>735</td>\n",
              "      <td>582</td>\n",
              "      <td>0.267</td>\n",
              "      <td>0.329</td>\n",
              "      <td>0.388</td>\n",
              "      <td>0.717</td>\n",
              "      <td>NaN</td>\n",
              "      <td>NaN</td>\n",
              "    </tr>\n",
              "    <tr>\n",
              "      <th>1977</th>\n",
              "      <th>NYY</th>\n",
              "      <td>AL</td>\n",
              "      <td>162</td>\n",
              "      <td>100</td>\n",
              "      <td>62</td>\n",
              "      <td>True</td>\n",
              "      <td>3.0</td>\n",
              "      <td>1.0</td>\n",
              "      <td>831</td>\n",
              "      <td>651</td>\n",
              "      <td>0.281</td>\n",
              "      <td>0.344</td>\n",
              "      <td>0.444</td>\n",
              "      <td>0.788</td>\n",
              "      <td>NaN</td>\n",
              "      <td>NaN</td>\n",
              "    </tr>\n",
              "    <tr>\n",
              "      <th>1976</th>\n",
              "      <th>NYY</th>\n",
              "      <td>AL</td>\n",
              "      <td>159</td>\n",
              "      <td>97</td>\n",
              "      <td>62</td>\n",
              "      <td>True</td>\n",
              "      <td>3.0</td>\n",
              "      <td>2.0</td>\n",
              "      <td>730</td>\n",
              "      <td>575</td>\n",
              "      <td>0.269</td>\n",
              "      <td>0.328</td>\n",
              "      <td>0.389</td>\n",
              "      <td>0.717</td>\n",
              "      <td>NaN</td>\n",
              "      <td>NaN</td>\n",
              "    </tr>\n",
              "    <tr>\n",
              "      <th>1975</th>\n",
              "      <th>NYY</th>\n",
              "      <td>AL</td>\n",
              "      <td>160</td>\n",
              "      <td>83</td>\n",
              "      <td>77</td>\n",
              "      <td>False</td>\n",
              "      <td>NaN</td>\n",
              "      <td>NaN</td>\n",
              "      <td>681</td>\n",
              "      <td>588</td>\n",
              "      <td>0.264</td>\n",
              "      <td>0.325</td>\n",
              "      <td>0.382</td>\n",
              "      <td>0.707</td>\n",
              "      <td>NaN</td>\n",
              "      <td>NaN</td>\n",
              "    </tr>\n",
              "    <tr>\n",
              "      <th>1974</th>\n",
              "      <th>NYY</th>\n",
              "      <td>AL</td>\n",
              "      <td>162</td>\n",
              "      <td>89</td>\n",
              "      <td>73</td>\n",
              "      <td>False</td>\n",
              "      <td>NaN</td>\n",
              "      <td>NaN</td>\n",
              "      <td>671</td>\n",
              "      <td>623</td>\n",
              "      <td>0.263</td>\n",
              "      <td>0.324</td>\n",
              "      <td>0.368</td>\n",
              "      <td>0.692</td>\n",
              "      <td>NaN</td>\n",
              "      <td>NaN</td>\n",
              "    </tr>\n",
              "    <tr>\n",
              "      <th>1973</th>\n",
              "      <th>NYY</th>\n",
              "      <td>AL</td>\n",
              "      <td>162</td>\n",
              "      <td>80</td>\n",
              "      <td>82</td>\n",
              "      <td>False</td>\n",
              "      <td>NaN</td>\n",
              "      <td>NaN</td>\n",
              "      <td>641</td>\n",
              "      <td>610</td>\n",
              "      <td>0.261</td>\n",
              "      <td>0.322</td>\n",
              "      <td>0.378</td>\n",
              "      <td>0.700</td>\n",
              "      <td>NaN</td>\n",
              "      <td>NaN</td>\n",
              "    </tr>\n",
              "    <tr>\n",
              "      <th>1971</th>\n",
              "      <th>NYY</th>\n",
              "      <td>AL</td>\n",
              "      <td>162</td>\n",
              "      <td>81</td>\n",
              "      <td>81</td>\n",
              "      <td>False</td>\n",
              "      <td>NaN</td>\n",
              "      <td>NaN</td>\n",
              "      <td>648</td>\n",
              "      <td>641</td>\n",
              "      <td>0.254</td>\n",
              "      <td>0.328</td>\n",
              "      <td>0.360</td>\n",
              "      <td>0.688</td>\n",
              "      <td>NaN</td>\n",
              "      <td>NaN</td>\n",
              "    </tr>\n",
              "    <tr>\n",
              "      <th>1970</th>\n",
              "      <th>NYY</th>\n",
              "      <td>AL</td>\n",
              "      <td>163</td>\n",
              "      <td>93</td>\n",
              "      <td>70</td>\n",
              "      <td>False</td>\n",
              "      <td>NaN</td>\n",
              "      <td>NaN</td>\n",
              "      <td>680</td>\n",
              "      <td>612</td>\n",
              "      <td>0.251</td>\n",
              "      <td>0.324</td>\n",
              "      <td>0.365</td>\n",
              "      <td>0.689</td>\n",
              "      <td>NaN</td>\n",
              "      <td>NaN</td>\n",
              "    </tr>\n",
              "    <tr>\n",
              "      <th>1969</th>\n",
              "      <th>NYY</th>\n",
              "      <td>AL</td>\n",
              "      <td>162</td>\n",
              "      <td>80</td>\n",
              "      <td>82</td>\n",
              "      <td>False</td>\n",
              "      <td>NaN</td>\n",
              "      <td>NaN</td>\n",
              "      <td>562</td>\n",
              "      <td>587</td>\n",
              "      <td>0.235</td>\n",
              "      <td>0.308</td>\n",
              "      <td>0.344</td>\n",
              "      <td>0.652</td>\n",
              "      <td>NaN</td>\n",
              "      <td>NaN</td>\n",
              "    </tr>\n",
              "    <tr>\n",
              "      <th>1968</th>\n",
              "      <th>NYY</th>\n",
              "      <td>AL</td>\n",
              "      <td>164</td>\n",
              "      <td>83</td>\n",
              "      <td>81</td>\n",
              "      <td>False</td>\n",
              "      <td>NaN</td>\n",
              "      <td>NaN</td>\n",
              "      <td>536</td>\n",
              "      <td>531</td>\n",
              "      <td>0.214</td>\n",
              "      <td>0.292</td>\n",
              "      <td>0.318</td>\n",
              "      <td>0.610</td>\n",
              "      <td>NaN</td>\n",
              "      <td>NaN</td>\n",
              "    </tr>\n",
              "    <tr>\n",
              "      <th>1967</th>\n",
              "      <th>NYY</th>\n",
              "      <td>AL</td>\n",
              "      <td>163</td>\n",
              "      <td>72</td>\n",
              "      <td>91</td>\n",
              "      <td>False</td>\n",
              "      <td>NaN</td>\n",
              "      <td>NaN</td>\n",
              "      <td>522</td>\n",
              "      <td>621</td>\n",
              "      <td>0.225</td>\n",
              "      <td>0.296</td>\n",
              "      <td>0.317</td>\n",
              "      <td>0.613</td>\n",
              "      <td>NaN</td>\n",
              "      <td>NaN</td>\n",
              "    </tr>\n",
              "    <tr>\n",
              "      <th>1966</th>\n",
              "      <th>NYY</th>\n",
              "      <td>AL</td>\n",
              "      <td>160</td>\n",
              "      <td>70</td>\n",
              "      <td>90</td>\n",
              "      <td>False</td>\n",
              "      <td>NaN</td>\n",
              "      <td>NaN</td>\n",
              "      <td>611</td>\n",
              "      <td>612</td>\n",
              "      <td>0.235</td>\n",
              "      <td>0.299</td>\n",
              "      <td>0.374</td>\n",
              "      <td>0.673</td>\n",
              "      <td>NaN</td>\n",
              "      <td>NaN</td>\n",
              "    </tr>\n",
              "    <tr>\n",
              "      <th>1965</th>\n",
              "      <th>NYY</th>\n",
              "      <td>AL</td>\n",
              "      <td>162</td>\n",
              "      <td>77</td>\n",
              "      <td>85</td>\n",
              "      <td>False</td>\n",
              "      <td>NaN</td>\n",
              "      <td>NaN</td>\n",
              "      <td>611</td>\n",
              "      <td>604</td>\n",
              "      <td>0.235</td>\n",
              "      <td>0.299</td>\n",
              "      <td>0.364</td>\n",
              "      <td>0.663</td>\n",
              "      <td>NaN</td>\n",
              "      <td>NaN</td>\n",
              "    </tr>\n",
              "    <tr>\n",
              "      <th>1964</th>\n",
              "      <th>NYY</th>\n",
              "      <td>AL</td>\n",
              "      <td>164</td>\n",
              "      <td>99</td>\n",
              "      <td>65</td>\n",
              "      <td>True</td>\n",
              "      <td>1.0</td>\n",
              "      <td>2.0</td>\n",
              "      <td>730</td>\n",
              "      <td>577</td>\n",
              "      <td>0.253</td>\n",
              "      <td>0.317</td>\n",
              "      <td>0.387</td>\n",
              "      <td>0.704</td>\n",
              "      <td>NaN</td>\n",
              "      <td>NaN</td>\n",
              "    </tr>\n",
              "    <tr>\n",
              "      <th>1963</th>\n",
              "      <th>NYY</th>\n",
              "      <td>AL</td>\n",
              "      <td>161</td>\n",
              "      <td>104</td>\n",
              "      <td>57</td>\n",
              "      <td>True</td>\n",
              "      <td>1.0</td>\n",
              "      <td>2.0</td>\n",
              "      <td>714</td>\n",
              "      <td>547</td>\n",
              "      <td>0.252</td>\n",
              "      <td>0.309</td>\n",
              "      <td>0.403</td>\n",
              "      <td>0.712</td>\n",
              "      <td>NaN</td>\n",
              "      <td>NaN</td>\n",
              "    </tr>\n",
              "    <tr>\n",
              "      <th>1962</th>\n",
              "      <th>NYY</th>\n",
              "      <td>AL</td>\n",
              "      <td>162</td>\n",
              "      <td>96</td>\n",
              "      <td>66</td>\n",
              "      <td>True</td>\n",
              "      <td>2.0</td>\n",
              "      <td>1.0</td>\n",
              "      <td>817</td>\n",
              "      <td>680</td>\n",
              "      <td>0.267</td>\n",
              "      <td>0.337</td>\n",
              "      <td>0.426</td>\n",
              "      <td>0.763</td>\n",
              "      <td>NaN</td>\n",
              "      <td>NaN</td>\n",
              "    </tr>\n",
              "  </tbody>\n",
              "</table>\n",
              "</div>"
            ],
            "text/plain": [
              "          League    G    W   L  Playoffs  ...    OBP    SLG    OPS   OOBP   OSLG\n",
              "Year Team                                 ...                                   \n",
              "2012 NYY      AL  162   95  67      True  ...  0.337  0.453  0.790  0.311  0.419\n",
              "2011 NYY      AL  162   97  65      True  ...  0.343  0.444  0.787  0.322  0.399\n",
              "2010 NYY      AL  162   95  67      True  ...  0.350  0.436  0.786  0.322  0.399\n",
              "2009 NYY      AL  162  103  59      True  ...  0.362  0.478  0.840  0.327  0.408\n",
              "2008 NYY      AL  162   89  73     False  ...  0.342  0.427  0.769  0.329  0.405\n",
              "2007 NYY      AL  162   94  68      True  ...  0.366  0.463  0.829  0.340  0.417\n",
              "2006 NYY      AL  162   97  65      True  ...  0.363  0.461  0.824  0.326  0.413\n",
              "2005 NYY      AL  162   95  67      True  ...  0.355  0.450  0.805  0.332  0.422\n",
              "2004 NYY      AL  162  101  61      True  ...  0.353  0.458  0.811  0.328  0.432\n",
              "2003 NYY      AL  163  101  62      True  ...  0.356  0.453  0.809  0.314  0.407\n",
              "2002 NYY      AL  161  103  58      True  ...  0.354  0.455  0.809  0.309  0.395\n",
              "2001 NYY      AL  161   95  66      True  ...  0.334  0.435  0.769  0.318  0.398\n",
              "2000 NYY      AL  161   87  74      True  ...  0.354  0.450  0.804  0.336  0.422\n",
              "1999 NYY      AL  162   98  64      True  ...  0.366  0.453  0.819  0.329  0.400\n",
              "1998 NYY      AL  162  114  48      True  ...  0.364  0.460  0.824    NaN    NaN\n",
              "1997 NYY      AL  162   96  66      True  ...  0.362  0.436  0.798    NaN    NaN\n",
              "1996 NYY      AL  162   92  70      True  ...  0.360  0.436  0.796    NaN    NaN\n",
              "1993 NYY      AL  162   88  74     False  ...  0.353  0.435  0.788    NaN    NaN\n",
              "1992 NYY      AL  162   76  86     False  ...  0.328  0.406  0.734    NaN    NaN\n",
              "1991 NYY      AL  162   71  91     False  ...  0.316  0.387  0.703    NaN    NaN\n",
              "1990 NYY      AL  162   67  95     False  ...  0.300  0.366  0.666    NaN    NaN\n",
              "1989 NYY      AL  161   74  87     False  ...  0.331  0.391  0.722    NaN    NaN\n",
              "1988 NYY      AL  161   85  76     False  ...  0.333  0.395  0.728    NaN    NaN\n",
              "1987 NYY      AL  162   89  73     False  ...  0.336  0.418  0.754    NaN    NaN\n",
              "1986 NYY      AL  162   90  72     False  ...  0.347  0.430  0.777    NaN    NaN\n",
              "1985 NYY      AL  161   97  64     False  ...  0.344  0.425  0.769    NaN    NaN\n",
              "1984 NYY      AL  162   87  75     False  ...  0.339  0.404  0.743    NaN    NaN\n",
              "1983 NYY      AL  162   91  71     False  ...  0.337  0.416  0.753    NaN    NaN\n",
              "1982 NYY      AL  162   79  83     False  ...  0.328  0.398  0.726    NaN    NaN\n",
              "1980 NYY      AL  162  103  59      True  ...  0.343  0.425  0.768    NaN    NaN\n",
              "1979 NYY      AL  160   89  71     False  ...  0.328  0.406  0.734    NaN    NaN\n",
              "1978 NYY      AL  163  100  63      True  ...  0.329  0.388  0.717    NaN    NaN\n",
              "1977 NYY      AL  162  100  62      True  ...  0.344  0.444  0.788    NaN    NaN\n",
              "1976 NYY      AL  159   97  62      True  ...  0.328  0.389  0.717    NaN    NaN\n",
              "1975 NYY      AL  160   83  77     False  ...  0.325  0.382  0.707    NaN    NaN\n",
              "1974 NYY      AL  162   89  73     False  ...  0.324  0.368  0.692    NaN    NaN\n",
              "1973 NYY      AL  162   80  82     False  ...  0.322  0.378  0.700    NaN    NaN\n",
              "1971 NYY      AL  162   81  81     False  ...  0.328  0.360  0.688    NaN    NaN\n",
              "1970 NYY      AL  163   93  70     False  ...  0.324  0.365  0.689    NaN    NaN\n",
              "1969 NYY      AL  162   80  82     False  ...  0.308  0.344  0.652    NaN    NaN\n",
              "1968 NYY      AL  164   83  81     False  ...  0.292  0.318  0.610    NaN    NaN\n",
              "1967 NYY      AL  163   72  91     False  ...  0.296  0.317  0.613    NaN    NaN\n",
              "1966 NYY      AL  160   70  90     False  ...  0.299  0.374  0.673    NaN    NaN\n",
              "1965 NYY      AL  162   77  85     False  ...  0.299  0.364  0.663    NaN    NaN\n",
              "1964 NYY      AL  164   99  65      True  ...  0.317  0.387  0.704    NaN    NaN\n",
              "1963 NYY      AL  161  104  57      True  ...  0.309  0.403  0.712    NaN    NaN\n",
              "1962 NYY      AL  162   96  66      True  ...  0.337  0.426  0.763    NaN    NaN\n",
              "\n",
              "[47 rows x 15 columns]"
            ]
          },
          "metadata": {},
          "execution_count": 172
        }
      ]
    },
    {
      "cell_type": "markdown",
      "metadata": {
        "id": "rFfU5s9P7mPn"
      },
      "source": [
        "### RankSeason and RankPlayoffs as categories"
      ]
    },
    {
      "cell_type": "markdown",
      "metadata": {
        "id": "fbtW1iiI7o7N"
      },
      "source": [
        "Since the RankSeason and RankPlayoffs columns are positions of a given team (represented by each row in the dataframe), these two variables are categorical in nature. As we can see below, each season will contain only integer values between 1 and 8 for Season rank (i.e., the rank of the row's win total), or integer values 1 through 5 for playoff position (as until 2020, only 5 up to teams from each league qualified for the playoffs: 3 division winners and two non-division winners with the highest Win-Loss records)."
      ]
    },
    {
      "cell_type": "code",
      "metadata": {
        "colab": {
          "base_uri": "https://localhost:8080/"
        },
        "id": "X3o1d48779GR",
        "outputId": "3a859c4f-370a-49c6-fc05-750015b314ca"
      },
      "source": [
        "baseball.RankSeason.value_counts()"
      ],
      "execution_count": null,
      "outputs": [
        {
          "output_type": "execute_result",
          "data": {
            "text/plain": [
              "2.0    53\n",
              "1.0    52\n",
              "3.0    44\n",
              "4.0    44\n",
              "5.0    21\n",
              "6.0    20\n",
              "7.0     9\n",
              "8.0     1\n",
              "Name: RankSeason, dtype: int64"
            ]
          },
          "metadata": {},
          "execution_count": 173
        }
      ]
    },
    {
      "cell_type": "code",
      "metadata": {
        "colab": {
          "base_uri": "https://localhost:8080/"
        },
        "id": "UaTPfxBF8AdQ",
        "outputId": "5538195d-0ad2-4610-fb11-394b3c759715"
      },
      "source": [
        "baseball.RankPlayoffs.value_counts()"
      ],
      "execution_count": null,
      "outputs": [
        {
          "output_type": "execute_result",
          "data": {
            "text/plain": [
              "3.0    80\n",
              "4.0    68\n",
              "1.0    47\n",
              "2.0    47\n",
              "5.0     2\n",
              "Name: RankPlayoffs, dtype: int64"
            ]
          },
          "metadata": {},
          "execution_count": 174
        }
      ]
    },
    {
      "cell_type": "markdown",
      "metadata": {
        "id": "VMkA1tOS8khY"
      },
      "source": [
        "This can be better represented by transforming these two variables into categories:"
      ]
    },
    {
      "cell_type": "code",
      "metadata": {
        "colab": {
          "base_uri": "https://localhost:8080/"
        },
        "id": "ppAVB9UG8qi7",
        "outputId": "4b47c860-a4d3-48f4-c767-3db6cb468ff8"
      },
      "source": [
        "baseball['RankPlayoffs'] = baseball.RankPlayoffs.astype('category')\n",
        "baseball['RankSeason'] = baseball.RankSeason.astype('category')\n",
        "baseball.info()"
      ],
      "execution_count": null,
      "outputs": [
        {
          "output_type": "stream",
          "name": "stdout",
          "text": [
            "<class 'pandas.core.frame.DataFrame'>\n",
            "MultiIndex: 1232 entries, (2012, 'ARI') to (1962, 'WSA')\n",
            "Data columns (total 15 columns):\n",
            " #   Column        Non-Null Count  Dtype   \n",
            "---  ------        --------------  -----   \n",
            " 0   League        1232 non-null   object  \n",
            " 1   G             1232 non-null   int64   \n",
            " 2   W             1232 non-null   int64   \n",
            " 3   L             1232 non-null   int64   \n",
            " 4   Playoffs      1232 non-null   bool    \n",
            " 5   RankSeason    244 non-null    category\n",
            " 6   RankPlayoffs  244 non-null    category\n",
            " 7   RS            1232 non-null   int64   \n",
            " 8   RA            1232 non-null   int64   \n",
            " 9   BA            1232 non-null   float64 \n",
            " 10  OBP           1232 non-null   float64 \n",
            " 11  SLG           1232 non-null   float64 \n",
            " 12  OPS           1232 non-null   float64 \n",
            " 13  OOBP          420 non-null    float64 \n",
            " 14  OSLG          420 non-null    float64 \n",
            "dtypes: bool(1), category(2), float64(6), int64(5), object(1)\n",
            "memory usage: 125.4+ KB\n"
          ]
        }
      ]
    },
    {
      "cell_type": "markdown",
      "metadata": {
        "id": "n2wVwUuGnS9H"
      },
      "source": [
        "## 2. Missing Values"
      ]
    },
    {
      "cell_type": "markdown",
      "metadata": {
        "id": "PvHrUjBblkBQ"
      },
      "source": [
        "`RankSeason` and `RankPlayoffs` apply only to teams' seasons (rows) that ended with a playoff appearance, therefore missing data for teams that did not make the playoffs that year. Since these variables are not instrumental for analysis - the mean, variance, and quartiles of these fields is meaningless - the fact that the data is missing is inconsequential. "
      ]
    },
    {
      "cell_type": "markdown",
      "metadata": {
        "id": "V-vFrOQamISj"
      },
      "source": [
        "`OOBP` and `OSLG` are another two variables which do not have entries for the whole dataset. In this case, even though the complete data's presence would be beneficial for a more in-depth analysis of *what* helps a team succeed, the dataset is predominantly concerned with offensive statistics (runs scored, ratting average, on-base and slugging percentages). Nevertheless, especially since this data might still be useful for the overall picture, dropping these columns is unnecessary. Moreover, the missing data will not skew the analysis for the years that it's missing for. There is really no better value to replace the `NaN` entries with either, so it seems best to leave these columns as they are."
      ]
    },
    {
      "cell_type": "markdown",
      "metadata": {
        "id": "Z9aIRSF1kbRk"
      },
      "source": [
        "## 3. Variable Description"
      ]
    },
    {
      "cell_type": "markdown",
      "metadata": {
        "id": "xsccXg2kn6ep"
      },
      "source": [
        "(Some helper wrapper functions to simplify the descriptions)"
      ]
    },
    {
      "cell_type": "code",
      "metadata": {
        "id": "uey2hissGfxJ"
      },
      "source": [
        "def corr(column, colour='YlGn'):\n",
        "  # computes and creates a visual map of correlations for a given column, accented with the passed colour\n",
        "  corr = pd.DataFrame(baseball[baseball.columns[2:]].corr()[column]).transpose()\n",
        "  display(corr)\n",
        "  plt.figure(figsize=(10, 1))\n",
        "  sns.heatmap(corr, cmap=colour, annot=True)"
      ],
      "execution_count": null,
      "outputs": []
    },
    {
      "cell_type": "code",
      "metadata": {
        "id": "SdqlhMP3Hi3R"
      },
      "source": [
        "def dist(column):\n",
        "  # displays a histogram and a approximate distribution line for a given column\n",
        "  sns.histplot(baseball[column], kde=True)"
      ],
      "execution_count": null,
      "outputs": []
    },
    {
      "cell_type": "code",
      "metadata": {
        "id": "Oi3QcXsSNC-Z"
      },
      "source": [
        "def box(column):\n",
        "  # displays a box-and-whiskers plot for a given column\n",
        "  plt.figure(figsize=(3, 5))\n",
        "  sns.boxplot(y=baseball[column])"
      ],
      "execution_count": null,
      "outputs": []
    },
    {
      "cell_type": "code",
      "metadata": {
        "id": "liEFbMlD2Kcr"
      },
      "source": [
        "def ci(x):\n",
        "  # 95% confidence interval for μ of a normal\n",
        "  mean = baseball[x].mean()\n",
        "  std = baseball[x].std()\n",
        "  var = baseball[x].var()\n",
        "  n = len(baseball[x])\n",
        "  return sp.stats.t.interval(alpha=0.95, df=n-1, loc=mean, scale=sp.stats.sem(baseball[x]))"
      ],
      "execution_count": null,
      "outputs": []
    },
    {
      "cell_type": "code",
      "metadata": {
        "id": "hTs9ECl4vj2J"
      },
      "source": [
        "def outliers(c):\n",
        "  # finds and returns all the outliers (inner fence)\n",
        "  iqr = baseball[c].quantile(0.75) - baseball[c].quantile(0.25)\n",
        "  inner = iqr * 1.5\n",
        "\n",
        "  low_inner = baseball[c].quantile(0.25) - inner\n",
        "  high_inner = baseball[c].quantile(0.75) + inner\n",
        "  outlier = {\n",
        "      'low': [x for x in baseball[c] if x < low_inner],\n",
        "      'high': [x for x in baseball[c] if x > high_inner], \n",
        "      }\n",
        "  return outlier"
      ],
      "execution_count": null,
      "outputs": []
    },
    {
      "cell_type": "markdown",
      "metadata": {
        "id": "FfSN4nVk5bLG"
      },
      "source": [
        "### Categorical Variables"
      ]
    },
    {
      "cell_type": "markdown",
      "metadata": {
        "id": "vGVyJOL35uuA"
      },
      "source": [
        "#### Year"
      ]
    },
    {
      "cell_type": "markdown",
      "metadata": {
        "id": "qVntPbOOYahy"
      },
      "source": [
        "Even though `Year` is part of the multi-index, we can still get its value counts and do other operations with its values. For example, we can see how many teams made up the MLB in each season below:"
      ]
    },
    {
      "cell_type": "code",
      "metadata": {
        "colab": {
          "base_uri": "https://localhost:8080/"
        },
        "id": "BdN-9wJO9onV",
        "outputId": "b78eaa7a-cd6e-4ceb-c26b-6884824d9350"
      },
      "source": [
        "baseball.index.get_level_values(0).value_counts().sort_index()"
      ],
      "execution_count": null,
      "outputs": [
        {
          "output_type": "execute_result",
          "data": {
            "text/plain": [
              "1962    20\n",
              "1963    20\n",
              "1964    20\n",
              "1965    20\n",
              "1966    20\n",
              "1967    20\n",
              "1968    20\n",
              "1969    24\n",
              "1970    24\n",
              "1971    24\n",
              "1973    24\n",
              "1974    24\n",
              "1975    24\n",
              "1976    24\n",
              "1977    26\n",
              "1978    26\n",
              "1979    26\n",
              "1980    26\n",
              "1982    26\n",
              "1983    26\n",
              "1984    26\n",
              "1985    26\n",
              "1986    26\n",
              "1987    26\n",
              "1988    26\n",
              "1989    26\n",
              "1990    26\n",
              "1991    26\n",
              "1992    26\n",
              "1993    28\n",
              "1996    28\n",
              "1997    28\n",
              "1998    30\n",
              "1999    30\n",
              "2000    30\n",
              "2001    30\n",
              "2002    30\n",
              "2003    30\n",
              "2004    30\n",
              "2005    30\n",
              "2006    30\n",
              "2007    30\n",
              "2008    30\n",
              "2009    30\n",
              "2010    30\n",
              "2011    30\n",
              "2012    30\n",
              "Name: Year, dtype: int64"
            ]
          },
          "metadata": {},
          "execution_count": 181
        }
      ]
    },
    {
      "cell_type": "markdown",
      "metadata": {
        "id": "pijKeDk6bI0l"
      },
      "source": [
        "This can be visualized as follows(the white gap at above 1972, 1981, 1994, and 1995 signifies incomplete seasons missing from the data):"
      ]
    },
    {
      "cell_type": "code",
      "metadata": {
        "colab": {
          "base_uri": "https://localhost:8080/",
          "height": 351
        },
        "id": "wjv_MK-BZF1_",
        "outputId": "c820d8e3-a790-42ae-9fb9-10ce890fd2aa"
      },
      "source": [
        "plt.figure(figsize=(10, 5))\n",
        "sns.histplot(x=baseball.index.levels[0], y=baseball.index.get_level_values(0).value_counts().sort_index(), binwidth=1)"
      ],
      "execution_count": null,
      "outputs": [
        {
          "output_type": "execute_result",
          "data": {
            "text/plain": [
              "<matplotlib.axes._subplots.AxesSubplot at 0x7fcb7add2750>"
            ]
          },
          "metadata": {},
          "execution_count": 182
        },
        {
          "output_type": "display_data",
          "data": {
            "image/png": "[encoded data removed]",
            "text/plain": [
              "<Figure size 720x360 with 1 Axes>"
            ]
          },
          "metadata": {
            "needs_background": "light"
          }
        }
      ]
    },
    {
      "cell_type": "markdown",
      "metadata": {
        "id": "O5T9lB_ydVvx"
      },
      "source": [
        "Clearly, the league expanded in increments of two at a time."
      ]
    },
    {
      "cell_type": "markdown",
      "metadata": {
        "id": "N3jgLBje5d5K"
      },
      "source": [
        "#### Team"
      ]
    },
    {
      "cell_type": "markdown",
      "metadata": {
        "id": "p2L9PJlIdnx1"
      },
      "source": [
        "Similar to above, we can find the number of teams in the league and how many of the 47 seasons played from 1962 to 2012 was each one involved in:"
      ]
    },
    {
      "cell_type": "code",
      "metadata": {
        "colab": {
          "base_uri": "https://localhost:8080/"
        },
        "id": "Qj1JoBhv97xi",
        "outputId": "0779276b-d2a6-4c9d-a492-64c93d6a6257"
      },
      "source": [
        "baseball.index.get_level_values(1).value_counts().sort_values(ascending=False)"
      ],
      "execution_count": null,
      "outputs": [
        {
          "output_type": "execute_result",
          "data": {
            "text/plain": [
              "SFG    47\n",
              "PHI    47\n",
              "NYY    47\n",
              "BAL    47\n",
              "LAD    47\n",
              "NYM    47\n",
              "CHW    47\n",
              "PIT    47\n",
              "BOS    47\n",
              "CHC    47\n",
              "DET    47\n",
              "CLE    47\n",
              "MIN    47\n",
              "HOU    47\n",
              "STL    47\n",
              "CIN    47\n",
              "ATL    43\n",
              "OAK    41\n",
              "SDP    40\n",
              "KCR    40\n",
              "MIL    39\n",
              "TEX    37\n",
              "SEA    33\n",
              "TOR    33\n",
              "MON    32\n",
              "CAL    28\n",
              "COL    18\n",
              "FLA    17\n",
              "ARI    15\n",
              "LAA    11\n",
              "WSA    10\n",
              "TBD    10\n",
              "WSN     8\n",
              "ANA     8\n",
              "KCA     6\n",
              "TBR     5\n",
              "MLN     4\n",
              "MIA     1\n",
              "SEP     1\n",
              "Name: Team, dtype: int64"
            ]
          },
          "metadata": {},
          "execution_count": 183
        }
      ]
    },
    {
      "cell_type": "code",
      "metadata": {
        "colab": {
          "base_uri": "https://localhost:8080/",
          "height": 337
        },
        "id": "pQdR2jr3d6ui",
        "outputId": "faf0200f-238c-469a-884a-4260c90cc7f2"
      },
      "source": [
        "plt.figure(figsize=(20, 5))\n",
        "sns.histplot(x=baseball.index.get_level_values(1).value_counts().sort_values(ascending=False).index, y=baseball.index.get_level_values(1).value_counts().sort_values(ascending=False))"
      ],
      "execution_count": null,
      "outputs": [
        {
          "output_type": "execute_result",
          "data": {
            "text/plain": [
              "<matplotlib.axes._subplots.AxesSubplot at 0x7fcb7ad83810>"
            ]
          },
          "metadata": {},
          "execution_count": 184
        },
        {
          "output_type": "display_data",
          "data": {
            "image/png": "[encoded data removed]",
            "text/plain": [
              "<Figure size 1440x360 with 1 Axes>"
            ]
          },
          "metadata": {
            "needs_background": "light"
          }
        }
      ]
    },
    {
      "cell_type": "markdown",
      "metadata": {
        "id": "iQgKyact5wYA"
      },
      "source": [
        "#### League"
      ]
    },
    {
      "cell_type": "markdown",
      "metadata": {
        "id": "VS6Ciky1iV34"
      },
      "source": [
        "The MLB is composed of two sub-leagues: the American League and the National League. Throughout the years included in this dataset, each league maintained an even number of teams:"
      ]
    },
    {
      "cell_type": "code",
      "metadata": {
        "colab": {
          "base_uri": "https://localhost:8080/"
        },
        "id": "npVN86nE-Eb8",
        "outputId": "ebf0febb-3826-411f-9484-cbbd8929a75c"
      },
      "source": [
        "baseball.League.value_counts()"
      ],
      "execution_count": null,
      "outputs": [
        {
          "output_type": "execute_result",
          "data": {
            "text/plain": [
              "AL    616\n",
              "NL    616\n",
              "Name: League, dtype: int64"
            ]
          },
          "metadata": {},
          "execution_count": 185
        }
      ]
    },
    {
      "cell_type": "code",
      "metadata": {
        "colab": {
          "base_uri": "https://localhost:8080/",
          "height": 296
        },
        "id": "4Iby7qqF-eE8",
        "outputId": "671c1f74-8be2-4981-a62b-210b3c06f6eb"
      },
      "source": [
        "sns.histplot(baseball['League'])"
      ],
      "execution_count": null,
      "outputs": [
        {
          "output_type": "execute_result",
          "data": {
            "text/plain": [
              "<matplotlib.axes._subplots.AxesSubplot at 0x7fcb7ad2db10>"
            ]
          },
          "metadata": {},
          "execution_count": 186
        },
        {
          "output_type": "display_data",
          "data": {
            "image/png": "[encoded data removed]",
            "text/plain": [
              "<Figure size 432x288 with 1 Axes>"
            ]
          },
          "metadata": {
            "needs_background": "light"
          }
        }
      ]
    },
    {
      "cell_type": "markdown",
      "metadata": {
        "id": "uQjdyhyj5x-s"
      },
      "source": [
        "#### RankSeason"
      ]
    },
    {
      "cell_type": "markdown",
      "metadata": {
        "id": "CMoVkbzRiv0W"
      },
      "source": [
        "The RankSeason variable includes the final rank according to their Win-Loss ratio of every team that made the playoffs. This metric can be useful in determining, for example, if regular season performance translates to higher likelihood of Playoff success. The uneven spread of the values (particularly the dropoff in number of ranks 5-8) is a function of the expansions of playoffs."
      ]
    },
    {
      "cell_type": "code",
      "metadata": {
        "colab": {
          "base_uri": "https://localhost:8080/"
        },
        "id": "IzJDxvXa-HlT",
        "outputId": "a0395e49-46df-4257-a1c4-d39e7922a431"
      },
      "source": [
        "baseball.RankSeason.value_counts()"
      ],
      "execution_count": null,
      "outputs": [
        {
          "output_type": "execute_result",
          "data": {
            "text/plain": [
              "2.0    53\n",
              "1.0    52\n",
              "4.0    44\n",
              "3.0    44\n",
              "5.0    21\n",
              "6.0    20\n",
              "7.0     9\n",
              "8.0     1\n",
              "Name: RankSeason, dtype: int64"
            ]
          },
          "metadata": {},
          "execution_count": 112
        }
      ]
    },
    {
      "cell_type": "code",
      "metadata": {
        "colab": {
          "base_uri": "https://localhost:8080/"
        },
        "id": "Wb-pnWxNkhoA",
        "outputId": "586636d2-5fd3-4653-c52c-d98cf86379bd"
      },
      "source": [
        "playoff_teams = {x : baseball.loc[x, :, :].Playoffs.sum() for x in baseball.index.get_level_values(0).unique()}\n",
        "playoff_teams"
      ],
      "execution_count": null,
      "outputs": [
        {
          "output_type": "execute_result",
          "data": {
            "text/plain": [
              "{1962: 2,\n",
              " 1963: 2,\n",
              " 1964: 2,\n",
              " 1965: 2,\n",
              " 1966: 2,\n",
              " 1967: 2,\n",
              " 1968: 2,\n",
              " 1969: 4,\n",
              " 1970: 4,\n",
              " 1971: 4,\n",
              " 1973: 4,\n",
              " 1974: 4,\n",
              " 1975: 4,\n",
              " 1976: 4,\n",
              " 1977: 4,\n",
              " 1978: 4,\n",
              " 1979: 4,\n",
              " 1980: 4,\n",
              " 1982: 4,\n",
              " 1983: 4,\n",
              " 1984: 4,\n",
              " 1985: 4,\n",
              " 1986: 4,\n",
              " 1987: 4,\n",
              " 1988: 4,\n",
              " 1989: 4,\n",
              " 1990: 4,\n",
              " 1991: 4,\n",
              " 1992: 4,\n",
              " 1993: 4,\n",
              " 1996: 8,\n",
              " 1997: 8,\n",
              " 1998: 8,\n",
              " 1999: 8,\n",
              " 2000: 8,\n",
              " 2001: 8,\n",
              " 2002: 8,\n",
              " 2003: 8,\n",
              " 2004: 8,\n",
              " 2005: 8,\n",
              " 2006: 8,\n",
              " 2007: 8,\n",
              " 2008: 8,\n",
              " 2009: 8,\n",
              " 2010: 8,\n",
              " 2011: 8,\n",
              " 2012: 10}"
            ]
          },
          "metadata": {},
          "execution_count": 205
        }
      ]
    },
    {
      "cell_type": "markdown",
      "metadata": {
        "id": "hN1197ZRlfNN"
      },
      "source": [
        "As seen above, the playoff format changed almost as often as the size of the league, starting from 2 (where only the regular season winners of each league played each other in the World Series), reaching all the way to 10 in 2012, where, besides the 3 best teams from each division in each league, another two runner-ups were allowed in as Wild Cards.\n",
        "\n",
        "Playoff size growth over the years:"
      ]
    },
    {
      "cell_type": "code",
      "metadata": {
        "colab": {
          "base_uri": "https://localhost:8080/",
          "height": 337
        },
        "id": "ejdAPiMFlkx4",
        "outputId": "e8259cbe-b928-43b8-f45e-8152506417e8"
      },
      "source": [
        "plt.figure(figsize=(10, 5))\n",
        "sns.histplot(x=playoff_teams.keys(), y=playoff_teams.values(), binwidth=1)"
      ],
      "execution_count": null,
      "outputs": [
        {
          "output_type": "execute_result",
          "data": {
            "text/plain": [
              "<matplotlib.axes._subplots.AxesSubplot at 0x7fcb7aad8310>"
            ]
          },
          "metadata": {},
          "execution_count": 207
        },
        {
          "output_type": "display_data",
          "data": {
            "image/png": "[encoded data removed]",
            "text/plain": [
              "<Figure size 720x360 with 1 Axes>"
            ]
          },
          "metadata": {
            "needs_background": "light"
          }
        }
      ]
    },
    {
      "cell_type": "markdown",
      "metadata": {
        "id": "EzpW0aoekgxi"
      },
      "source": [
        "Another, lesser reason for the unevenness is the fact that two teams could end with the same Win-Loss ratio, which would give them the same season rank (this can be seen easily by noting that there are more than 50 values for ranks 1 and 2, despite there only being 47 seasons in the dataset). "
      ]
    },
    {
      "cell_type": "code",
      "metadata": {
        "colab": {
          "base_uri": "https://localhost:8080/",
          "height": 296
        },
        "id": "FIHXw8x2-Xkk",
        "outputId": "1c1bd17d-537e-42a8-c795-4acc0a8dc0bf"
      },
      "source": [
        "sns.histplot(baseball['RankSeason'])"
      ],
      "execution_count": null,
      "outputs": [
        {
          "output_type": "execute_result",
          "data": {
            "text/plain": [
              "<matplotlib.axes._subplots.AxesSubplot at 0x7fcb7ac2a0d0>"
            ]
          },
          "metadata": {},
          "execution_count": 190
        },
        {
          "output_type": "display_data",
          "data": {
            "image/png": "[encoded data removed]",
            "text/plain": [
              "<Figure size 432x288 with 1 Axes>"
            ]
          },
          "metadata": {
            "needs_background": "light"
          }
        }
      ]
    },
    {
      "cell_type": "markdown",
      "metadata": {
        "id": "1PTrLNJh507w"
      },
      "source": [
        "#### RankPlayoffs"
      ]
    },
    {
      "cell_type": "markdown",
      "metadata": {
        "id": "4vJnr0sRmm94"
      },
      "source": [
        "A categorical variable, similar to RankSeason. This time, the ultimate ranking in the playoffs is considered. Similarly to above, there are nearly no teams that ranked 5 in the playoffs - since 2012 was the first year that the new Wild Card format that allowed a 5th team was instituted. This time, the number of number 1 and number 2 teams is equal to the number of seasons in the dataset. Clearly, while Win-Loss records can be shared by two teams, only one team could rank First or Second overall in a Playoff."
      ]
    },
    {
      "cell_type": "code",
      "metadata": {
        "colab": {
          "base_uri": "https://localhost:8080/"
        },
        "id": "7ItZOQbE-J8n",
        "outputId": "0751cd62-0f8a-43f8-8eed-ef1e42c34238"
      },
      "source": [
        "baseball.RankPlayoffs.value_counts()"
      ],
      "execution_count": null,
      "outputs": [
        {
          "output_type": "execute_result",
          "data": {
            "text/plain": [
              "3.0    80\n",
              "4.0    68\n",
              "2.0    47\n",
              "1.0    47\n",
              "5.0     2\n",
              "Name: RankPlayoffs, dtype: int64"
            ]
          },
          "metadata": {},
          "execution_count": 114
        }
      ]
    },
    {
      "cell_type": "code",
      "metadata": {
        "colab": {
          "base_uri": "https://localhost:8080/",
          "height": 296
        },
        "id": "g1OU9Y5W-SQT",
        "outputId": "e258bf50-58b5-4982-a5a5-04b5e0abc37e"
      },
      "source": [
        "sns.histplot(baseball['RankPlayoffs'])"
      ],
      "execution_count": null,
      "outputs": [
        {
          "output_type": "execute_result",
          "data": {
            "text/plain": [
              "<matplotlib.axes._subplots.AxesSubplot at 0x7fcb7aeffa10>"
            ]
          },
          "metadata": {},
          "execution_count": 138
        },
        {
          "output_type": "display_data",
          "data": {
            "image/png": "[encoded data removed]",
            "text/plain": [
              "<Figure size 432x288 with 1 Axes>"
            ]
          },
          "metadata": {
            "needs_background": "light"
          }
        }
      ]
    },
    {
      "cell_type": "markdown",
      "metadata": {
        "id": "dxlkOr-uleku"
      },
      "source": [
        "### Numeric Variables"
      ]
    },
    {
      "cell_type": "markdown",
      "metadata": {
        "id": "4ZWaZe-knPIa"
      },
      "source": [
        "#### Games Played, Wins, Losses\n"
      ]
    },
    {
      "cell_type": "markdown",
      "metadata": {
        "id": "fIQPPuIAnb14"
      },
      "source": [
        "These three variables denote the total games played by each team in the season, as well as their win - loss totals, respectively. The `Games` column is mostly the same for all teams (with few exceptions in the form of tie-breakers), since the MLB baseball season comprised of 162 games throghout the period described by this dataset. The `Win` and `Loss` columns are the main metric for a team's performance in a given season."
      ]
    },
    {
      "cell_type": "code",
      "metadata": {
        "colab": {
          "base_uri": "https://localhost:8080/"
        },
        "id": "IJM_4sGrS_18",
        "outputId": "8c451c43-fd9d-4cad-b3e3-58d663ceb925"
      },
      "source": [
        "baseball.G.describe()"
      ],
      "execution_count": null,
      "outputs": [
        {
          "output_type": "execute_result",
          "data": {
            "text/plain": [
              "count    1232.000000\n",
              "mean      161.918831\n",
              "std         0.624365\n",
              "min       158.000000\n",
              "25%       162.000000\n",
              "50%       162.000000\n",
              "75%       162.000000\n",
              "max       165.000000\n",
              "Name: G, dtype: float64"
            ]
          },
          "metadata": {},
          "execution_count": 12
        }
      ]
    },
    {
      "cell_type": "code",
      "metadata": {
        "colab": {
          "base_uri": "https://localhost:8080/"
        },
        "id": "VRKMdUzvuGJk",
        "outputId": "405c7494-c1fc-4bcb-cef7-39108d863345"
      },
      "source": [
        "baseball.W.describe()"
      ],
      "execution_count": null,
      "outputs": [
        {
          "output_type": "execute_result",
          "data": {
            "text/plain": [
              "count    1232.000000\n",
              "mean       80.904221\n",
              "std        11.458139\n",
              "min        40.000000\n",
              "25%        73.000000\n",
              "50%        81.000000\n",
              "75%        89.000000\n",
              "max       116.000000\n",
              "Name: W, dtype: float64"
            ]
          },
          "metadata": {},
          "execution_count": 13
        }
      ]
    },
    {
      "cell_type": "code",
      "metadata": {
        "colab": {
          "base_uri": "https://localhost:8080/"
        },
        "id": "z6RWNR_DuKRJ",
        "outputId": "bed55742-3407-4f68-dd04-670b4892a089"
      },
      "source": [
        "baseball.L.describe()"
      ],
      "execution_count": null,
      "outputs": [
        {
          "output_type": "execute_result",
          "data": {
            "text/plain": [
              "count    1232.000000\n",
              "mean       81.014610\n",
              "std        11.409295\n",
              "min        46.000000\n",
              "25%        73.000000\n",
              "50%        81.000000\n",
              "75%        89.000000\n",
              "max       121.000000\n",
              "Name: L, dtype: float64"
            ]
          },
          "metadata": {},
          "execution_count": 14
        }
      ]
    },
    {
      "cell_type": "markdown",
      "metadata": {
        "id": "idRRg8pIublR"
      },
      "source": [
        "Of note in the above descriptions are their respective `min` and `max` values which indicate outliers. It is understandable that Major League Baseball would pursue parity, and thus most teams do not win more than 60% of their games. However, exceptional seasons do exist in both columns."
      ]
    },
    {
      "cell_type": "markdown",
      "metadata": {
        "id": "xJrG0nLDrpHr"
      },
      "source": [
        "We can find the correlations between the `Win` column and other columns with the command below (using the `corr()` function we defined earlier):"
      ]
    },
    {
      "cell_type": "code",
      "metadata": {
        "colab": {
          "base_uri": "https://localhost:8080/",
          "height": 168
        },
        "id": "LOZYPo6eHcMU",
        "outputId": "00674a0f-0fc3-4cc3-d259-002e6565e657"
      },
      "source": [
        "corr(\"W\", \"PuRd\")"
      ],
      "execution_count": null,
      "outputs": [
        {
          "output_type": "display_data",
          "data": {
            "text/html": [
              "<div>\n",
              "<style scoped>\n",
              "    .dataframe tbody tr th:only-of-type {\n",
              "        vertical-align: middle;\n",
              "    }\n",
              "\n",
              "    .dataframe tbody tr th {\n",
              "        vertical-align: top;\n",
              "    }\n",
              "\n",
              "    .dataframe thead th {\n",
              "        text-align: right;\n",
              "    }\n",
              "</style>\n",
              "<table border=\"1\" class=\"dataframe\">\n",
              "  <thead>\n",
              "    <tr style=\"text-align: right;\">\n",
              "      <th></th>\n",
              "      <th>W</th>\n",
              "      <th>L</th>\n",
              "      <th>Playoffs</th>\n",
              "      <th>RS</th>\n",
              "      <th>RA</th>\n",
              "      <th>BA</th>\n",
              "      <th>OBP</th>\n",
              "      <th>SLG</th>\n",
              "      <th>OPS</th>\n",
              "      <th>OOBP</th>\n",
              "      <th>OSLG</th>\n",
              "    </tr>\n",
              "  </thead>\n",
              "  <tbody>\n",
              "    <tr>\n",
              "      <th>W</th>\n",
              "      <td>1.0</td>\n",
              "      <td>-0.998518</td>\n",
              "      <td>0.616757</td>\n",
              "      <td>0.511745</td>\n",
              "      <td>-0.532394</td>\n",
              "      <td>0.408716</td>\n",
              "      <td>0.481836</td>\n",
              "      <td>0.401496</td>\n",
              "      <td>0.446972</td>\n",
              "      <td>-0.634315</td>\n",
              "      <td>-0.56849</td>\n",
              "    </tr>\n",
              "  </tbody>\n",
              "</table>\n",
              "</div>"
            ],
            "text/plain": [
              "     W         L  Playoffs        RS  ...       SLG       OPS      OOBP     OSLG\n",
              "W  1.0 -0.998518  0.616757  0.511745  ...  0.401496  0.446972 -0.634315 -0.56849\n",
              "\n",
              "[1 rows x 11 columns]"
            ]
          },
          "metadata": {}
        },
        {
          "output_type": "display_data",
          "data": {
            "image/png": "[encoded data removed]",
            "text/plain": [
              "<Figure size 720x72 with 2 Axes>"
            ]
          },
          "metadata": {
            "needs_background": "light"
          }
        }
      ]
    },
    {
      "cell_type": "code",
      "metadata": {
        "colab": {
          "base_uri": "https://localhost:8080/",
          "height": 279
        },
        "id": "W6uIIcRLH9cj",
        "outputId": "af2164c7-dbed-4b25-a56a-e586213bfb7a"
      },
      "source": [
        "dist(\"W\")"
      ],
      "execution_count": null,
      "outputs": [
        {
          "output_type": "display_data",
          "data": {
            "image/png": "[encoded data removed]",
            "text/plain": [
              "<Figure size 432x288 with 1 Axes>"
            ]
          },
          "metadata": {
            "needs_background": "light"
          }
        }
      ]
    },
    {
      "cell_type": "code",
      "metadata": {
        "colab": {
          "base_uri": "https://localhost:8080/",
          "height": 306
        },
        "id": "mT18h2moNMCH",
        "outputId": "c06ddde2-d484-46ff-9a83-626e450ab278"
      },
      "source": [
        "box(\"W\")"
      ],
      "execution_count": null,
      "outputs": [
        {
          "output_type": "display_data",
          "data": {
            "image/png": "[encoded data removed]",
            "text/plain": [
              "<Figure size 216x360 with 1 Axes>"
            ]
          },
          "metadata": {
            "needs_background": "light"
          }
        }
      ]
    },
    {
      "cell_type": "code",
      "metadata": {
        "colab": {
          "base_uri": "https://localhost:8080/"
        },
        "id": "A7uYxllGytPB",
        "outputId": "b3f84186-8cba-4ce8-c9ef-d5b03f0281de"
      },
      "source": [
        "outliers(\"W\")"
      ],
      "execution_count": null,
      "outputs": [
        {
          "output_type": "execute_result",
          "data": {
            "text/plain": [
              "{'high': [116, 114], 'low': [43, 40]}"
            ]
          },
          "metadata": {},
          "execution_count": 18
        }
      ]
    },
    {
      "cell_type": "markdown",
      "metadata": {
        "id": "5wC_1Mt-tdRC"
      },
      "source": [
        "Similarly, for losses:"
      ]
    },
    {
      "cell_type": "code",
      "metadata": {
        "colab": {
          "base_uri": "https://localhost:8080/",
          "height": 168
        },
        "id": "uhd4rYq8r-yH",
        "outputId": "1daa36a4-56be-4687-c276-6295a94dbf77"
      },
      "source": [
        "corr(\"L\", \"RdPu\")"
      ],
      "execution_count": null,
      "outputs": [
        {
          "output_type": "display_data",
          "data": {
            "text/html": [
              "<div>\n",
              "<style scoped>\n",
              "    .dataframe tbody tr th:only-of-type {\n",
              "        vertical-align: middle;\n",
              "    }\n",
              "\n",
              "    .dataframe tbody tr th {\n",
              "        vertical-align: top;\n",
              "    }\n",
              "\n",
              "    .dataframe thead th {\n",
              "        text-align: right;\n",
              "    }\n",
              "</style>\n",
              "<table border=\"1\" class=\"dataframe\">\n",
              "  <thead>\n",
              "    <tr style=\"text-align: right;\">\n",
              "      <th></th>\n",
              "      <th>W</th>\n",
              "      <th>L</th>\n",
              "      <th>Playoffs</th>\n",
              "      <th>RS</th>\n",
              "      <th>RA</th>\n",
              "      <th>BA</th>\n",
              "      <th>OBP</th>\n",
              "      <th>SLG</th>\n",
              "      <th>OPS</th>\n",
              "      <th>OOBP</th>\n",
              "      <th>OSLG</th>\n",
              "    </tr>\n",
              "  </thead>\n",
              "  <tbody>\n",
              "    <tr>\n",
              "      <th>L</th>\n",
              "      <td>-0.998518</td>\n",
              "      <td>1.0</td>\n",
              "      <td>-0.618182</td>\n",
              "      <td>-0.509821</td>\n",
              "      <td>0.533394</td>\n",
              "      <td>-0.409377</td>\n",
              "      <td>-0.482993</td>\n",
              "      <td>-0.401202</td>\n",
              "      <td>-0.447137</td>\n",
              "      <td>0.634181</td>\n",
              "      <td>0.570313</td>\n",
              "    </tr>\n",
              "  </tbody>\n",
              "</table>\n",
              "</div>"
            ],
            "text/plain": [
              "          W    L  Playoffs        RS  ...       SLG       OPS      OOBP      OSLG\n",
              "L -0.998518  1.0 -0.618182 -0.509821  ... -0.401202 -0.447137  0.634181  0.570313\n",
              "\n",
              "[1 rows x 11 columns]"
            ]
          },
          "metadata": {}
        },
        {
          "output_type": "display_data",
          "data": {
            "image/png": "[encoded data removed]",
            "text/plain": [
              "<Figure size 720x72 with 2 Axes>"
            ]
          },
          "metadata": {
            "needs_background": "light"
          }
        }
      ]
    },
    {
      "cell_type": "code",
      "metadata": {
        "colab": {
          "base_uri": "https://localhost:8080/",
          "height": 279
        },
        "id": "X8PjzQhnIbC_",
        "outputId": "8c0fe7e4-50c6-4474-ec6a-e028dff7005d"
      },
      "source": [
        "dist(\"L\")"
      ],
      "execution_count": null,
      "outputs": [
        {
          "output_type": "display_data",
          "data": {
            "image/png": "[encoded data removed]",
            "text/plain": [
              "<Figure size 432x288 with 1 Axes>"
            ]
          },
          "metadata": {
            "needs_background": "light"
          }
        }
      ]
    },
    {
      "cell_type": "code",
      "metadata": {
        "colab": {
          "base_uri": "https://localhost:8080/",
          "height": 306
        },
        "id": "mVsiGZlTNxc5",
        "outputId": "f580bbce-f7fe-4721-cd0f-19976c921272"
      },
      "source": [
        "box(\"L\")"
      ],
      "execution_count": null,
      "outputs": [
        {
          "output_type": "display_data",
          "data": {
            "image/png": "[encoded data removed]",
            "text/plain": [
              "<Figure size 216x360 with 1 Axes>"
            ]
          },
          "metadata": {
            "needs_background": "light"
          }
        }
      ]
    },
    {
      "cell_type": "code",
      "metadata": {
        "colab": {
          "base_uri": "https://localhost:8080/"
        },
        "id": "_CQ0M-0_y1g2",
        "outputId": "3f692254-6df6-4b97-edc6-7f3b972d06c3"
      },
      "source": [
        "outliers(\"L\")"
      ],
      "execution_count": null,
      "outputs": [
        {
          "output_type": "execute_result",
          "data": {
            "text/plain": [
              "{'high': [119, 114, 121], 'low': [46, 48]}"
            ]
          },
          "metadata": {},
          "execution_count": 211
        }
      ]
    },
    {
      "cell_type": "markdown",
      "metadata": {
        "id": "fSzTsZR8tsI2"
      },
      "source": [
        "Unsurprisingly, the `W` and `L` are almost perfectly negatively correlated (with correlation coefficient of approximately -1). Since these two columns are related by each other linearly (G = W + L), anything that benefits from a higher `Win` total is hurt by a higher `Loss` total and vice versa. (The correlation value being slightly above -1 in each case is most likely due to the slight variations in the number of games played - some teams may have needed tie-breakers at the end of their season).\n",
        "\n",
        "Both variables appear to be normally distributed with a mean of about 81, which is half of the baseball season. There don't seem to be many outliers, either - vast majority of the datapoints seem to be contained within the whiskers, with only a few particularly exceptionally good or bad seasons sprinkled outside of the ranges."
      ]
    },
    {
      "cell_type": "markdown",
      "metadata": {
        "id": "AsTy2HNqsXD2"
      },
      "source": [
        "#### Playoffs"
      ]
    },
    {
      "cell_type": "markdown",
      "metadata": {
        "id": "38SYmEWtsa_b"
      },
      "source": [
        "A boolean variable (originally 1 and 0). Indicates whether a given season ended with a playoff appearance. Since this variable only takes on binary values, a mean and quartiles are meaningless. However, correlation with other variables is a valid aspect of this column that we can explore:"
      ]
    },
    {
      "cell_type": "code",
      "metadata": {
        "colab": {
          "base_uri": "https://localhost:8080/",
          "height": 168
        },
        "id": "5kJJbrKVsmDy",
        "outputId": "bce0f2bc-e97d-4cb4-933f-c993eb626624"
      },
      "source": [
        "corr(\"Playoffs\", \"YlGn\")"
      ],
      "execution_count": null,
      "outputs": [
        {
          "output_type": "display_data",
          "data": {
            "text/html": [
              "<div>\n",
              "<style scoped>\n",
              "    .dataframe tbody tr th:only-of-type {\n",
              "        vertical-align: middle;\n",
              "    }\n",
              "\n",
              "    .dataframe tbody tr th {\n",
              "        vertical-align: top;\n",
              "    }\n",
              "\n",
              "    .dataframe thead th {\n",
              "        text-align: right;\n",
              "    }\n",
              "</style>\n",
              "<table border=\"1\" class=\"dataframe\">\n",
              "  <thead>\n",
              "    <tr style=\"text-align: right;\">\n",
              "      <th></th>\n",
              "      <th>W</th>\n",
              "      <th>L</th>\n",
              "      <th>Playoffs</th>\n",
              "      <th>RS</th>\n",
              "      <th>RA</th>\n",
              "      <th>BA</th>\n",
              "      <th>OBP</th>\n",
              "      <th>SLG</th>\n",
              "      <th>OPS</th>\n",
              "      <th>OOBP</th>\n",
              "      <th>OSLG</th>\n",
              "    </tr>\n",
              "  </thead>\n",
              "  <tbody>\n",
              "    <tr>\n",
              "      <th>Playoffs</th>\n",
              "      <td>0.616757</td>\n",
              "      <td>-0.618182</td>\n",
              "      <td>1.0</td>\n",
              "      <td>0.386628</td>\n",
              "      <td>-0.261477</td>\n",
              "      <td>0.290217</td>\n",
              "      <td>0.36389</td>\n",
              "      <td>0.324713</td>\n",
              "      <td>0.353084</td>\n",
              "      <td>-0.433572</td>\n",
              "      <td>-0.366744</td>\n",
              "    </tr>\n",
              "  </tbody>\n",
              "</table>\n",
              "</div>"
            ],
            "text/plain": [
              "                 W         L  Playoffs  ...       OPS      OOBP      OSLG\n",
              "Playoffs  0.616757 -0.618182       1.0  ...  0.353084 -0.433572 -0.366744\n",
              "\n",
              "[1 rows x 11 columns]"
            ]
          },
          "metadata": {}
        },
        {
          "output_type": "display_data",
          "data": {
            "image/png": "[encoded data removed]",
            "text/plain": [
              "<Figure size 720x72 with 2 Axes>"
            ]
          },
          "metadata": {
            "needs_background": "light"
          }
        }
      ]
    },
    {
      "cell_type": "markdown",
      "metadata": {
        "id": "jObBzs1kvDm2"
      },
      "source": [
        "`RankSeason` and `RankPlayoffs` do not have a correlation value which is understandable, since these two variables are fully dependent on `Playoffs` being equal to `True` (and do not have a value otherwise - therefore, a change in `Playoffs` is only a change in whether a value in those columns exists without a mapping to the value itself)."
      ]
    },
    {
      "cell_type": "markdown",
      "metadata": {
        "id": "2y0ab6RtFDx7"
      },
      "source": [
        "Note: Throghout the years, the format of MLB Playoffs changed. In this dataset, in the years 1962-1969 \"playoffs\" consisted of only the World Series - one game between the Win-Loss record-wise top teams in the American League and National League. While this does mean that for those seasons fewer teams would have made the playoffs, it shouldn't affect the observations in the larger picture (particularly the positive correlations between reaching the playoffs and win totals or offensive statistics). Because of this, the columns `RankSeason` and `RankPlayoffs` might be slightly affected (mostly their correlations, since the mean and distribution are of no real value for analysis - each year carries a similar number of playoff teams and their rankings with respect to each other)."
      ]
    },
    {
      "cell_type": "markdown",
      "metadata": {
        "id": "xCbO6oOxr2qF"
      },
      "source": [
        "#### Runs Scored, Runs Against"
      ]
    },
    {
      "cell_type": "markdown",
      "metadata": {
        "id": "fWZK1YBeKHp5"
      },
      "source": [
        "The runs scored and runs agains columns go hand-in-hand with each other, given that their means and quartiles should end up almost identical - after all, over the span of this dataset, all the seasons' stats are accounted for, which means that, overall, the number of runs scored against all the teams is equal to the number of runs scored *by* all the teams. Nevertheless, this column will prove useful for correlations, as well as for higher-level analysis, when considering what other metrics contribute to a high Runs Scored total (and thus, indirectly, to a high Win total - correlation 0.51)"
      ]
    },
    {
      "cell_type": "code",
      "metadata": {
        "colab": {
          "base_uri": "https://localhost:8080/"
        },
        "id": "RY-OX70NwFsK",
        "outputId": "3c9a27e9-d9e1-4a66-a054-8b2d051ada27"
      },
      "source": [
        "baseball.RS.describe()"
      ],
      "execution_count": null,
      "outputs": [
        {
          "output_type": "execute_result",
          "data": {
            "text/plain": [
              "count    1232.000000\n",
              "mean      715.081981\n",
              "std        91.534294\n",
              "min       463.000000\n",
              "25%       652.000000\n",
              "50%       711.000000\n",
              "75%       775.000000\n",
              "max      1009.000000\n",
              "Name: RS, dtype: float64"
            ]
          },
          "metadata": {},
          "execution_count": 216
        }
      ]
    },
    {
      "cell_type": "code",
      "metadata": {
        "colab": {
          "base_uri": "https://localhost:8080/"
        },
        "id": "2lrcduBSwHEq",
        "outputId": "78521057-00fc-446c-b009-06302658f33e"
      },
      "source": [
        "baseball.RA.describe()"
      ],
      "execution_count": null,
      "outputs": [
        {
          "output_type": "execute_result",
          "data": {
            "text/plain": [
              "count    1232.000000\n",
              "mean      715.081981\n",
              "std        93.079933\n",
              "min       472.000000\n",
              "25%       649.750000\n",
              "50%       709.000000\n",
              "75%       774.250000\n",
              "max      1103.000000\n",
              "Name: RA, dtype: float64"
            ]
          },
          "metadata": {},
          "execution_count": 217
        }
      ]
    },
    {
      "cell_type": "code",
      "metadata": {
        "colab": {
          "base_uri": "https://localhost:8080/",
          "height": 168
        },
        "id": "CVmtu16IJ0ai",
        "outputId": "6c29c947-8919-4232-b51b-5c09a16cb991"
      },
      "source": [
        "corr(\"RS\", \"Blues\")"
      ],
      "execution_count": null,
      "outputs": [
        {
          "output_type": "display_data",
          "data": {
            "text/html": [
              "<div>\n",
              "<style scoped>\n",
              "    .dataframe tbody tr th:only-of-type {\n",
              "        vertical-align: middle;\n",
              "    }\n",
              "\n",
              "    .dataframe tbody tr th {\n",
              "        vertical-align: top;\n",
              "    }\n",
              "\n",
              "    .dataframe thead th {\n",
              "        text-align: right;\n",
              "    }\n",
              "</style>\n",
              "<table border=\"1\" class=\"dataframe\">\n",
              "  <thead>\n",
              "    <tr style=\"text-align: right;\">\n",
              "      <th></th>\n",
              "      <th>W</th>\n",
              "      <th>L</th>\n",
              "      <th>Playoffs</th>\n",
              "      <th>RS</th>\n",
              "      <th>RA</th>\n",
              "      <th>BA</th>\n",
              "      <th>OBP</th>\n",
              "      <th>SLG</th>\n",
              "      <th>OPS</th>\n",
              "      <th>OOBP</th>\n",
              "      <th>OSLG</th>\n",
              "    </tr>\n",
              "  </thead>\n",
              "  <tbody>\n",
              "    <tr>\n",
              "      <th>RS</th>\n",
              "      <td>0.511745</td>\n",
              "      <td>-0.509821</td>\n",
              "      <td>0.386628</td>\n",
              "      <td>1.0</td>\n",
              "      <td>0.380139</td>\n",
              "      <td>0.827</td>\n",
              "      <td>0.900492</td>\n",
              "      <td>0.91874</td>\n",
              "      <td>0.956943</td>\n",
              "      <td>0.133981</td>\n",
              "      <td>0.193426</td>\n",
              "    </tr>\n",
              "  </tbody>\n",
              "</table>\n",
              "</div>"
            ],
            "text/plain": [
              "           W         L  Playoffs   RS  ...      SLG       OPS      OOBP      OSLG\n",
              "RS  0.511745 -0.509821  0.386628  1.0  ...  0.91874  0.956943  0.133981  0.193426\n",
              "\n",
              "[1 rows x 11 columns]"
            ]
          },
          "metadata": {}
        },
        {
          "output_type": "display_data",
          "data": {
            "image/png": "[encoded data removed]",
            "text/plain": [
              "<Figure size 720x72 with 2 Axes>"
            ]
          },
          "metadata": {
            "needs_background": "light"
          }
        }
      ]
    },
    {
      "cell_type": "markdown",
      "metadata": {
        "id": "Po4B7D9Tnj6o"
      },
      "source": [
        "Based on the above correlation vector, the number of runs a team scores plays a significant role in the number of Wins they end up with, though it is certainly not the only factor. Surely, there could be teams that win the most games despite not scoring the most runs - e.g., simply by preventing more runs being scored against them."
      ]
    },
    {
      "cell_type": "code",
      "metadata": {
        "colab": {
          "base_uri": "https://localhost:8080/",
          "height": 279
        },
        "id": "uwLKRKLf3kaJ",
        "outputId": "cc4ecd11-e784-4ccd-b8a2-f5bfc80fb699"
      },
      "source": [
        "dist(\"RS\")"
      ],
      "execution_count": null,
      "outputs": [
        {
          "output_type": "display_data",
          "data": {
            "image/png": "[encoded data removed]",
            "text/plain": [
              "<Figure size 432x288 with 1 Axes>"
            ]
          },
          "metadata": {
            "needs_background": "light"
          }
        }
      ]
    },
    {
      "cell_type": "code",
      "metadata": {
        "colab": {
          "base_uri": "https://localhost:8080/",
          "height": 306
        },
        "id": "uTphSzFr3mCJ",
        "outputId": "3dcbb1b8-2fcd-48ce-9d2f-a0923d7368a3"
      },
      "source": [
        "box(\"RS\")"
      ],
      "execution_count": null,
      "outputs": [
        {
          "output_type": "display_data",
          "data": {
            "image/png": "[encoded data removed]",
            "text/plain": [
              "<Figure size 216x360 with 1 Axes>"
            ]
          },
          "metadata": {
            "needs_background": "light"
          }
        }
      ]
    },
    {
      "cell_type": "code",
      "metadata": {
        "colab": {
          "base_uri": "https://localhost:8080/"
        },
        "id": "xa-Ga86-y6Sf",
        "outputId": "212ae39a-bee9-435f-8696-d3cc0a1a89e1"
      },
      "source": [
        "outliers(\"RS\")"
      ],
      "execution_count": null,
      "outputs": [
        {
          "output_type": "execute_result",
          "data": {
            "text/plain": [
              "{'high': [968, 961, 978, 968, 1009, 965, 961, 993], 'low': [463, 464]}"
            ]
          },
          "metadata": {},
          "execution_count": 31
        }
      ]
    },
    {
      "cell_type": "code",
      "metadata": {
        "colab": {
          "base_uri": "https://localhost:8080/",
          "height": 168
        },
        "id": "0t68VJHBJ4go",
        "outputId": "55e438dc-2661-44d7-b6f1-f91820977901"
      },
      "source": [
        "corr(\"RA\", \"Reds\")"
      ],
      "execution_count": null,
      "outputs": [
        {
          "output_type": "display_data",
          "data": {
            "text/html": [
              "<div>\n",
              "<style scoped>\n",
              "    .dataframe tbody tr th:only-of-type {\n",
              "        vertical-align: middle;\n",
              "    }\n",
              "\n",
              "    .dataframe tbody tr th {\n",
              "        vertical-align: top;\n",
              "    }\n",
              "\n",
              "    .dataframe thead th {\n",
              "        text-align: right;\n",
              "    }\n",
              "</style>\n",
              "<table border=\"1\" class=\"dataframe\">\n",
              "  <thead>\n",
              "    <tr style=\"text-align: right;\">\n",
              "      <th></th>\n",
              "      <th>W</th>\n",
              "      <th>L</th>\n",
              "      <th>Playoffs</th>\n",
              "      <th>RS</th>\n",
              "      <th>RA</th>\n",
              "      <th>BA</th>\n",
              "      <th>OBP</th>\n",
              "      <th>SLG</th>\n",
              "      <th>OPS</th>\n",
              "      <th>OOBP</th>\n",
              "      <th>OSLG</th>\n",
              "    </tr>\n",
              "  </thead>\n",
              "  <tbody>\n",
              "    <tr>\n",
              "      <th>RA</th>\n",
              "      <td>-0.532394</td>\n",
              "      <td>0.533394</td>\n",
              "      <td>-0.261477</td>\n",
              "      <td>0.380139</td>\n",
              "      <td>1.0</td>\n",
              "      <td>0.330764</td>\n",
              "      <td>0.32636</td>\n",
              "      <td>0.436527</td>\n",
              "      <td>0.421601</td>\n",
              "      <td>0.910344</td>\n",
              "      <td>0.909319</td>\n",
              "    </tr>\n",
              "  </tbody>\n",
              "</table>\n",
              "</div>"
            ],
            "text/plain": [
              "           W         L  Playoffs  ...       OPS      OOBP      OSLG\n",
              "RA -0.532394  0.533394 -0.261477  ...  0.421601  0.910344  0.909319\n",
              "\n",
              "[1 rows x 11 columns]"
            ]
          },
          "metadata": {}
        },
        {
          "output_type": "display_data",
          "data": {
            "image/png": "[encoded data removed]",
            "text/plain": [
              "<Figure size 720x72 with 2 Axes>"
            ]
          },
          "metadata": {
            "needs_background": "light"
          }
        }
      ]
    },
    {
      "cell_type": "markdown",
      "metadata": {
        "id": "zMjcB0RWn8om"
      },
      "source": [
        "Conversely to the Runs Scored column, the Runs Against column is negatively correlated with Win column - the more runs a team gives up, the fewer games they win. "
      ]
    },
    {
      "cell_type": "code",
      "metadata": {
        "colab": {
          "base_uri": "https://localhost:8080/",
          "height": 279
        },
        "id": "2R0dq5BG3o30",
        "outputId": "2651e3bc-1bf2-4ed1-bbee-d0accf3b7edb"
      },
      "source": [
        "dist(\"RA\")"
      ],
      "execution_count": null,
      "outputs": [
        {
          "output_type": "display_data",
          "data": {
            "image/png": "[encoded data removed]",
            "text/plain": [
              "<Figure size 432x288 with 1 Axes>"
            ]
          },
          "metadata": {
            "needs_background": "light"
          }
        }
      ]
    },
    {
      "cell_type": "code",
      "metadata": {
        "colab": {
          "base_uri": "https://localhost:8080/",
          "height": 306
        },
        "id": "CQM1tr_u3p4Z",
        "outputId": "a65ef9b2-eed3-44f0-86f3-83f84ed4ed2d"
      },
      "source": [
        "box(\"RA\")"
      ],
      "execution_count": null,
      "outputs": [
        {
          "output_type": "display_data",
          "data": {
            "image/png": "[encoded data removed]",
            "text/plain": [
              "<Figure size 216x360 with 1 Axes>"
            ]
          },
          "metadata": {
            "needs_background": "light"
          }
        }
      ]
    },
    {
      "cell_type": "markdown",
      "metadata": {
        "id": "d9uvUnhgwlLf"
      },
      "source": [
        "#### Batting Average"
      ]
    },
    {
      "cell_type": "markdown",
      "metadata": {
        "id": "GxLwWVRc3zlk"
      },
      "source": [
        "A simple ratio of hits to at-bats. For years considered to be the main metric for evaluation of offensive talent, but when more informative statistics were developed, team executives realized that this stat does not tell the whole story."
      ]
    },
    {
      "cell_type": "code",
      "metadata": {
        "colab": {
          "base_uri": "https://localhost:8080/"
        },
        "id": "MgtxHhYX3bkb",
        "outputId": "ef6cec64-f21b-4e7c-f821-2f5b81d52d0d"
      },
      "source": [
        "baseball.BA.describe()"
      ],
      "execution_count": null,
      "outputs": [
        {
          "output_type": "execute_result",
          "data": {
            "text/plain": [
              "count    1232.000000\n",
              "mean        0.259273\n",
              "std         0.012907\n",
              "min         0.214000\n",
              "25%         0.251000\n",
              "50%         0.260000\n",
              "75%         0.268000\n",
              "max         0.294000\n",
              "Name: BA, dtype: float64"
            ]
          },
          "metadata": {},
          "execution_count": 35
        }
      ]
    },
    {
      "cell_type": "code",
      "metadata": {
        "id": "gJoxKAOfK9ve",
        "colab": {
          "base_uri": "https://localhost:8080/",
          "height": 168
        },
        "outputId": "f46c7cc6-700d-4f3f-e8cd-423c37afee7b"
      },
      "source": [
        "corr(\"BA\", \"RdBu\")"
      ],
      "execution_count": null,
      "outputs": [
        {
          "output_type": "display_data",
          "data": {
            "text/html": [
              "<div>\n",
              "<style scoped>\n",
              "    .dataframe tbody tr th:only-of-type {\n",
              "        vertical-align: middle;\n",
              "    }\n",
              "\n",
              "    .dataframe tbody tr th {\n",
              "        vertical-align: top;\n",
              "    }\n",
              "\n",
              "    .dataframe thead th {\n",
              "        text-align: right;\n",
              "    }\n",
              "</style>\n",
              "<table border=\"1\" class=\"dataframe\">\n",
              "  <thead>\n",
              "    <tr style=\"text-align: right;\">\n",
              "      <th></th>\n",
              "      <th>W</th>\n",
              "      <th>L</th>\n",
              "      <th>Playoffs</th>\n",
              "      <th>RS</th>\n",
              "      <th>RA</th>\n",
              "      <th>BA</th>\n",
              "      <th>OBP</th>\n",
              "      <th>SLG</th>\n",
              "      <th>OPS</th>\n",
              "      <th>OOBP</th>\n",
              "      <th>OSLG</th>\n",
              "    </tr>\n",
              "  </thead>\n",
              "  <tbody>\n",
              "    <tr>\n",
              "      <th>BA</th>\n",
              "      <td>0.408716</td>\n",
              "      <td>-0.409377</td>\n",
              "      <td>0.290217</td>\n",
              "      <td>0.827</td>\n",
              "      <td>0.330764</td>\n",
              "      <td>1.0</td>\n",
              "      <td>0.851958</td>\n",
              "      <td>0.790481</td>\n",
              "      <td>0.848502</td>\n",
              "      <td>0.187108</td>\n",
              "      <td>0.227808</td>\n",
              "    </tr>\n",
              "  </tbody>\n",
              "</table>\n",
              "</div>"
            ],
            "text/plain": [
              "           W         L  Playoffs     RS  ...       SLG       OPS      OOBP      OSLG\n",
              "BA  0.408716 -0.409377  0.290217  0.827  ...  0.790481  0.848502  0.187108  0.227808\n",
              "\n",
              "[1 rows x 11 columns]"
            ]
          },
          "metadata": {}
        },
        {
          "output_type": "display_data",
          "data": {
            "image/png": "[encoded data removed]",
            "text/plain": [
              "<Figure size 720x72 with 2 Axes>"
            ]
          },
          "metadata": {
            "needs_background": "light"
          }
        }
      ]
    },
    {
      "cell_type": "markdown",
      "metadata": {
        "id": "A9ZgTHIfoJQU"
      },
      "source": [
        "Batting Average is a simple measure of Hits divided by Attempts, i.e., what percentage of a hitter's or - in this case - a team's attempts to hit the ball ended with a positive outcome of putting the ball in play and getting on base as a result. Certainly, this metric will be correlated with the other metrics that build upon it and expand it: On-Base percentage is a measure of all sucessful at-bats, whereas Slugging is a 'weighted' Batting Average that accounts for the 'quality' of a hit. It is therefore unsuprising that there is a strong correlation between BA and OBP/SLG. "
      ]
    },
    {
      "cell_type": "code",
      "metadata": {
        "id": "D_U0JLeF3Y0U",
        "colab": {
          "base_uri": "https://localhost:8080/",
          "height": 282
        },
        "outputId": "7df26e9e-b024-4334-c4be-808a638dfed7"
      },
      "source": [
        "dist(\"BA\")"
      ],
      "execution_count": null,
      "outputs": [
        {
          "output_type": "display_data",
          "data": {
            "image/png": "[encoded data removed]",
            "text/plain": [
              "<Figure size 432x288 with 1 Axes>"
            ]
          },
          "metadata": {
            "needs_background": "light"
          }
        }
      ]
    },
    {
      "cell_type": "code",
      "metadata": {
        "id": "CCRh1Fc33v3u",
        "colab": {
          "base_uri": "https://localhost:8080/",
          "height": 309
        },
        "outputId": "2808c678-6dfe-4477-b822-6f68ab29c0d0"
      },
      "source": [
        "box(\"BA\")"
      ],
      "execution_count": null,
      "outputs": [
        {
          "output_type": "display_data",
          "data": {
            "image/png": "[encoded data removed]",
            "text/plain": [
              "<Figure size 216x360 with 1 Axes>"
            ]
          },
          "metadata": {
            "needs_background": "light"
          }
        }
      ]
    },
    {
      "cell_type": "code",
      "metadata": {
        "colab": {
          "base_uri": "https://localhost:8080/"
        },
        "id": "oXH4MT8p0ROL",
        "outputId": "5347d54c-55e7-4b2b-ba4f-0776c5cf85da"
      },
      "source": [
        "outliers(\"BA\")"
      ],
      "execution_count": null,
      "outputs": [
        {
          "output_type": "execute_result",
          "data": {
            "text/plain": [
              "{'high': [0.294],\n",
              " 'low': [0.225,\n",
              "  0.225,\n",
              "  0.214,\n",
              "  0.22399999999999998,\n",
              "  0.225,\n",
              "  0.225,\n",
              "  0.223,\n",
              "  0.221,\n",
              "  0.22,\n",
              "  0.21899999999999997]}"
            ]
          },
          "metadata": {},
          "execution_count": 39
        }
      ]
    },
    {
      "cell_type": "markdown",
      "metadata": {
        "id": "1GE-as6pAy2g"
      },
      "source": [
        "#### On-Base Percentage"
      ]
    },
    {
      "cell_type": "markdown",
      "metadata": {
        "id": "f7eK3d3R2rSI"
      },
      "source": [
        "On-Base Percentage is an expansion on the Batting Average - OBP takes into account also things like walks and hits by pitch (where the batter gets to take the first base for free). The formula is:\n",
        "\n",
        "OBP = (Hits + Walks + Hit-By-Pitch)/(Plate Appearances + Walks + Hit-By-Pitch + Sacrifice Fly)\n",
        "\n",
        "Since a runner can score regardless of how they got on base, this stat gives more information than simple Batting Average - leading teams to realize that it might be as - if not more - effective in providing a numeric value to a player."
      ]
    },
    {
      "cell_type": "code",
      "metadata": {
        "colab": {
          "base_uri": "https://localhost:8080/"
        },
        "id": "NM3P5tqq5ZXb",
        "outputId": "2134b76c-31d7-47cd-ed0a-6bfa89ef2338"
      },
      "source": [
        "baseball.OBP.describe()"
      ],
      "execution_count": null,
      "outputs": [
        {
          "output_type": "execute_result",
          "data": {
            "text/plain": [
              "count    1232.000000\n",
              "mean        0.326331\n",
              "std         0.015013\n",
              "min         0.277000\n",
              "25%         0.317000\n",
              "50%         0.326000\n",
              "75%         0.337000\n",
              "max         0.373000\n",
              "Name: OBP, dtype: float64"
            ]
          },
          "metadata": {},
          "execution_count": 40
        }
      ]
    },
    {
      "cell_type": "code",
      "metadata": {
        "colab": {
          "base_uri": "https://localhost:8080/",
          "height": 168
        },
        "id": "_mGKGrnWLCOx",
        "outputId": "fe4e2c79-d6b9-421f-e424-c31985c15a4f"
      },
      "source": [
        "corr(\"OBP\", \"OrRd_r\")"
      ],
      "execution_count": null,
      "outputs": [
        {
          "output_type": "display_data",
          "data": {
            "text/html": [
              "<div>\n",
              "<style scoped>\n",
              "    .dataframe tbody tr th:only-of-type {\n",
              "        vertical-align: middle;\n",
              "    }\n",
              "\n",
              "    .dataframe tbody tr th {\n",
              "        vertical-align: top;\n",
              "    }\n",
              "\n",
              "    .dataframe thead th {\n",
              "        text-align: right;\n",
              "    }\n",
              "</style>\n",
              "<table border=\"1\" class=\"dataframe\">\n",
              "  <thead>\n",
              "    <tr style=\"text-align: right;\">\n",
              "      <th></th>\n",
              "      <th>W</th>\n",
              "      <th>L</th>\n",
              "      <th>Playoffs</th>\n",
              "      <th>RS</th>\n",
              "      <th>RA</th>\n",
              "      <th>BA</th>\n",
              "      <th>OBP</th>\n",
              "      <th>SLG</th>\n",
              "      <th>OPS</th>\n",
              "      <th>OOBP</th>\n",
              "      <th>OSLG</th>\n",
              "    </tr>\n",
              "  </thead>\n",
              "  <tbody>\n",
              "    <tr>\n",
              "      <th>OBP</th>\n",
              "      <td>0.481836</td>\n",
              "      <td>-0.482993</td>\n",
              "      <td>0.36389</td>\n",
              "      <td>0.900492</td>\n",
              "      <td>0.32636</td>\n",
              "      <td>0.851958</td>\n",
              "      <td>1.0</td>\n",
              "      <td>0.79091</td>\n",
              "      <td>0.897059</td>\n",
              "      <td>0.120349</td>\n",
              "      <td>0.153372</td>\n",
              "    </tr>\n",
              "  </tbody>\n",
              "</table>\n",
              "</div>"
            ],
            "text/plain": [
              "            W         L  Playoffs  ...       OPS      OOBP      OSLG\n",
              "OBP  0.481836 -0.482993   0.36389  ...  0.897059  0.120349  0.153372\n",
              "\n",
              "[1 rows x 11 columns]"
            ]
          },
          "metadata": {}
        },
        {
          "output_type": "display_data",
          "data": {
            "image/png": "[encoded data removed]",
            "text/plain": [
              "<Figure size 720x72 with 2 Axes>"
            ]
          },
          "metadata": {
            "needs_background": "light"
          }
        }
      ]
    },
    {
      "cell_type": "markdown",
      "metadata": {
        "id": "VORUZULSo1ZT"
      },
      "source": [
        "Based on above correlations, we can see that On-Base percentage is not only also strongly correlated with Runs Scored and Wins totals, but even more so than Batting Average (e.g.: BA corr with W: 0.41, OBP corr with W: 0.48). It is therefore fathomable that OBP could serve as a more accurate measure of success than BA."
      ]
    },
    {
      "cell_type": "code",
      "metadata": {
        "colab": {
          "base_uri": "https://localhost:8080/",
          "height": 279
        },
        "id": "hzhMrzzL3zWS",
        "outputId": "252c2ebd-87fb-4dee-a6e1-bc8e059f05d1"
      },
      "source": [
        "dist(\"OBP\")"
      ],
      "execution_count": null,
      "outputs": [
        {
          "output_type": "display_data",
          "data": {
            "image/png": "[encoded data removed]",
            "text/plain": [
              "<Figure size 432x288 with 1 Axes>"
            ]
          },
          "metadata": {
            "needs_background": "light"
          }
        }
      ]
    },
    {
      "cell_type": "code",
      "metadata": {
        "colab": {
          "base_uri": "https://localhost:8080/",
          "height": 306
        },
        "id": "0hLGRZmm32XA",
        "outputId": "7dea030c-b3e0-49a1-c46a-b19b3dee5e4d"
      },
      "source": [
        "box(\"OBP\")"
      ],
      "execution_count": null,
      "outputs": [
        {
          "output_type": "display_data",
          "data": {
            "image/png": "[encoded data removed]",
            "text/plain": [
              "<Figure size 216x360 with 1 Axes>"
            ]
          },
          "metadata": {
            "needs_background": "light"
          }
        }
      ]
    },
    {
      "cell_type": "code",
      "metadata": {
        "colab": {
          "base_uri": "https://localhost:8080/"
        },
        "id": "mc4ANEuv0hDO",
        "outputId": "570cd607-4515-40fe-add5-c9c67bd1a1e0"
      },
      "source": [
        "outliers(\"OBP\")"
      ],
      "execution_count": null,
      "outputs": [
        {
          "output_type": "execute_result",
          "data": {
            "text/plain": [
              "{'high': [0.373, 0.369],\n",
              " 'low': [0.285,\n",
              "  0.284,\n",
              "  0.281,\n",
              "  0.27699999999999997,\n",
              "  0.285,\n",
              "  0.28300000000000003,\n",
              "  0.285]}"
            ]
          },
          "metadata": {},
          "execution_count": 44
        }
      ]
    },
    {
      "cell_type": "markdown",
      "metadata": {
        "id": "P_fFX1O-A1Pl"
      },
      "source": [
        "#### Slugging Percentage"
      ]
    },
    {
      "cell_type": "markdown",
      "metadata": {
        "id": "yJDi2tlh1ZrN"
      },
      "source": [
        "Slugging Percentage, or the propensity for an offence (or a player) to reach extra bases. The formula is, where \"XB\" denotes the number of hits that allowed the batter to reach base X (1 - first, 2 - second, 3 - third, 4 - home run):\n",
        "\n",
        "SLG = ((1 * 1B) + (2 * 2B) + (3 * 3B) + (4 * HR))/Plate appearances\n",
        "\n",
        "In practice, this is a statistic that denotes the 'power' (or slugging) of a hitter, and, since a hit that advances the batter to the second base has a higher likelihood to allow more runners to score - players with a high SLG stat should provide a valuable impact to any offense."
      ]
    },
    {
      "cell_type": "code",
      "metadata": {
        "colab": {
          "base_uri": "https://localhost:8080/"
        },
        "id": "BrGE-pZm5Wss",
        "outputId": "e139db80-cf69-4098-f870-fe390e8812bb"
      },
      "source": [
        "baseball.SLG.describe()"
      ],
      "execution_count": null,
      "outputs": [
        {
          "output_type": "execute_result",
          "data": {
            "text/plain": [
              "count    1232.000000\n",
              "mean        0.397342\n",
              "std         0.033267\n",
              "min         0.301000\n",
              "25%         0.375000\n",
              "50%         0.396000\n",
              "75%         0.421000\n",
              "max         0.491000\n",
              "Name: SLG, dtype: float64"
            ]
          },
          "metadata": {},
          "execution_count": 45
        }
      ]
    },
    {
      "cell_type": "code",
      "metadata": {
        "colab": {
          "base_uri": "https://localhost:8080/",
          "height": 168
        },
        "id": "JdjeMFSxLNwI",
        "outputId": "d5c49304-fdb6-4999-8a3d-5ad8ca96e786"
      },
      "source": [
        "corr(\"SLG\", \"BuPu\")"
      ],
      "execution_count": null,
      "outputs": [
        {
          "output_type": "display_data",
          "data": {
            "text/html": [
              "<div>\n",
              "<style scoped>\n",
              "    .dataframe tbody tr th:only-of-type {\n",
              "        vertical-align: middle;\n",
              "    }\n",
              "\n",
              "    .dataframe tbody tr th {\n",
              "        vertical-align: top;\n",
              "    }\n",
              "\n",
              "    .dataframe thead th {\n",
              "        text-align: right;\n",
              "    }\n",
              "</style>\n",
              "<table border=\"1\" class=\"dataframe\">\n",
              "  <thead>\n",
              "    <tr style=\"text-align: right;\">\n",
              "      <th></th>\n",
              "      <th>W</th>\n",
              "      <th>L</th>\n",
              "      <th>Playoffs</th>\n",
              "      <th>RS</th>\n",
              "      <th>RA</th>\n",
              "      <th>BA</th>\n",
              "      <th>OBP</th>\n",
              "      <th>SLG</th>\n",
              "      <th>OPS</th>\n",
              "      <th>OOBP</th>\n",
              "      <th>OSLG</th>\n",
              "    </tr>\n",
              "  </thead>\n",
              "  <tbody>\n",
              "    <tr>\n",
              "      <th>SLG</th>\n",
              "      <td>0.401496</td>\n",
              "      <td>-0.401202</td>\n",
              "      <td>0.324713</td>\n",
              "      <td>0.91874</td>\n",
              "      <td>0.436527</td>\n",
              "      <td>0.790481</td>\n",
              "      <td>0.79091</td>\n",
              "      <td>1.0</td>\n",
              "      <td>0.979913</td>\n",
              "      <td>0.143861</td>\n",
              "      <td>0.210423</td>\n",
              "    </tr>\n",
              "  </tbody>\n",
              "</table>\n",
              "</div>"
            ],
            "text/plain": [
              "            W         L  Playoffs       RS  ...  SLG       OPS      OOBP      OSLG\n",
              "SLG  0.401496 -0.401202  0.324713  0.91874  ...  1.0  0.979913  0.143861  0.210423\n",
              "\n",
              "[1 rows x 11 columns]"
            ]
          },
          "metadata": {}
        },
        {
          "output_type": "display_data",
          "data": {
            "image/png": "[encoded data removed]",
            "text/plain": [
              "<Figure size 720x72 with 2 Axes>"
            ]
          },
          "metadata": {
            "needs_background": "light"
          }
        }
      ]
    },
    {
      "cell_type": "markdown",
      "metadata": {
        "id": "UWWA86EepZRY"
      },
      "source": [
        ""
      ]
    },
    {
      "cell_type": "code",
      "metadata": {
        "colab": {
          "base_uri": "https://localhost:8080/",
          "height": 279
        },
        "id": "sP2KhtVd35NF",
        "outputId": "0274af19-34c4-40d7-b8b2-62fc30ac95b2"
      },
      "source": [
        "dist(\"SLG\")"
      ],
      "execution_count": null,
      "outputs": [
        {
          "output_type": "display_data",
          "data": {
            "image/png": "[encoded data removed]",
            "text/plain": [
              "<Figure size 432x288 with 1 Axes>"
            ]
          },
          "metadata": {
            "needs_background": "light"
          }
        }
      ]
    },
    {
      "cell_type": "code",
      "metadata": {
        "colab": {
          "base_uri": "https://localhost:8080/",
          "height": 310
        },
        "id": "yeYYbCkP36Z-",
        "outputId": "9c416500-137f-404a-9c62-ac781ef86d31"
      },
      "source": [
        "box(\"SLG\")"
      ],
      "execution_count": null,
      "outputs": [
        {
          "output_type": "display_data",
          "data": {
            "image/png": "[encoded data removed]",
            "text/plain": [
              "<Figure size 216x360 with 1 Axes>"
            ]
          },
          "metadata": {
            "needs_background": "light"
          }
        }
      ]
    },
    {
      "cell_type": "code",
      "metadata": {
        "colab": {
          "base_uri": "https://localhost:8080/"
        },
        "id": "J6DpX1520kZq",
        "outputId": "52ee9633-d832-4089-8679-420073990a4b"
      },
      "source": [
        "outliers(\"SLG\")"
      ],
      "execution_count": null,
      "outputs": [
        {
          "output_type": "execute_result",
          "data": {
            "text/plain": [
              "{'high': [0.491], 'low': [0.301]}"
            ]
          },
          "metadata": {},
          "execution_count": 49
        }
      ]
    },
    {
      "cell_type": "markdown",
      "metadata": {
        "id": "_R5foW9hA7Kt"
      },
      "source": [
        "#### On-Base + Slugging (OPS)"
      ]
    },
    {
      "cell_type": "markdown",
      "metadata": {
        "id": "tMg-PzLch9J9"
      },
      "source": [
        "OPS is simply a sum of On-Base Percentage and Slugging Percentage. Some prolific sluggers might not be partucularly great at getting on base. Conversely, some great contact hitters or disciplined batters who draw many walks might not be providing much power to their lineup. The OPS stat allows these deficiencies in one area to potentially balance out with proficiencies in the other. Indeed, although the team Runs Scored statistic is strongly correlated with all of the other offensive statistics as well (BA: 0.827\tOBP: 0.900492\tSLG: 0.91874)\t, its correlation with OPS is the greatest (0.956943)."
      ]
    },
    {
      "cell_type": "code",
      "metadata": {
        "colab": {
          "base_uri": "https://localhost:8080/"
        },
        "id": "43mF8_Z05Avr",
        "outputId": "7a4c876a-88dd-4df4-e1d8-54047440d466"
      },
      "source": [
        "baseball.OPS.describe()"
      ],
      "execution_count": null,
      "outputs": [
        {
          "output_type": "execute_result",
          "data": {
            "text/plain": [
              "count    1232.000000\n",
              "mean        0.723673\n",
              "std         0.046066\n",
              "min         0.584000\n",
              "25%         0.694000\n",
              "50%         0.722000\n",
              "75%         0.755000\n",
              "max         0.851000\n",
              "Name: OPS, dtype: float64"
            ]
          },
          "metadata": {},
          "execution_count": 54
        }
      ]
    },
    {
      "cell_type": "code",
      "metadata": {
        "colab": {
          "base_uri": "https://localhost:8080/",
          "height": 168
        },
        "id": "rEIFoHAvLRQI",
        "outputId": "d7d3184e-111a-41c5-f623-eb0a0257d5fd"
      },
      "source": [
        "corr(\"OPS\", \"Accent\")"
      ],
      "execution_count": null,
      "outputs": [
        {
          "output_type": "display_data",
          "data": {
            "text/html": [
              "<div>\n",
              "<style scoped>\n",
              "    .dataframe tbody tr th:only-of-type {\n",
              "        vertical-align: middle;\n",
              "    }\n",
              "\n",
              "    .dataframe tbody tr th {\n",
              "        vertical-align: top;\n",
              "    }\n",
              "\n",
              "    .dataframe thead th {\n",
              "        text-align: right;\n",
              "    }\n",
              "</style>\n",
              "<table border=\"1\" class=\"dataframe\">\n",
              "  <thead>\n",
              "    <tr style=\"text-align: right;\">\n",
              "      <th></th>\n",
              "      <th>W</th>\n",
              "      <th>L</th>\n",
              "      <th>Playoffs</th>\n",
              "      <th>RS</th>\n",
              "      <th>RA</th>\n",
              "      <th>BA</th>\n",
              "      <th>OBP</th>\n",
              "      <th>SLG</th>\n",
              "      <th>OPS</th>\n",
              "      <th>OOBP</th>\n",
              "      <th>OSLG</th>\n",
              "    </tr>\n",
              "  </thead>\n",
              "  <tbody>\n",
              "    <tr>\n",
              "      <th>OPS</th>\n",
              "      <td>0.446972</td>\n",
              "      <td>-0.447137</td>\n",
              "      <td>0.353084</td>\n",
              "      <td>0.956943</td>\n",
              "      <td>0.421601</td>\n",
              "      <td>0.848502</td>\n",
              "      <td>0.897059</td>\n",
              "      <td>0.979913</td>\n",
              "      <td>1.0</td>\n",
              "      <td>0.143209</td>\n",
              "      <td>0.201116</td>\n",
              "    </tr>\n",
              "  </tbody>\n",
              "</table>\n",
              "</div>"
            ],
            "text/plain": [
              "            W         L  Playoffs        RS  ...       SLG  OPS      OOBP      OSLG\n",
              "OPS  0.446972 -0.447137  0.353084  0.956943  ...  0.979913  1.0  0.143209  0.201116\n",
              "\n",
              "[1 rows x 11 columns]"
            ]
          },
          "metadata": {}
        },
        {
          "output_type": "display_data",
          "data": {
            "image/png": "[encoded data removed]",
            "text/plain": [
              "<Figure size 720x72 with 2 Axes>"
            ]
          },
          "metadata": {
            "needs_background": "light"
          }
        }
      ]
    },
    {
      "cell_type": "code",
      "metadata": {
        "colab": {
          "base_uri": "https://localhost:8080/",
          "height": 279
        },
        "id": "3g0gMsr-39Vu",
        "outputId": "a00eab10-0d41-4113-9e9a-ddebe6e13427"
      },
      "source": [
        "dist(\"OPS\")"
      ],
      "execution_count": null,
      "outputs": [
        {
          "output_type": "display_data",
          "data": {
            "image/png": "[encoded data removed]",
            "text/plain": [
              "<Figure size 432x288 with 1 Axes>"
            ]
          },
          "metadata": {
            "needs_background": "light"
          }
        }
      ]
    },
    {
      "cell_type": "code",
      "metadata": {
        "colab": {
          "base_uri": "https://localhost:8080/",
          "height": 306
        },
        "id": "qdnqhFSh3_fY",
        "outputId": "c954ae9c-4a02-4de1-bdb4-e670eac3a8c1"
      },
      "source": [
        "box(\"OPS\")"
      ],
      "execution_count": null,
      "outputs": [
        {
          "output_type": "display_data",
          "data": {
            "image/png": "[encoded data removed]",
            "text/plain": [
              "<Figure size 216x360 with 1 Axes>"
            ]
          },
          "metadata": {
            "needs_background": "light"
          }
        }
      ]
    },
    {
      "cell_type": "code",
      "metadata": {
        "colab": {
          "base_uri": "https://localhost:8080/"
        },
        "id": "0I2xbxIz0nBL",
        "outputId": "c1041df3-4e38-4a41-97ae-d8f44c8c0253"
      },
      "source": [
        "outliers(\"OPS\")"
      ],
      "execution_count": null,
      "outputs": [
        {
          "output_type": "execute_result",
          "data": {
            "text/plain": [
              "{'high': [0.851, 0.85], 'low': [0.595, 0.596, 0.6, 0.584, 0.6]}"
            ]
          },
          "metadata": {},
          "execution_count": 57
        }
      ]
    },
    {
      "cell_type": "markdown",
      "metadata": {
        "id": "lKrtASiBBAV1"
      },
      "source": [
        "#### Opponents' On-Base and Opponents' Slugging (OOBP and OSLG)"
      ]
    },
    {
      "cell_type": "markdown",
      "metadata": {
        "id": "E7z3WETtjTsK"
      },
      "source": [
        "Opponents' On-Base and Slugging percentages are - unlike almost everything so far - not offensive, but defensive statistics. There are other defensive statistics (such as ERA - Earned Run Average for pitchers) that could have been included in this dataset as well, but OOBP and OSLG can also indicate what kinds of players are useful (or to be avoided - e.g., pitchers who give up a lot of hits/have a high slugging percentage against them). Both stats are understandably strongly correlated with the `Runs Against` and `Losses` columns."
      ]
    },
    {
      "cell_type": "code",
      "metadata": {
        "colab": {
          "base_uri": "https://localhost:8080/"
        },
        "id": "HgXsD4vw4-NU",
        "outputId": "3af27758-7a80-4028-ce2e-7a1c19e8f593"
      },
      "source": [
        "baseball.OOBP.describe()"
      ],
      "execution_count": null,
      "outputs": [
        {
          "output_type": "execute_result",
          "data": {
            "text/plain": [
              "count    420.000000\n",
              "mean       0.332264\n",
              "std        0.015295\n",
              "min        0.294000\n",
              "25%        0.321000\n",
              "50%        0.331000\n",
              "75%        0.343000\n",
              "max        0.384000\n",
              "Name: OOBP, dtype: float64"
            ]
          },
          "metadata": {},
          "execution_count": 58
        }
      ]
    },
    {
      "cell_type": "code",
      "metadata": {
        "colab": {
          "base_uri": "https://localhost:8080/",
          "height": 168
        },
        "id": "2KlVCGi7LWLv",
        "outputId": "0fc43c7b-fe3a-4178-db56-ee3879d03157"
      },
      "source": [
        "corr(\"OOBP\", \"Pastel1\")"
      ],
      "execution_count": null,
      "outputs": [
        {
          "output_type": "display_data",
          "data": {
            "text/html": [
              "<div>\n",
              "<style scoped>\n",
              "    .dataframe tbody tr th:only-of-type {\n",
              "        vertical-align: middle;\n",
              "    }\n",
              "\n",
              "    .dataframe tbody tr th {\n",
              "        vertical-align: top;\n",
              "    }\n",
              "\n",
              "    .dataframe thead th {\n",
              "        text-align: right;\n",
              "    }\n",
              "</style>\n",
              "<table border=\"1\" class=\"dataframe\">\n",
              "  <thead>\n",
              "    <tr style=\"text-align: right;\">\n",
              "      <th></th>\n",
              "      <th>W</th>\n",
              "      <th>L</th>\n",
              "      <th>Playoffs</th>\n",
              "      <th>RS</th>\n",
              "      <th>RA</th>\n",
              "      <th>BA</th>\n",
              "      <th>OBP</th>\n",
              "      <th>SLG</th>\n",
              "      <th>OPS</th>\n",
              "      <th>OOBP</th>\n",
              "      <th>OSLG</th>\n",
              "    </tr>\n",
              "  </thead>\n",
              "  <tbody>\n",
              "    <tr>\n",
              "      <th>OOBP</th>\n",
              "      <td>-0.634315</td>\n",
              "      <td>0.634181</td>\n",
              "      <td>-0.433572</td>\n",
              "      <td>0.133981</td>\n",
              "      <td>0.910344</td>\n",
              "      <td>0.187108</td>\n",
              "      <td>0.120349</td>\n",
              "      <td>0.143861</td>\n",
              "      <td>0.143209</td>\n",
              "      <td>1.0</td>\n",
              "      <td>0.830902</td>\n",
              "    </tr>\n",
              "  </tbody>\n",
              "</table>\n",
              "</div>"
            ],
            "text/plain": [
              "             W         L  Playoffs  ...       OPS  OOBP      OSLG\n",
              "OOBP -0.634315  0.634181 -0.433572  ...  0.143209   1.0  0.830902\n",
              "\n",
              "[1 rows x 11 columns]"
            ]
          },
          "metadata": {}
        },
        {
          "output_type": "display_data",
          "data": {
            "image/png": "[encoded data removed]",
            "text/plain": [
              "<Figure size 720x72 with 2 Axes>"
            ]
          },
          "metadata": {
            "needs_background": "light"
          }
        }
      ]
    },
    {
      "cell_type": "code",
      "metadata": {
        "colab": {
          "base_uri": "https://localhost:8080/",
          "height": 279
        },
        "id": "MJO5xcvP42Ee",
        "outputId": "370a8e0c-6df6-4c59-a6bd-492062be9910"
      },
      "source": [
        "dist(\"OOBP\")"
      ],
      "execution_count": null,
      "outputs": [
        {
          "output_type": "display_data",
          "data": {
            "image/png": "[encoded data removed]",
            "text/plain": [
              "<Figure size 432x288 with 1 Axes>"
            ]
          },
          "metadata": {
            "needs_background": "light"
          }
        }
      ]
    },
    {
      "cell_type": "code",
      "metadata": {
        "colab": {
          "base_uri": "https://localhost:8080/",
          "height": 306
        },
        "id": "JuRUYkBb46Vw",
        "outputId": "a1eba160-2418-461c-affd-64db1322682e"
      },
      "source": [
        "box(\"OOBP\")"
      ],
      "execution_count": null,
      "outputs": [
        {
          "output_type": "display_data",
          "data": {
            "image/png": "[encoded data removed]",
            "text/plain": [
              "<Figure size 216x360 with 1 Axes>"
            ]
          },
          "metadata": {
            "needs_background": "light"
          }
        }
      ]
    },
    {
      "cell_type": "code",
      "metadata": {
        "colab": {
          "base_uri": "https://localhost:8080/"
        },
        "id": "L59QXbHx0pdD",
        "outputId": "a0cbd3b5-7147-4d7a-d6eb-723b884d9864"
      },
      "source": [
        "outliers(\"OOBP\")"
      ],
      "execution_count": null,
      "outputs": [
        {
          "output_type": "execute_result",
          "data": {
            "text/plain": [
              "{'high': [0.384], 'low': []}"
            ]
          },
          "metadata": {},
          "execution_count": 62
        }
      ]
    },
    {
      "cell_type": "code",
      "metadata": {
        "colab": {
          "base_uri": "https://localhost:8080/"
        },
        "id": "eIR4CJqs5HgM",
        "outputId": "cc3a3c30-2269-4f19-b297-d633cece6e42"
      },
      "source": [
        "baseball.OSLG.describe()"
      ],
      "execution_count": null,
      "outputs": [
        {
          "output_type": "execute_result",
          "data": {
            "text/plain": [
              "count    420.000000\n",
              "mean       0.419743\n",
              "std        0.026510\n",
              "min        0.346000\n",
              "25%        0.401000\n",
              "50%        0.419000\n",
              "75%        0.438000\n",
              "max        0.499000\n",
              "Name: OSLG, dtype: float64"
            ]
          },
          "metadata": {},
          "execution_count": 63
        }
      ]
    },
    {
      "cell_type": "code",
      "metadata": {
        "colab": {
          "base_uri": "https://localhost:8080/",
          "height": 168
        },
        "id": "0dRuyHfYLb0d",
        "outputId": "11783931-db56-408f-b3a0-e8536d137233"
      },
      "source": [
        "corr(\"OSLG\", \"Pastel2\")"
      ],
      "execution_count": null,
      "outputs": [
        {
          "output_type": "display_data",
          "data": {
            "text/html": [
              "<div>\n",
              "<style scoped>\n",
              "    .dataframe tbody tr th:only-of-type {\n",
              "        vertical-align: middle;\n",
              "    }\n",
              "\n",
              "    .dataframe tbody tr th {\n",
              "        vertical-align: top;\n",
              "    }\n",
              "\n",
              "    .dataframe thead th {\n",
              "        text-align: right;\n",
              "    }\n",
              "</style>\n",
              "<table border=\"1\" class=\"dataframe\">\n",
              "  <thead>\n",
              "    <tr style=\"text-align: right;\">\n",
              "      <th></th>\n",
              "      <th>W</th>\n",
              "      <th>L</th>\n",
              "      <th>Playoffs</th>\n",
              "      <th>RS</th>\n",
              "      <th>RA</th>\n",
              "      <th>BA</th>\n",
              "      <th>OBP</th>\n",
              "      <th>SLG</th>\n",
              "      <th>OPS</th>\n",
              "      <th>OOBP</th>\n",
              "      <th>OSLG</th>\n",
              "    </tr>\n",
              "  </thead>\n",
              "  <tbody>\n",
              "    <tr>\n",
              "      <th>OSLG</th>\n",
              "      <td>-0.56849</td>\n",
              "      <td>0.570313</td>\n",
              "      <td>-0.366744</td>\n",
              "      <td>0.193426</td>\n",
              "      <td>0.909319</td>\n",
              "      <td>0.227808</td>\n",
              "      <td>0.153372</td>\n",
              "      <td>0.210423</td>\n",
              "      <td>0.201116</td>\n",
              "      <td>0.830902</td>\n",
              "      <td>1.0</td>\n",
              "    </tr>\n",
              "  </tbody>\n",
              "</table>\n",
              "</div>"
            ],
            "text/plain": [
              "            W         L  Playoffs        RS  ...       SLG       OPS      OOBP  OSLG\n",
              "OSLG -0.56849  0.570313 -0.366744  0.193426  ...  0.210423  0.201116  0.830902   1.0\n",
              "\n",
              "[1 rows x 11 columns]"
            ]
          },
          "metadata": {}
        },
        {
          "output_type": "display_data",
          "data": {
            "image/png": "[encoded data removed]",
            "text/plain": [
              "<Figure size 720x72 with 2 Axes>"
            ]
          },
          "metadata": {
            "needs_background": "light"
          }
        }
      ]
    },
    {
      "cell_type": "code",
      "metadata": {
        "colab": {
          "base_uri": "https://localhost:8080/",
          "height": 279
        },
        "id": "mwRT7rKZ43x2",
        "outputId": "83105f22-0bfe-4088-88ad-4ddffd0c934d"
      },
      "source": [
        "dist(\"OSLG\")"
      ],
      "execution_count": null,
      "outputs": [
        {
          "output_type": "display_data",
          "data": {
            "image/png": "[encoded data removed]",
            "text/plain": [
              "<Figure size 432x288 with 1 Axes>"
            ]
          },
          "metadata": {
            "needs_background": "light"
          }
        }
      ]
    },
    {
      "cell_type": "code",
      "metadata": {
        "colab": {
          "base_uri": "https://localhost:8080/",
          "height": 306
        },
        "id": "Uti7z32P48Fw",
        "outputId": "db5be218-a528-4be9-926a-9cba3d9fd9b1"
      },
      "source": [
        "box(\"OSLG\")"
      ],
      "execution_count": null,
      "outputs": [
        {
          "output_type": "display_data",
          "data": {
            "image/png": "[encoded data removed]",
            "text/plain": [
              "<Figure size 216x360 with 1 Axes>"
            ]
          },
          "metadata": {
            "needs_background": "light"
          }
        }
      ]
    },
    {
      "cell_type": "code",
      "metadata": {
        "colab": {
          "base_uri": "https://localhost:8080/"
        },
        "id": "hRYX15uC0rbn",
        "outputId": "62e80372-c37e-49ae-e8b3-5aef66cdcc2e"
      },
      "source": [
        "outliers(\"OSLG\")"
      ],
      "execution_count": null,
      "outputs": [
        {
          "output_type": "execute_result",
          "data": {
            "text/plain": [
              "{'high': [0.494, 0.499], 'low': []}"
            ]
          },
          "metadata": {},
          "execution_count": 67
        }
      ]
    },
    {
      "cell_type": "markdown",
      "metadata": {
        "id": "ehIK2kKfBHdj"
      },
      "source": [
        "## Summary"
      ]
    },
    {
      "cell_type": "markdown",
      "metadata": {
        "id": "Pt91eE3Mk2hy"
      },
      "source": [
        "Below is a description of the numerical variables contained within the dataset. Due to the sample size and relative even distribution of the data, the mean and the median are very close in each column:"
      ]
    },
    {
      "cell_type": "code",
      "metadata": {
        "colab": {
          "base_uri": "https://localhost:8080/",
          "height": 409
        },
        "id": "RqYiz0IIx2KN",
        "outputId": "782348c9-d36f-4dfb-d476-f27525dc7a27"
      },
      "source": [
        "baseball.describe(include='all')"
      ],
      "execution_count": null,
      "outputs": [
        {
          "output_type": "execute_result",
          "data": {
            "text/html": [
              "<div>\n",
              "<style scoped>\n",
              "    .dataframe tbody tr th:only-of-type {\n",
              "        vertical-align: middle;\n",
              "    }\n",
              "\n",
              "    .dataframe tbody tr th {\n",
              "        vertical-align: top;\n",
              "    }\n",
              "\n",
              "    .dataframe thead th {\n",
              "        text-align: right;\n",
              "    }\n",
              "</style>\n",
              "<table border=\"1\" class=\"dataframe\">\n",
              "  <thead>\n",
              "    <tr style=\"text-align: right;\">\n",
              "      <th></th>\n",
              "      <th>League</th>\n",
              "      <th>G</th>\n",
              "      <th>W</th>\n",
              "      <th>L</th>\n",
              "      <th>Playoffs</th>\n",
              "      <th>RankSeason</th>\n",
              "      <th>RankPlayoffs</th>\n",
              "      <th>WonWorldSeries</th>\n",
              "      <th>RS</th>\n",
              "      <th>RA</th>\n",
              "      <th>BA</th>\n",
              "      <th>OBP</th>\n",
              "      <th>SLG</th>\n",
              "      <th>OPS</th>\n",
              "      <th>OOBP</th>\n",
              "      <th>OSLG</th>\n",
              "    </tr>\n",
              "  </thead>\n",
              "  <tbody>\n",
              "    <tr>\n",
              "      <th>count</th>\n",
              "      <td>1232</td>\n",
              "      <td>1232.000000</td>\n",
              "      <td>1232.000000</td>\n",
              "      <td>1232.000000</td>\n",
              "      <td>1232</td>\n",
              "      <td>244.0</td>\n",
              "      <td>244.0</td>\n",
              "      <td>1232</td>\n",
              "      <td>1232.000000</td>\n",
              "      <td>1232.000000</td>\n",
              "      <td>1232.000000</td>\n",
              "      <td>1232.000000</td>\n",
              "      <td>1232.000000</td>\n",
              "      <td>420.000000</td>\n",
              "      <td>420.000000</td>\n",
              "      <td>1232</td>\n",
              "    </tr>\n",
              "    <tr>\n",
              "      <th>unique</th>\n",
              "      <td>2</td>\n",
              "      <td>NaN</td>\n",
              "      <td>NaN</td>\n",
              "      <td>NaN</td>\n",
              "      <td>2</td>\n",
              "      <td>8.0</td>\n",
              "      <td>5.0</td>\n",
              "      <td>2</td>\n",
              "      <td>NaN</td>\n",
              "      <td>NaN</td>\n",
              "      <td>NaN</td>\n",
              "      <td>NaN</td>\n",
              "      <td>NaN</td>\n",
              "      <td>NaN</td>\n",
              "      <td>NaN</td>\n",
              "      <td>2</td>\n",
              "    </tr>\n",
              "    <tr>\n",
              "      <th>top</th>\n",
              "      <td>AL</td>\n",
              "      <td>NaN</td>\n",
              "      <td>NaN</td>\n",
              "      <td>NaN</td>\n",
              "      <td>False</td>\n",
              "      <td>2.0</td>\n",
              "      <td>3.0</td>\n",
              "      <td>False</td>\n",
              "      <td>NaN</td>\n",
              "      <td>NaN</td>\n",
              "      <td>NaN</td>\n",
              "      <td>NaN</td>\n",
              "      <td>NaN</td>\n",
              "      <td>NaN</td>\n",
              "      <td>NaN</td>\n",
              "      <td>False</td>\n",
              "    </tr>\n",
              "    <tr>\n",
              "      <th>freq</th>\n",
              "      <td>616</td>\n",
              "      <td>NaN</td>\n",
              "      <td>NaN</td>\n",
              "      <td>NaN</td>\n",
              "      <td>988</td>\n",
              "      <td>53.0</td>\n",
              "      <td>80.0</td>\n",
              "      <td>1185</td>\n",
              "      <td>NaN</td>\n",
              "      <td>NaN</td>\n",
              "      <td>NaN</td>\n",
              "      <td>NaN</td>\n",
              "      <td>NaN</td>\n",
              "      <td>NaN</td>\n",
              "      <td>NaN</td>\n",
              "      <td>1185</td>\n",
              "    </tr>\n",
              "    <tr>\n",
              "      <th>mean</th>\n",
              "      <td>NaN</td>\n",
              "      <td>161.918831</td>\n",
              "      <td>80.904221</td>\n",
              "      <td>81.014610</td>\n",
              "      <td>NaN</td>\n",
              "      <td>NaN</td>\n",
              "      <td>NaN</td>\n",
              "      <td>NaN</td>\n",
              "      <td>715.081981</td>\n",
              "      <td>0.259273</td>\n",
              "      <td>0.326331</td>\n",
              "      <td>0.397342</td>\n",
              "      <td>0.723673</td>\n",
              "      <td>0.332264</td>\n",
              "      <td>0.419743</td>\n",
              "      <td>NaN</td>\n",
              "    </tr>\n",
              "    <tr>\n",
              "      <th>std</th>\n",
              "      <td>NaN</td>\n",
              "      <td>0.624365</td>\n",
              "      <td>11.458139</td>\n",
              "      <td>11.409295</td>\n",
              "      <td>NaN</td>\n",
              "      <td>NaN</td>\n",
              "      <td>NaN</td>\n",
              "      <td>NaN</td>\n",
              "      <td>93.079933</td>\n",
              "      <td>0.012907</td>\n",
              "      <td>0.015013</td>\n",
              "      <td>0.033267</td>\n",
              "      <td>0.046066</td>\n",
              "      <td>0.015295</td>\n",
              "      <td>0.026510</td>\n",
              "      <td>NaN</td>\n",
              "    </tr>\n",
              "    <tr>\n",
              "      <th>min</th>\n",
              "      <td>NaN</td>\n",
              "      <td>158.000000</td>\n",
              "      <td>40.000000</td>\n",
              "      <td>46.000000</td>\n",
              "      <td>NaN</td>\n",
              "      <td>NaN</td>\n",
              "      <td>NaN</td>\n",
              "      <td>NaN</td>\n",
              "      <td>472.000000</td>\n",
              "      <td>0.214000</td>\n",
              "      <td>0.277000</td>\n",
              "      <td>0.301000</td>\n",
              "      <td>0.584000</td>\n",
              "      <td>0.294000</td>\n",
              "      <td>0.346000</td>\n",
              "      <td>NaN</td>\n",
              "    </tr>\n",
              "    <tr>\n",
              "      <th>25%</th>\n",
              "      <td>NaN</td>\n",
              "      <td>162.000000</td>\n",
              "      <td>73.000000</td>\n",
              "      <td>73.000000</td>\n",
              "      <td>NaN</td>\n",
              "      <td>NaN</td>\n",
              "      <td>NaN</td>\n",
              "      <td>NaN</td>\n",
              "      <td>649.750000</td>\n",
              "      <td>0.251000</td>\n",
              "      <td>0.317000</td>\n",
              "      <td>0.375000</td>\n",
              "      <td>0.694000</td>\n",
              "      <td>0.321000</td>\n",
              "      <td>0.401000</td>\n",
              "      <td>NaN</td>\n",
              "    </tr>\n",
              "    <tr>\n",
              "      <th>50%</th>\n",
              "      <td>NaN</td>\n",
              "      <td>162.000000</td>\n",
              "      <td>81.000000</td>\n",
              "      <td>81.000000</td>\n",
              "      <td>NaN</td>\n",
              "      <td>NaN</td>\n",
              "      <td>NaN</td>\n",
              "      <td>NaN</td>\n",
              "      <td>709.000000</td>\n",
              "      <td>0.260000</td>\n",
              "      <td>0.326000</td>\n",
              "      <td>0.396000</td>\n",
              "      <td>0.722000</td>\n",
              "      <td>0.331000</td>\n",
              "      <td>0.419000</td>\n",
              "      <td>NaN</td>\n",
              "    </tr>\n",
              "    <tr>\n",
              "      <th>75%</th>\n",
              "      <td>NaN</td>\n",
              "      <td>162.000000</td>\n",
              "      <td>89.000000</td>\n",
              "      <td>89.000000</td>\n",
              "      <td>NaN</td>\n",
              "      <td>NaN</td>\n",
              "      <td>NaN</td>\n",
              "      <td>NaN</td>\n",
              "      <td>774.250000</td>\n",
              "      <td>0.268000</td>\n",
              "      <td>0.337000</td>\n",
              "      <td>0.421000</td>\n",
              "      <td>0.755000</td>\n",
              "      <td>0.343000</td>\n",
              "      <td>0.438000</td>\n",
              "      <td>NaN</td>\n",
              "    </tr>\n",
              "    <tr>\n",
              "      <th>max</th>\n",
              "      <td>NaN</td>\n",
              "      <td>165.000000</td>\n",
              "      <td>116.000000</td>\n",
              "      <td>121.000000</td>\n",
              "      <td>NaN</td>\n",
              "      <td>NaN</td>\n",
              "      <td>NaN</td>\n",
              "      <td>NaN</td>\n",
              "      <td>1103.000000</td>\n",
              "      <td>0.294000</td>\n",
              "      <td>0.373000</td>\n",
              "      <td>0.491000</td>\n",
              "      <td>0.851000</td>\n",
              "      <td>0.384000</td>\n",
              "      <td>0.499000</td>\n",
              "      <td>NaN</td>\n",
              "    </tr>\n",
              "  </tbody>\n",
              "</table>\n",
              "</div>"
            ],
            "text/plain": [
              "       League            G            W  ...         OPS        OOBP   OSLG\n",
              "count    1232  1232.000000  1232.000000  ...  420.000000  420.000000   1232\n",
              "unique      2          NaN          NaN  ...         NaN         NaN      2\n",
              "top        AL          NaN          NaN  ...         NaN         NaN  False\n",
              "freq      616          NaN          NaN  ...         NaN         NaN   1185\n",
              "mean      NaN   161.918831    80.904221  ...    0.332264    0.419743    NaN\n",
              "std       NaN     0.624365    11.458139  ...    0.015295    0.026510    NaN\n",
              "min       NaN   158.000000    40.000000  ...    0.294000    0.346000    NaN\n",
              "25%       NaN   162.000000    73.000000  ...    0.321000    0.401000    NaN\n",
              "50%       NaN   162.000000    81.000000  ...    0.331000    0.419000    NaN\n",
              "75%       NaN   162.000000    89.000000  ...    0.343000    0.438000    NaN\n",
              "max       NaN   165.000000   116.000000  ...    0.384000    0.499000    NaN\n",
              "\n",
              "[11 rows x 16 columns]"
            ]
          },
          "metadata": {},
          "execution_count": 49
        }
      ]
    },
    {
      "cell_type": "markdown",
      "metadata": {
        "id": "2LzQGzkXkds3"
      },
      "source": [
        "As described by pandas' `describe()` method seen in the cell above, there are 13 numerical variables (although the 14th, 'Playoffs', is also numerically-convertible) in the DataFrame. Of these, while some aren't very useful for variable analysis, all are valid for correlation:"
      ]
    },
    {
      "cell_type": "code",
      "metadata": {
        "colab": {
          "base_uri": "https://localhost:8080/",
          "height": 613
        },
        "id": "CCuB7QeW0sMY",
        "outputId": "75826776-b877-4f84-dcf2-99e394d22a6b"
      },
      "source": [
        "plt.figure(figsize=(15, 10))\n",
        "sns.heatmap(baseball.corr(), cmap='Blues', annot=True)"
      ],
      "execution_count": null,
      "outputs": [
        {
          "output_type": "execute_result",
          "data": {
            "text/plain": [
              "<matplotlib.axes._subplots.AxesSubplot at 0x7fcb719a5b10>"
            ]
          },
          "metadata": {},
          "execution_count": 232
        },
        {
          "output_type": "display_data",
          "data": {
            "image/png": "[encoded data removed]",
            "text/plain": [
              "<Figure size 1080x720 with 2 Axes>"
            ]
          },
          "metadata": {
            "needs_background": "light"
          }
        }
      ]
    },
    {
      "cell_type": "markdown",
      "metadata": {
        "id": "Om1aCH4FP4Os"
      },
      "source": [
        "However, when trying to establish the approximate distributions, it is relatively meaningless to try to do so for \"Games\", \"Playoffs\", \"RankSeason\", and \"RankPlayoffs\" - since all are pretty much constant and their randomness is relatively inconsequential on the scope of the entire dataset (while their assignment is random, their values are - for the most part - not. In each given year, there will be one World Series winner denoted by a `1.0` in RankPlayoffs column, and so on)."
      ]
    },
    {
      "cell_type": "markdown",
      "metadata": {
        "id": "kK2BzWqzuUBp"
      },
      "source": [
        "The remaining variables' distribution are plotted below via histograms and kernel density estimates. For the most part, all 10 of these variables appear to be distributed normally, and - due to the sample size for each column - their arithmetic estimators for mean and variance should be relatively accurate to the actual mean and variance of the underlying distributions. "
      ]
    },
    {
      "cell_type": "code",
      "metadata": {
        "colab": {
          "base_uri": "https://localhost:8080/",
          "height": 511
        },
        "id": "bB30EIuh5i-r",
        "outputId": "55c7abb5-09a7-4d1a-87f8-f2bcee842fcb"
      },
      "source": [
        "plt.figure(figsize=(25, 10))\n",
        "columns = ['W', 'L', 'RS', 'RA', 'BA', 'OBP', 'SLG', 'OPS', 'OOBP', 'OSLG']\n",
        "for i in range(len(columns)):\n",
        "  plt.subplot(2, len(columns)/2, i+1)\n",
        "  sns.histplot(baseball[columns[i]], kde=True)\n",
        "  plt.tight_layout()"
      ],
      "execution_count": null,
      "outputs": [
        {
          "output_type": "display_data",
          "data": {
            "image/png": "[encoded data removed]",
            "text/plain": [
              "<Figure size 1800x720 with 10 Axes>"
            ]
          },
          "metadata": {
            "needs_background": "light"
          }
        }
      ]
    },
    {
      "cell_type": "markdown",
      "metadata": {
        "id": "vQ-Q5IAiQMhf"
      },
      "source": [
        "From the box-and-whisker plots below, we can see that the data has relatively few outliers overall, though most of the league appears to have been not too far away from the median:"
      ]
    },
    {
      "cell_type": "code",
      "metadata": {
        "colab": {
          "base_uri": "https://localhost:8080/",
          "height": 729
        },
        "id": "SdVHVwe9MyqM",
        "outputId": "5590cbc9-772b-44ba-ecdf-404ab882c41e"
      },
      "source": [
        "plt.figure(figsize=(15, 10))\n",
        "for i in range(len(columns)):\n",
        "  plt.subplot(2, len(columns)/2, i+1)\n",
        "  sns.boxplot(y=baseball[columns[i]], orient='v')\n",
        "  plt.tight_layout()"
      ],
      "execution_count": null,
      "outputs": [
        {
          "output_type": "display_data",
          "data": {
            "image/png": "[encoded data removed]",
            "text/plain": [
              "<Figure size 1080x720 with 10 Axes>"
            ]
          },
          "metadata": {
            "needs_background": "light"
          }
        }
      ]
    },
    {
      "cell_type": "markdown",
      "metadata": {
        "id": "yTDWILCEs5K-"
      },
      "source": [
        "#### Won World Series"
      ]
    },
    {
      "cell_type": "markdown",
      "metadata": {
        "id": "lwKHKNqPsVnn"
      },
      "source": [
        "Another correlation we can include is between each column and the boolean \"did this team with the World Series in a given year\", obtained by the following assignment:"
      ]
    },
    {
      "cell_type": "code",
      "metadata": {
        "id": "FGYOpsMWqdyY"
      },
      "source": [
        "won_world_series = baseball.RankPlayoffs == 1"
      ],
      "execution_count": null,
      "outputs": []
    },
    {
      "cell_type": "code",
      "metadata": {
        "colab": {
          "base_uri": "https://localhost:8080/",
          "height": 1000
        },
        "id": "MJuZYQGbr_dL",
        "outputId": "7afa1b67-58f8-4a54-e1aa-dda160f8d7a4"
      },
      "source": [
        "baseball['won_WS'] = won_world_series\n",
        "baseball.head(30)"
      ],
      "execution_count": null,
      "outputs": [
        {
          "output_type": "execute_result",
          "data": {
            "text/html": [
              "<div>\n",
              "<style scoped>\n",
              "    .dataframe tbody tr th:only-of-type {\n",
              "        vertical-align: middle;\n",
              "    }\n",
              "\n",
              "    .dataframe tbody tr th {\n",
              "        vertical-align: top;\n",
              "    }\n",
              "\n",
              "    .dataframe thead th {\n",
              "        text-align: right;\n",
              "    }\n",
              "</style>\n",
              "<table border=\"1\" class=\"dataframe\">\n",
              "  <thead>\n",
              "    <tr style=\"text-align: right;\">\n",
              "      <th></th>\n",
              "      <th></th>\n",
              "      <th>League</th>\n",
              "      <th>G</th>\n",
              "      <th>W</th>\n",
              "      <th>L</th>\n",
              "      <th>Playoffs</th>\n",
              "      <th>RankSeason</th>\n",
              "      <th>RankPlayoffs</th>\n",
              "      <th>RS</th>\n",
              "      <th>RA</th>\n",
              "      <th>BA</th>\n",
              "      <th>OBP</th>\n",
              "      <th>SLG</th>\n",
              "      <th>OPS</th>\n",
              "      <th>OOBP</th>\n",
              "      <th>OSLG</th>\n",
              "      <th>won_WS</th>\n",
              "    </tr>\n",
              "    <tr>\n",
              "      <th>Year</th>\n",
              "      <th>Team</th>\n",
              "      <th></th>\n",
              "      <th></th>\n",
              "      <th></th>\n",
              "      <th></th>\n",
              "      <th></th>\n",
              "      <th></th>\n",
              "      <th></th>\n",
              "      <th></th>\n",
              "      <th></th>\n",
              "      <th></th>\n",
              "      <th></th>\n",
              "      <th></th>\n",
              "      <th></th>\n",
              "      <th></th>\n",
              "      <th></th>\n",
              "      <th></th>\n",
              "    </tr>\n",
              "  </thead>\n",
              "  <tbody>\n",
              "    <tr>\n",
              "      <th rowspan=\"30\" valign=\"top\">2012</th>\n",
              "      <th>ARI</th>\n",
              "      <td>NL</td>\n",
              "      <td>162</td>\n",
              "      <td>81</td>\n",
              "      <td>81</td>\n",
              "      <td>False</td>\n",
              "      <td>NaN</td>\n",
              "      <td>NaN</td>\n",
              "      <td>734</td>\n",
              "      <td>688</td>\n",
              "      <td>0.259</td>\n",
              "      <td>0.328</td>\n",
              "      <td>0.418</td>\n",
              "      <td>0.746</td>\n",
              "      <td>0.317</td>\n",
              "      <td>0.415</td>\n",
              "      <td>False</td>\n",
              "    </tr>\n",
              "    <tr>\n",
              "      <th>ATL</th>\n",
              "      <td>NL</td>\n",
              "      <td>162</td>\n",
              "      <td>94</td>\n",
              "      <td>68</td>\n",
              "      <td>True</td>\n",
              "      <td>4.0</td>\n",
              "      <td>5.0</td>\n",
              "      <td>700</td>\n",
              "      <td>600</td>\n",
              "      <td>0.247</td>\n",
              "      <td>0.320</td>\n",
              "      <td>0.389</td>\n",
              "      <td>0.709</td>\n",
              "      <td>0.306</td>\n",
              "      <td>0.378</td>\n",
              "      <td>False</td>\n",
              "    </tr>\n",
              "    <tr>\n",
              "      <th>BAL</th>\n",
              "      <td>AL</td>\n",
              "      <td>162</td>\n",
              "      <td>93</td>\n",
              "      <td>69</td>\n",
              "      <td>True</td>\n",
              "      <td>5.0</td>\n",
              "      <td>4.0</td>\n",
              "      <td>712</td>\n",
              "      <td>705</td>\n",
              "      <td>0.247</td>\n",
              "      <td>0.311</td>\n",
              "      <td>0.417</td>\n",
              "      <td>0.728</td>\n",
              "      <td>0.315</td>\n",
              "      <td>0.403</td>\n",
              "      <td>False</td>\n",
              "    </tr>\n",
              "    <tr>\n",
              "      <th>BOS</th>\n",
              "      <td>AL</td>\n",
              "      <td>162</td>\n",
              "      <td>69</td>\n",
              "      <td>93</td>\n",
              "      <td>False</td>\n",
              "      <td>NaN</td>\n",
              "      <td>NaN</td>\n",
              "      <td>734</td>\n",
              "      <td>806</td>\n",
              "      <td>0.260</td>\n",
              "      <td>0.315</td>\n",
              "      <td>0.415</td>\n",
              "      <td>0.730</td>\n",
              "      <td>0.331</td>\n",
              "      <td>0.428</td>\n",
              "      <td>False</td>\n",
              "    </tr>\n",
              "    <tr>\n",
              "      <th>CHC</th>\n",
              "      <td>NL</td>\n",
              "      <td>162</td>\n",
              "      <td>61</td>\n",
              "      <td>101</td>\n",
              "      <td>False</td>\n",
              "      <td>NaN</td>\n",
              "      <td>NaN</td>\n",
              "      <td>613</td>\n",
              "      <td>759</td>\n",
              "      <td>0.240</td>\n",
              "      <td>0.302</td>\n",
              "      <td>0.378</td>\n",
              "      <td>0.680</td>\n",
              "      <td>0.335</td>\n",
              "      <td>0.424</td>\n",
              "      <td>False</td>\n",
              "    </tr>\n",
              "    <tr>\n",
              "      <th>CHW</th>\n",
              "      <td>AL</td>\n",
              "      <td>162</td>\n",
              "      <td>85</td>\n",
              "      <td>77</td>\n",
              "      <td>False</td>\n",
              "      <td>NaN</td>\n",
              "      <td>NaN</td>\n",
              "      <td>748</td>\n",
              "      <td>676</td>\n",
              "      <td>0.255</td>\n",
              "      <td>0.318</td>\n",
              "      <td>0.422</td>\n",
              "      <td>0.740</td>\n",
              "      <td>0.319</td>\n",
              "      <td>0.405</td>\n",
              "      <td>False</td>\n",
              "    </tr>\n",
              "    <tr>\n",
              "      <th>CIN</th>\n",
              "      <td>NL</td>\n",
              "      <td>162</td>\n",
              "      <td>97</td>\n",
              "      <td>65</td>\n",
              "      <td>True</td>\n",
              "      <td>2.0</td>\n",
              "      <td>4.0</td>\n",
              "      <td>669</td>\n",
              "      <td>588</td>\n",
              "      <td>0.251</td>\n",
              "      <td>0.315</td>\n",
              "      <td>0.411</td>\n",
              "      <td>0.726</td>\n",
              "      <td>0.305</td>\n",
              "      <td>0.390</td>\n",
              "      <td>False</td>\n",
              "    </tr>\n",
              "    <tr>\n",
              "      <th>CLE</th>\n",
              "      <td>AL</td>\n",
              "      <td>162</td>\n",
              "      <td>68</td>\n",
              "      <td>94</td>\n",
              "      <td>False</td>\n",
              "      <td>NaN</td>\n",
              "      <td>NaN</td>\n",
              "      <td>667</td>\n",
              "      <td>845</td>\n",
              "      <td>0.251</td>\n",
              "      <td>0.324</td>\n",
              "      <td>0.381</td>\n",
              "      <td>0.705</td>\n",
              "      <td>0.336</td>\n",
              "      <td>0.430</td>\n",
              "      <td>False</td>\n",
              "    </tr>\n",
              "    <tr>\n",
              "      <th>COL</th>\n",
              "      <td>NL</td>\n",
              "      <td>162</td>\n",
              "      <td>64</td>\n",
              "      <td>98</td>\n",
              "      <td>False</td>\n",
              "      <td>NaN</td>\n",
              "      <td>NaN</td>\n",
              "      <td>758</td>\n",
              "      <td>890</td>\n",
              "      <td>0.274</td>\n",
              "      <td>0.330</td>\n",
              "      <td>0.436</td>\n",
              "      <td>0.766</td>\n",
              "      <td>0.357</td>\n",
              "      <td>0.470</td>\n",
              "      <td>False</td>\n",
              "    </tr>\n",
              "    <tr>\n",
              "      <th>DET</th>\n",
              "      <td>AL</td>\n",
              "      <td>162</td>\n",
              "      <td>88</td>\n",
              "      <td>74</td>\n",
              "      <td>True</td>\n",
              "      <td>6.0</td>\n",
              "      <td>2.0</td>\n",
              "      <td>726</td>\n",
              "      <td>670</td>\n",
              "      <td>0.268</td>\n",
              "      <td>0.335</td>\n",
              "      <td>0.422</td>\n",
              "      <td>0.757</td>\n",
              "      <td>0.314</td>\n",
              "      <td>0.402</td>\n",
              "      <td>False</td>\n",
              "    </tr>\n",
              "    <tr>\n",
              "      <th>HOU</th>\n",
              "      <td>NL</td>\n",
              "      <td>162</td>\n",
              "      <td>55</td>\n",
              "      <td>107</td>\n",
              "      <td>False</td>\n",
              "      <td>NaN</td>\n",
              "      <td>NaN</td>\n",
              "      <td>583</td>\n",
              "      <td>794</td>\n",
              "      <td>0.236</td>\n",
              "      <td>0.302</td>\n",
              "      <td>0.371</td>\n",
              "      <td>0.673</td>\n",
              "      <td>0.337</td>\n",
              "      <td>0.427</td>\n",
              "      <td>False</td>\n",
              "    </tr>\n",
              "    <tr>\n",
              "      <th>KCR</th>\n",
              "      <td>AL</td>\n",
              "      <td>162</td>\n",
              "      <td>72</td>\n",
              "      <td>90</td>\n",
              "      <td>False</td>\n",
              "      <td>NaN</td>\n",
              "      <td>NaN</td>\n",
              "      <td>676</td>\n",
              "      <td>746</td>\n",
              "      <td>0.265</td>\n",
              "      <td>0.317</td>\n",
              "      <td>0.400</td>\n",
              "      <td>0.717</td>\n",
              "      <td>0.339</td>\n",
              "      <td>0.423</td>\n",
              "      <td>False</td>\n",
              "    </tr>\n",
              "    <tr>\n",
              "      <th>LAA</th>\n",
              "      <td>AL</td>\n",
              "      <td>162</td>\n",
              "      <td>89</td>\n",
              "      <td>73</td>\n",
              "      <td>False</td>\n",
              "      <td>NaN</td>\n",
              "      <td>NaN</td>\n",
              "      <td>767</td>\n",
              "      <td>699</td>\n",
              "      <td>0.274</td>\n",
              "      <td>0.332</td>\n",
              "      <td>0.433</td>\n",
              "      <td>0.765</td>\n",
              "      <td>0.310</td>\n",
              "      <td>0.403</td>\n",
              "      <td>False</td>\n",
              "    </tr>\n",
              "    <tr>\n",
              "      <th>LAD</th>\n",
              "      <td>NL</td>\n",
              "      <td>162</td>\n",
              "      <td>86</td>\n",
              "      <td>76</td>\n",
              "      <td>False</td>\n",
              "      <td>NaN</td>\n",
              "      <td>NaN</td>\n",
              "      <td>637</td>\n",
              "      <td>597</td>\n",
              "      <td>0.252</td>\n",
              "      <td>0.317</td>\n",
              "      <td>0.374</td>\n",
              "      <td>0.691</td>\n",
              "      <td>0.310</td>\n",
              "      <td>0.364</td>\n",
              "      <td>False</td>\n",
              "    </tr>\n",
              "    <tr>\n",
              "      <th>MIA</th>\n",
              "      <td>NL</td>\n",
              "      <td>162</td>\n",
              "      <td>69</td>\n",
              "      <td>93</td>\n",
              "      <td>False</td>\n",
              "      <td>NaN</td>\n",
              "      <td>NaN</td>\n",
              "      <td>609</td>\n",
              "      <td>724</td>\n",
              "      <td>0.244</td>\n",
              "      <td>0.308</td>\n",
              "      <td>0.382</td>\n",
              "      <td>0.690</td>\n",
              "      <td>0.327</td>\n",
              "      <td>0.399</td>\n",
              "      <td>False</td>\n",
              "    </tr>\n",
              "    <tr>\n",
              "      <th>MIL</th>\n",
              "      <td>NL</td>\n",
              "      <td>162</td>\n",
              "      <td>83</td>\n",
              "      <td>79</td>\n",
              "      <td>False</td>\n",
              "      <td>NaN</td>\n",
              "      <td>NaN</td>\n",
              "      <td>776</td>\n",
              "      <td>733</td>\n",
              "      <td>0.259</td>\n",
              "      <td>0.325</td>\n",
              "      <td>0.437</td>\n",
              "      <td>0.762</td>\n",
              "      <td>0.326</td>\n",
              "      <td>0.414</td>\n",
              "      <td>False</td>\n",
              "    </tr>\n",
              "    <tr>\n",
              "      <th>MIN</th>\n",
              "      <td>AL</td>\n",
              "      <td>162</td>\n",
              "      <td>66</td>\n",
              "      <td>96</td>\n",
              "      <td>False</td>\n",
              "      <td>NaN</td>\n",
              "      <td>NaN</td>\n",
              "      <td>701</td>\n",
              "      <td>832</td>\n",
              "      <td>0.260</td>\n",
              "      <td>0.325</td>\n",
              "      <td>0.390</td>\n",
              "      <td>0.715</td>\n",
              "      <td>0.333</td>\n",
              "      <td>0.442</td>\n",
              "      <td>False</td>\n",
              "    </tr>\n",
              "    <tr>\n",
              "      <th>NYM</th>\n",
              "      <td>NL</td>\n",
              "      <td>162</td>\n",
              "      <td>74</td>\n",
              "      <td>88</td>\n",
              "      <td>False</td>\n",
              "      <td>NaN</td>\n",
              "      <td>NaN</td>\n",
              "      <td>650</td>\n",
              "      <td>709</td>\n",
              "      <td>0.249</td>\n",
              "      <td>0.316</td>\n",
              "      <td>0.386</td>\n",
              "      <td>0.702</td>\n",
              "      <td>0.315</td>\n",
              "      <td>0.401</td>\n",
              "      <td>False</td>\n",
              "    </tr>\n",
              "    <tr>\n",
              "      <th>NYY</th>\n",
              "      <td>AL</td>\n",
              "      <td>162</td>\n",
              "      <td>95</td>\n",
              "      <td>67</td>\n",
              "      <td>True</td>\n",
              "      <td>3.0</td>\n",
              "      <td>3.0</td>\n",
              "      <td>804</td>\n",
              "      <td>668</td>\n",
              "      <td>0.265</td>\n",
              "      <td>0.337</td>\n",
              "      <td>0.453</td>\n",
              "      <td>0.790</td>\n",
              "      <td>0.311</td>\n",
              "      <td>0.419</td>\n",
              "      <td>False</td>\n",
              "    </tr>\n",
              "    <tr>\n",
              "      <th>OAK</th>\n",
              "      <td>AL</td>\n",
              "      <td>162</td>\n",
              "      <td>94</td>\n",
              "      <td>68</td>\n",
              "      <td>True</td>\n",
              "      <td>4.0</td>\n",
              "      <td>4.0</td>\n",
              "      <td>713</td>\n",
              "      <td>614</td>\n",
              "      <td>0.238</td>\n",
              "      <td>0.310</td>\n",
              "      <td>0.404</td>\n",
              "      <td>0.714</td>\n",
              "      <td>0.306</td>\n",
              "      <td>0.378</td>\n",
              "      <td>False</td>\n",
              "    </tr>\n",
              "    <tr>\n",
              "      <th>PHI</th>\n",
              "      <td>NL</td>\n",
              "      <td>162</td>\n",
              "      <td>81</td>\n",
              "      <td>81</td>\n",
              "      <td>False</td>\n",
              "      <td>NaN</td>\n",
              "      <td>NaN</td>\n",
              "      <td>684</td>\n",
              "      <td>680</td>\n",
              "      <td>0.255</td>\n",
              "      <td>0.317</td>\n",
              "      <td>0.400</td>\n",
              "      <td>0.717</td>\n",
              "      <td>0.306</td>\n",
              "      <td>0.407</td>\n",
              "      <td>False</td>\n",
              "    </tr>\n",
              "    <tr>\n",
              "      <th>PIT</th>\n",
              "      <td>NL</td>\n",
              "      <td>162</td>\n",
              "      <td>79</td>\n",
              "      <td>83</td>\n",
              "      <td>False</td>\n",
              "      <td>NaN</td>\n",
              "      <td>NaN</td>\n",
              "      <td>651</td>\n",
              "      <td>674</td>\n",
              "      <td>0.243</td>\n",
              "      <td>0.304</td>\n",
              "      <td>0.395</td>\n",
              "      <td>0.699</td>\n",
              "      <td>0.314</td>\n",
              "      <td>0.390</td>\n",
              "      <td>False</td>\n",
              "    </tr>\n",
              "    <tr>\n",
              "      <th>SDP</th>\n",
              "      <td>NL</td>\n",
              "      <td>162</td>\n",
              "      <td>76</td>\n",
              "      <td>86</td>\n",
              "      <td>False</td>\n",
              "      <td>NaN</td>\n",
              "      <td>NaN</td>\n",
              "      <td>651</td>\n",
              "      <td>710</td>\n",
              "      <td>0.247</td>\n",
              "      <td>0.319</td>\n",
              "      <td>0.380</td>\n",
              "      <td>0.699</td>\n",
              "      <td>0.319</td>\n",
              "      <td>0.398</td>\n",
              "      <td>False</td>\n",
              "    </tr>\n",
              "    <tr>\n",
              "      <th>SEA</th>\n",
              "      <td>AL</td>\n",
              "      <td>162</td>\n",
              "      <td>75</td>\n",
              "      <td>87</td>\n",
              "      <td>False</td>\n",
              "      <td>NaN</td>\n",
              "      <td>NaN</td>\n",
              "      <td>619</td>\n",
              "      <td>651</td>\n",
              "      <td>0.234</td>\n",
              "      <td>0.296</td>\n",
              "      <td>0.369</td>\n",
              "      <td>0.665</td>\n",
              "      <td>0.308</td>\n",
              "      <td>0.394</td>\n",
              "      <td>False</td>\n",
              "    </tr>\n",
              "    <tr>\n",
              "      <th>SFG</th>\n",
              "      <td>NL</td>\n",
              "      <td>162</td>\n",
              "      <td>94</td>\n",
              "      <td>68</td>\n",
              "      <td>True</td>\n",
              "      <td>4.0</td>\n",
              "      <td>1.0</td>\n",
              "      <td>718</td>\n",
              "      <td>649</td>\n",
              "      <td>0.269</td>\n",
              "      <td>0.327</td>\n",
              "      <td>0.397</td>\n",
              "      <td>0.724</td>\n",
              "      <td>0.313</td>\n",
              "      <td>0.393</td>\n",
              "      <td>True</td>\n",
              "    </tr>\n",
              "    <tr>\n",
              "      <th>STL</th>\n",
              "      <td>NL</td>\n",
              "      <td>162</td>\n",
              "      <td>88</td>\n",
              "      <td>74</td>\n",
              "      <td>True</td>\n",
              "      <td>6.0</td>\n",
              "      <td>3.0</td>\n",
              "      <td>765</td>\n",
              "      <td>648</td>\n",
              "      <td>0.271</td>\n",
              "      <td>0.338</td>\n",
              "      <td>0.421</td>\n",
              "      <td>0.759</td>\n",
              "      <td>0.313</td>\n",
              "      <td>0.387</td>\n",
              "      <td>False</td>\n",
              "    </tr>\n",
              "    <tr>\n",
              "      <th>TBR</th>\n",
              "      <td>AL</td>\n",
              "      <td>162</td>\n",
              "      <td>90</td>\n",
              "      <td>72</td>\n",
              "      <td>False</td>\n",
              "      <td>NaN</td>\n",
              "      <td>NaN</td>\n",
              "      <td>697</td>\n",
              "      <td>577</td>\n",
              "      <td>0.240</td>\n",
              "      <td>0.317</td>\n",
              "      <td>0.394</td>\n",
              "      <td>0.711</td>\n",
              "      <td>0.294</td>\n",
              "      <td>0.352</td>\n",
              "      <td>False</td>\n",
              "    </tr>\n",
              "    <tr>\n",
              "      <th>TEX</th>\n",
              "      <td>AL</td>\n",
              "      <td>162</td>\n",
              "      <td>93</td>\n",
              "      <td>69</td>\n",
              "      <td>True</td>\n",
              "      <td>5.0</td>\n",
              "      <td>5.0</td>\n",
              "      <td>808</td>\n",
              "      <td>707</td>\n",
              "      <td>0.273</td>\n",
              "      <td>0.334</td>\n",
              "      <td>0.446</td>\n",
              "      <td>0.780</td>\n",
              "      <td>0.309</td>\n",
              "      <td>0.408</td>\n",
              "      <td>False</td>\n",
              "    </tr>\n",
              "    <tr>\n",
              "      <th>TOR</th>\n",
              "      <td>AL</td>\n",
              "      <td>162</td>\n",
              "      <td>73</td>\n",
              "      <td>89</td>\n",
              "      <td>False</td>\n",
              "      <td>NaN</td>\n",
              "      <td>NaN</td>\n",
              "      <td>716</td>\n",
              "      <td>784</td>\n",
              "      <td>0.245</td>\n",
              "      <td>0.309</td>\n",
              "      <td>0.407</td>\n",
              "      <td>0.716</td>\n",
              "      <td>0.335</td>\n",
              "      <td>0.438</td>\n",
              "      <td>False</td>\n",
              "    </tr>\n",
              "    <tr>\n",
              "      <th>WSN</th>\n",
              "      <td>NL</td>\n",
              "      <td>162</td>\n",
              "      <td>98</td>\n",
              "      <td>64</td>\n",
              "      <td>True</td>\n",
              "      <td>1.0</td>\n",
              "      <td>4.0</td>\n",
              "      <td>731</td>\n",
              "      <td>594</td>\n",
              "      <td>0.261</td>\n",
              "      <td>0.322</td>\n",
              "      <td>0.428</td>\n",
              "      <td>0.750</td>\n",
              "      <td>0.303</td>\n",
              "      <td>0.373</td>\n",
              "      <td>False</td>\n",
              "    </tr>\n",
              "  </tbody>\n",
              "</table>\n",
              "</div>"
            ],
            "text/plain": [
              "          League    G   W    L  Playoffs  ...    SLG    OPS   OOBP   OSLG  won_WS\n",
              "Year Team                                 ...                                    \n",
              "2012 ARI      NL  162  81   81     False  ...  0.418  0.746  0.317  0.415   False\n",
              "     ATL      NL  162  94   68      True  ...  0.389  0.709  0.306  0.378   False\n",
              "     BAL      AL  162  93   69      True  ...  0.417  0.728  0.315  0.403   False\n",
              "     BOS      AL  162  69   93     False  ...  0.415  0.730  0.331  0.428   False\n",
              "     CHC      NL  162  61  101     False  ...  0.378  0.680  0.335  0.424   False\n",
              "     CHW      AL  162  85   77     False  ...  0.422  0.740  0.319  0.405   False\n",
              "     CIN      NL  162  97   65      True  ...  0.411  0.726  0.305  0.390   False\n",
              "     CLE      AL  162  68   94     False  ...  0.381  0.705  0.336  0.430   False\n",
              "     COL      NL  162  64   98     False  ...  0.436  0.766  0.357  0.470   False\n",
              "     DET      AL  162  88   74      True  ...  0.422  0.757  0.314  0.402   False\n",
              "     HOU      NL  162  55  107     False  ...  0.371  0.673  0.337  0.427   False\n",
              "     KCR      AL  162  72   90     False  ...  0.400  0.717  0.339  0.423   False\n",
              "     LAA      AL  162  89   73     False  ...  0.433  0.765  0.310  0.403   False\n",
              "     LAD      NL  162  86   76     False  ...  0.374  0.691  0.310  0.364   False\n",
              "     MIA      NL  162  69   93     False  ...  0.382  0.690  0.327  0.399   False\n",
              "     MIL      NL  162  83   79     False  ...  0.437  0.762  0.326  0.414   False\n",
              "     MIN      AL  162  66   96     False  ...  0.390  0.715  0.333  0.442   False\n",
              "     NYM      NL  162  74   88     False  ...  0.386  0.702  0.315  0.401   False\n",
              "     NYY      AL  162  95   67      True  ...  0.453  0.790  0.311  0.419   False\n",
              "     OAK      AL  162  94   68      True  ...  0.404  0.714  0.306  0.378   False\n",
              "     PHI      NL  162  81   81     False  ...  0.400  0.717  0.306  0.407   False\n",
              "     PIT      NL  162  79   83     False  ...  0.395  0.699  0.314  0.390   False\n",
              "     SDP      NL  162  76   86     False  ...  0.380  0.699  0.319  0.398   False\n",
              "     SEA      AL  162  75   87     False  ...  0.369  0.665  0.308  0.394   False\n",
              "     SFG      NL  162  94   68      True  ...  0.397  0.724  0.313  0.393    True\n",
              "     STL      NL  162  88   74      True  ...  0.421  0.759  0.313  0.387   False\n",
              "     TBR      AL  162  90   72     False  ...  0.394  0.711  0.294  0.352   False\n",
              "     TEX      AL  162  93   69      True  ...  0.446  0.780  0.309  0.408   False\n",
              "     TOR      AL  162  73   89     False  ...  0.407  0.716  0.335  0.438   False\n",
              "     WSN      NL  162  98   64      True  ...  0.428  0.750  0.303  0.373   False\n",
              "\n",
              "[30 rows x 16 columns]"
            ]
          },
          "metadata": {},
          "execution_count": 262
        }
      ]
    },
    {
      "cell_type": "code",
      "metadata": {
        "colab": {
          "base_uri": "https://localhost:8080/",
          "height": 170
        },
        "id": "v3k134ipqhAj",
        "outputId": "20419490-e622-4a4f-968e-ccb531c4150b"
      },
      "source": [
        "corr('won_WS')"
      ],
      "execution_count": null,
      "outputs": [
        {
          "output_type": "display_data",
          "data": {
            "text/html": [
              "<div>\n",
              "<style scoped>\n",
              "    .dataframe tbody tr th:only-of-type {\n",
              "        vertical-align: middle;\n",
              "    }\n",
              "\n",
              "    .dataframe tbody tr th {\n",
              "        vertical-align: top;\n",
              "    }\n",
              "\n",
              "    .dataframe thead th {\n",
              "        text-align: right;\n",
              "    }\n",
              "</style>\n",
              "<table border=\"1\" class=\"dataframe\">\n",
              "  <thead>\n",
              "    <tr style=\"text-align: right;\">\n",
              "      <th></th>\n",
              "      <th>W</th>\n",
              "      <th>L</th>\n",
              "      <th>Playoffs</th>\n",
              "      <th>RS</th>\n",
              "      <th>RA</th>\n",
              "      <th>BA</th>\n",
              "      <th>OBP</th>\n",
              "      <th>SLG</th>\n",
              "      <th>OPS</th>\n",
              "      <th>OOBP</th>\n",
              "      <th>OSLG</th>\n",
              "      <th>won_WS</th>\n",
              "    </tr>\n",
              "  </thead>\n",
              "  <tbody>\n",
              "    <tr>\n",
              "      <th>won_WS</th>\n",
              "      <td>0.270626</td>\n",
              "      <td>-0.270367</td>\n",
              "      <td>0.40075</td>\n",
              "      <td>0.12588</td>\n",
              "      <td>-0.153151</td>\n",
              "      <td>0.111724</td>\n",
              "      <td>0.120692</td>\n",
              "      <td>0.085367</td>\n",
              "      <td>0.100982</td>\n",
              "      <td>-0.136051</td>\n",
              "      <td>-0.121929</td>\n",
              "      <td>1.0</td>\n",
              "    </tr>\n",
              "  </tbody>\n",
              "</table>\n",
              "</div>"
            ],
            "text/plain": [
              "               W         L  Playoffs  ...      OOBP      OSLG  won_WS\n",
              "won_WS  0.270626 -0.270367   0.40075  ... -0.136051 -0.121929     1.0\n",
              "\n",
              "[1 rows x 12 columns]"
            ]
          },
          "metadata": {}
        },
        {
          "output_type": "display_data",
          "data": {
            "image/png": "[encoded data removed]",
            "text/plain": [
              "<Figure size 720x72 with 2 Axes>"
            ]
          },
          "metadata": {
            "needs_background": "light"
          }
        }
      ]
    },
    {
      "cell_type": "markdown",
      "metadata": {
        "id": "sV3kl4nasjbZ"
      },
      "source": [
        "Unsurprisingly, the more losses or runs scored against them a team had, the lower were its chances of winning the World Series overall. Interestingly though, while the final Win/Loss record does seem to impact the likelihood a team will win the World Series, the particular offensive statistics seem to have less of an impact. This is something that could be explored in more detail."
      ]
    }
  ]
}